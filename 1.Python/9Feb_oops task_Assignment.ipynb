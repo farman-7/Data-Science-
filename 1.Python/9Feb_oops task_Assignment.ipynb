{
 "cells": [
  {
   "cell_type": "code",
   "execution_count": null,
   "id": "adab25f6-476e-4cee-b5c5-eed8f8f8e559",
   "metadata": {},
   "outputs": [],
   "source": [
    "Q1, Create a vehicle class with an init method having instance variables as name_of_vehicle, max_speed\n",
    "and average_of_vehicle."
   ]
  },
  {
   "cell_type": "code",
   "execution_count": null,
   "id": "569fca0e-c026-4c1d-b3cb-de79afecb488",
   "metadata": {},
   "outputs": [],
   "source": [
    "class vechile:\n",
    "    def __init__(self,name_of_vehicle, max_speed ,average_of_vehicle):\n",
    "        self.name_of_vechile=name_of_vechile\n",
    "        self.max_speed=max_speed\n",
    "        self.average_of_vehicle=average_of_vehicle\n",
    "        \n",
    "        "
   ]
  },
  {
   "cell_type": "code",
   "execution_count": null,
   "id": "aa497b3f-cba8-44c7-979c-34ba7b2bf733",
   "metadata": {},
   "outputs": [],
   "source": [
    "Q2. Create a child class car from the vehicle class created in Que 1, which will inherit the vehicle class.\n",
    "Create a method named seating_capacity which takes capacity as an argument and returns the name of\n",
    "the vehicle and its seating capacity."
   ]
  },
  {
   "cell_type": "code",
   "execution_count": 5,
   "id": "612c1ed6-f3a3-4da9-acb5-35da87de5d3a",
   "metadata": {},
   "outputs": [
    {
     "name": "stdout",
     "output_type": "stream",
     "text": [
      "vehile capacity is :4\n",
      "vechile name is :Tata Naxon\n"
     ]
    }
   ],
   "source": [
    "class vechile:\n",
    "    def name(name_vechile):\n",
    "        print(\"vechile name is :\"+name_vechile)\n",
    "        \n",
    "class car(vechile):\n",
    "    \n",
    "    def capacity(capacity):\n",
    "        print(\"vehile capacity is :\"+str(capacity))\n",
    "\n",
    "obj=car()\n",
    "car.capacity(4)\n",
    "car.name(\"Tata Naxon\")"
   ]
  },
  {
   "cell_type": "code",
   "execution_count": null,
   "id": "1943bc27-e1e8-4a8e-8611-97caeff614ce",
   "metadata": {},
   "outputs": [],
   "source": [
    "Q3. What is multiple inheritance? Write a python code to demonstrate multiple inheritance."
   ]
  },
  {
   "cell_type": "code",
   "execution_count": 7,
   "id": "a073b671-6302-4848-869f-b1875c9a691e",
   "metadata": {},
   "outputs": [
    {
     "name": "stdout",
     "output_type": "stream",
     "text": [
      "In Class4\n",
      "In Class2\n",
      "In Class1\n",
      "In Class3\n",
      "In Class1\n"
     ]
    }
   ],
   "source": [
    "# Muliple inhertiance used to get properties and mehtods from two or more base classes \n",
    "\n",
    "\n",
    "class Class1:\n",
    "\tdef m(self):\n",
    "\t\tprint(\"In Class1\")\n",
    "\t\n",
    "class Class2(Class1):\n",
    "\tdef m(self):\n",
    "\t\tprint(\"In Class2\")\n",
    "\t\tClass1.m(self)\n",
    "\n",
    "class Class3(Class1):\n",
    "\tdef m(self):\n",
    "\t\tprint(\"In Class3\")\n",
    "\t\tClass1.m(self)\n",
    "\t\n",
    "class Class4(Class2, Class3):\n",
    "\tdef m(self):\n",
    "\t\tprint(\"In Class4\")\n",
    "\t\tClass2.m(self)\n",
    "\t\tClass3.m(self)\n",
    "\t\n",
    "obj = Class4()\n",
    "obj.m()\n"
   ]
  },
  {
   "cell_type": "code",
   "execution_count": null,
   "id": "f1860c8e-7b77-4d6d-99e5-742d5350857d",
   "metadata": {},
   "outputs": [],
   "source": [
    "Q4. What are getter and setter in python? Create a class and create a getter and a setter method in this\n",
    "class."
   ]
  },
  {
   "cell_type": "code",
   "execution_count": null,
   "id": "081a9e65-e2bf-4c4f-a195-fabd45eadb84",
   "metadata": {},
   "outputs": [],
   "source": [
    "ANS:- \n",
    "    * The main purpose of using getters and setters in object-oriented programs is to ensure data encapsulation. because we want to hide the attributes of a object class from other classes so that no accidental modification of the data happens by methods in other classes.\n",
    "    * Getters & setters to add validation logic around getting and setting a value.\n",
    "    * To avoid direct access of a class field i.e. private variables cannot be accessed directly or modified by external user."
   ]
  },
  {
   "cell_type": "code",
   "execution_count": 21,
   "id": "35e783c5-4638-42be-a13c-465e51e79315",
   "metadata": {},
   "outputs": [
    {
     "name": "stdout",
     "output_type": "stream",
     "text": [
      "32\n",
      "2019\n"
     ]
    }
   ],
   "source": [
    "class year_graduated:\n",
    "    def __init__(self, year=32):\n",
    "        self._year = year\n",
    "\n",
    "   # make the getter method\n",
    "    def get_year(self):\n",
    "        return self._year\n",
    "\n",
    "   # make the setter method\n",
    "    def set_year(self, a):\n",
    "        self._year = a\n",
    "\n",
    "grad_obj = year_graduated()\n",
    "\n",
    "# Before using setter\n",
    "print(grad_obj.get_year())\n",
    "\n",
    "# # After using setter\n",
    "grad_obj.set_year(2019)\n",
    "print(grad_obj._year)\n",
    "     "
   ]
  },
  {
   "cell_type": "code",
   "execution_count": null,
   "id": "867d901f-d2c9-46cc-9d20-cf030b0a8e7e",
   "metadata": {},
   "outputs": [],
   "source": [
    "Q5.What is method overriding in python? Write a python code to demonstrate method overriding."
   ]
  },
  {
   "cell_type": "code",
   "execution_count": null,
   "id": "41f16d69-ad9c-4110-a7a6-f21b2e6d91a1",
   "metadata": {},
   "outputs": [],
   "source": [
    "ANS:- \n",
    "    Method overriding is an ability of any object-oriented programming language that allows a subclass or child class to provide a specific implementation of a\n",
    "    method that is already provided by one of its super-classes or parent classes. When a method in a subclass has the same name, same parameters or signature \n",
    "    and same return type(or sub-type) as a method in its super-class, then the method in the subclass is said to override the method in the super-class."
   ]
  },
  {
   "cell_type": "code",
   "execution_count": null,
   "id": "819e47a3-4e79-4e81-99f5-510ae8289121",
   "metadata": {},
   "outputs": [],
   "source": []
  },
  {
   "cell_type": "code",
   "execution_count": null,
   "id": "4c425259-7e24-44f6-859d-a5dfc81942d7",
   "metadata": {},
   "outputs": [],
   "source": []
  }
 ],
 "metadata": {
  "kernelspec": {
   "display_name": "Python 3 (ipykernel)",
   "language": "python",
   "name": "python3"
  },
  "language_info": {
   "codemirror_mode": {
    "name": "ipython",
    "version": 3
   },
   "file_extension": ".py",
   "mimetype": "text/x-python",
   "name": "python",
   "nbconvert_exporter": "python",
   "pygments_lexer": "ipython3",
   "version": "3.10.8"
  }
 },
 "nbformat": 4,
 "nbformat_minor": 5
}
