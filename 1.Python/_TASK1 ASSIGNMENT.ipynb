{
 "cells": [
  {
   "cell_type": "code",
   "execution_count": null,
   "id": "e5a0ea3b-abd0-45f0-9345-1208a3da88f7",
   "metadata": {},
   "outputs": [],
   "source": [
    "Q1. Create a function which will take a list as an argument and return the product of all the numbers\n",
    "after creating a flat list.\n",
    "Use the below-given list as an argument for your function.\n",
    "list1 = [1,2,3,4, [44,55,66, True], False, (34,56,78,89,34), {1,2,3,3,2,1}, {1:34, \"key2\": [55, 67, 78, 89], 4: (45,22, 61, 34)}, [56, 'data science'], 'Machine Learning']\n",
    "\n",
    "Note: you must extract numeric keys and values of the dictionary also."
   ]
  },
  {
   "cell_type": "code",
   "execution_count": 1,
   "id": "7a5ac40f-1a09-4d27-90f7-471da52df8aa",
   "metadata": {},
   "outputs": [
    {
     "name": "stdout",
     "output_type": "stream",
     "text": [
      "product: 4134711838987085478833841242112000\n"
     ]
    }
   ],
   "source": [
    "def flatlist(list1):\n",
    "    flist = []\n",
    "    for i in list1:\n",
    "        if type(i)==list or type(i)==tuple or type(i)==set:\n",
    "            for element in i :\n",
    "                flist.append(element)\n",
    "        elif type(i)==dict:\n",
    "            temp_list=list(i.items())\n",
    "            for i in temp_list:\n",
    "                for element in i :\n",
    "                    if type(element)==list or type(element)==tuple:\n",
    "                        for j in element:\n",
    "                            flist.append(j)\n",
    "                    else:\n",
    "                        flist.append(element)\n",
    "        else:\n",
    "            flist.append(i)\n",
    "    product = 1 \n",
    "    for i in flist:\n",
    "        if type(i)==int:\n",
    "            product = product * i\n",
    "    return product\n",
    "list1 = [1,2,3,4, [44,55,66, True], False, (34,56,78,89,34), {1,2,3,3,2,1}, {1:34, \"key2\": [55, 67, 78, 89], 4: (45,22, 61, 34)}, [56, 'data science'], 'Machine Learning']\n",
    "product = flatlist(list1)\n",
    "print(\"product:\",product)"
   ]
  },
  {
   "cell_type": "code",
   "execution_count": null,
   "id": "d36cb056-9351-4a61-93a6-bd7f76f3e9b6",
   "metadata": {},
   "outputs": [],
   "source": [
    "Q2. Write a python program for encrypting a message sent to you by your friend. The logic of encryption\n",
    "should be such that, for a the output should be z. For b, the output should be y. For c, the output should\n",
    "be x respectively. Also, the whitespace should be replaced with a dollar sign. Keep the punctuation\n",
    "marks unchanged.\n",
    "\n",
    "Input Sentence: I want to become a Data Scientist.\n",
    "\n",
    "Encrypt the above input sentence using the program you just created.\n",
    "\n",
    "Note: Convert the given input sentence into lowercase before encrypting. The final output should be lowercase."
   ]
  },
  {
   "cell_type": "code",
   "execution_count": 1,
   "id": "a225b98a-df14-4379-b31e-70f8e4eef4b5",
   "metadata": {},
   "outputs": [
    {
     "name": "stdout",
     "output_type": "stream",
     "text": [
      "r$dzmg$gl$yvxlnv$z$wzgz$hxrvmgrhg.\n"
     ]
    }
   ],
   "source": [
    "def encrypt(message):\n",
    "    # Initialize an empty string to store the encrypted message\n",
    "    encrypted = \"\"\n",
    "\n",
    "    # Loop through each character in the message\n",
    "    for char in message:\n",
    "        # If the character is a whitespace, replace it with a dollar sign\n",
    "        if char == \" \":\n",
    "            encrypted += \"$\"\n",
    "        # If the character is a lowercase letter, encrypt it using the formula described\n",
    "        elif char.islower():\n",
    "            encrypted += chr(ord(\"a\") + (ord(\"z\") - ord(char)))\n",
    "        # If the character is an uppercase letter, convert it to lowercase and encrypt it\n",
    "        elif char.isupper():\n",
    "            encrypted += chr(ord(\"a\") + (ord(\"z\") - ord(char.lower())))\n",
    "        # If the character is not a letter or a whitespace, leave it unchanged\n",
    "        else:\n",
    "            encrypted += char\n",
    "\n",
    "    return encrypted\n",
    "\n",
    "# Test the function with the given input sentence\n",
    "message = \"I want to become a Data Scientist.\"\n",
    "encrypted = encrypt(message)\n",
    "print(encrypted)"
   ]
  },
  {
   "cell_type": "code",
   "execution_count": null,
   "id": "c289aec3-43d4-4b32-8cf3-dd109a4f44c1",
   "metadata": {},
   "outputs": [],
   "source": []
  }
 ],
 "metadata": {
  "kernelspec": {
   "display_name": "Python 3 (ipykernel)",
   "language": "python",
   "name": "python3"
  },
  "language_info": {
   "codemirror_mode": {
    "name": "ipython",
    "version": 3
   },
   "file_extension": ".py",
   "mimetype": "text/x-python",
   "name": "python",
   "nbconvert_exporter": "python",
   "pygments_lexer": "ipython3",
   "version": "3.10.8"
  }
 },
 "nbformat": 4,
 "nbformat_minor": 5
}
