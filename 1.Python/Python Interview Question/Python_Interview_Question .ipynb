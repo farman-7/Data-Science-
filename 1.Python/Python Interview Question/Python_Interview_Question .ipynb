{
 "cells": [
  {
   "cell_type": "markdown",
   "id": "133fdf99-22bf-4b2c-9b42-9b5bcadceabd",
   "metadata": {},
   "source": [
    "## 1. Write a Python program to reverse a string without using any built-in string reversal functions.\n"
   ]
  },
  {
   "cell_type": "code",
   "execution_count": 4,
   "id": "86db9d22-013a-4ed1-97a0-4ad64556fce2",
   "metadata": {},
   "outputs": [
    {
     "name": "stdout",
     "output_type": "stream",
     "text": [
      "The original string is : pwskills\n",
      "The reversed string(using reversed) is : sllikswp\n"
     ]
    }
   ],
   "source": [
    "\n",
    "def reverse(string):\n",
    "\tstring = string[::-1]\n",
    "\treturn string\n",
    "\n",
    "s = \"pwskills\"\n",
    "\n",
    "print(\"The original string is : \", end=\"\")\n",
    "print(s)\n",
    "\n",
    "print(\"The reversed string(using reversed) is : \", end=\"\")\n",
    "print(reverse(s))\n"
   ]
  },
  {
   "cell_type": "markdown",
   "id": "9fc97f86-c0d0-4083-9109-26b7905b17e3",
   "metadata": {},
   "source": [
    "##  2.Implement a function to check if a given string is a palindrome.\n"
   ]
  },
  {
   "cell_type": "code",
   "execution_count": 30,
   "id": "9d01aba2-f593-4438-a9ea-4487874d7431",
   "metadata": {},
   "outputs": [
    {
     "name": "stdout",
     "output_type": "stream",
     "text": [
      "Yes\n"
     ]
    }
   ],
   "source": [
    "\n",
    "\n",
    "def isPalindrome(s):\n",
    "\treturn s == s[::-1]\n",
    "\n",
    "s = \"malayalam\"\n",
    "ans = isPalindrome(s)\n",
    "\n",
    "if ans:\n",
    "\tprint(\"Yes\")\n",
    "else:\n",
    "\tprint(\"No\")\n"
   ]
  },
  {
   "cell_type": "markdown",
   "id": "937318bd-d29a-4edb-a2b7-a9f75b917210",
   "metadata": {},
   "source": [
    "## 3. Write a program to find the largest element in a given list."
   ]
  },
  {
   "cell_type": "code",
   "execution_count": 8,
   "id": "41648067-ad94-47fa-90b7-a67b8a267b2f",
   "metadata": {},
   "outputs": [
    {
     "name": "stdout",
     "output_type": "stream",
     "text": [
      "Largest element is: 104\n"
     ]
    }
   ],
   "source": [
    "\n",
    "list1 = [10, 20, 4,104, 45, 99]\n",
    "print(\"Largest element is:\", max(list1))\n"
   ]
  },
  {
   "cell_type": "markdown",
   "id": "a9b16472-bbfd-45f0-813b-b62b0fa3a138",
   "metadata": {},
   "source": [
    "## 4. Implement a function to count the occurrence of each element in a list.\n"
   ]
  },
  {
   "cell_type": "code",
   "execution_count": 31,
   "id": "5d274459-3bda-4a91-8b00-80c164bb88f3",
   "metadata": {},
   "outputs": [
    {
     "name": "stdout",
     "output_type": "stream",
     "text": [
      "Element Count\n",
      "2    3\n",
      "1    2\n",
      "3    2\n",
      "4    2\n",
      "5    2\n",
      "dtype: int64\n"
     ]
    }
   ],
   "source": [
    "import pandas as pd\n",
    "\n",
    "l = [1, 1, 2, 2, 2, 3, 3, 4, 4, 5, 5]\n",
    "\n",
    "count = pd.Series(l).value_counts()\n",
    "print(\"Element Count\")\n",
    "print(count)\n"
   ]
  },
  {
   "cell_type": "markdown",
   "id": "364f0fcc-4a71-415f-98e3-966e1f98b838",
   "metadata": {},
   "source": [
    "## 5. Write a Python program to find the second largest number in a list.\n"
   ]
  },
  {
   "cell_type": "code",
   "execution_count": 16,
   "id": "f0ed0cb4-3a75-466f-a801-1c080d3d82cd",
   "metadata": {},
   "outputs": [
    {
     "name": "stdout",
     "output_type": "stream",
     "text": [
      "The 2nd largest number of the given list is : 16\n"
     ]
    }
   ],
   "source": [
    "l1=[65,8,12,9,16,2,5]\n",
    "l1.sort()\n",
    "print(\"The 2nd largest number of the given list is :\",l1[-2])"
   ]
  },
  {
   "cell_type": "code",
   "execution_count": 17,
   "id": "e580f889-5c65-4488-8c80-0a81569bc2ae",
   "metadata": {},
   "outputs": [],
   "source": [
    "## 6. Implement a function to remove duplicate elements from a list."
   ]
  },
  {
   "cell_type": "code",
   "execution_count": 40,
   "id": "4793ddbd-dbe6-47e7-a8bf-4e1b1eede748",
   "metadata": {},
   "outputs": [
    {
     "name": "stdout",
     "output_type": "stream",
     "text": [
      "This is previous list:- [1, 1, 2, 3, 2, 2, 4, 5, 6, 2, 1]\n",
      "This is new lists:- {1, 2, 3, 4, 5, 6}\n"
     ]
    }
   ],
   "source": [
    "my_list = [1,1,2,3,2,2,4,5,6,2,1]\n",
    "my_final_list = set(my_list)\n",
    "print(\"This is previous list:-\" ,my_list)\n",
    "print(\"This is new lists:-\",my_final_list)"
   ]
  },
  {
   "cell_type": "markdown",
   "id": "42840e48-5e24-41d8-93e9-372790dba37d",
   "metadata": {},
   "source": [
    "## 7. Write a program to calculate the factorial of a given number."
   ]
  },
  {
   "cell_type": "code",
   "execution_count": 41,
   "id": "d4004f14-48d9-4d75-82ed-0ef8b2b1fde8",
   "metadata": {},
   "outputs": [
    {
     "name": "stdin",
     "output_type": "stream",
     "text": [
      "inter the number 5\n"
     ]
    },
    {
     "name": "stdout",
     "output_type": "stream",
     "text": [
      "Factorial of 5 is 120\n"
     ]
    }
   ],
   "source": [
    "num=int(input(\"inter the number\"))\n",
    "def factorial(n):\n",
    "\t\n",
    "\tres = 1\n",
    "\t\n",
    "\tfor i in range(2, n+1):\n",
    "\t\tres *= i\n",
    "\treturn res\n",
    "print(\"Factorial of\", num, \"is\",\n",
    "factorial(num))\n"
   ]
  },
  {
   "cell_type": "markdown",
   "id": "891193f5-702a-4804-b666-01cb3b2d68fd",
   "metadata": {},
   "source": [
    "## 8. Implement a function to check if a given number is prime."
   ]
  },
  {
   "cell_type": "code",
   "execution_count": 9,
   "id": "31b5f4ac-e652-4913-92db-443cf1c2e591",
   "metadata": {},
   "outputs": [
    {
     "name": "stdin",
     "output_type": "stream",
     "text": [
      "Enter any number:  12\n"
     ]
    },
    {
     "name": "stdout",
     "output_type": "stream",
     "text": [
      "12 is not a prime number\n"
     ]
    }
   ],
   "source": [
    "number = int(input(\"Enter any number: \"))\n",
    "if number > 1:\n",
    "    for i in range(2, number):\n",
    "        if (number % i) == 0:\n",
    "            print(number, \"is not a prime number\")\n",
    "            break\n",
    "    else:\n",
    "        print(number, \"is a prime number\")\n",
    "else:\n",
    "    print(number, \"is not a prime number\")"
   ]
  },
  {
   "cell_type": "markdown",
   "id": "0ec1f67a-a278-4f6f-af99-0a0b879e2928",
   "metadata": {},
   "source": [
    "## 9. Write a Python program to sort a list of integers in ascending order."
   ]
  },
  {
   "cell_type": "code",
   "execution_count": 12,
   "id": "1d6c6872-eaae-443c-9bc4-5b8802b69a7a",
   "metadata": {},
   "outputs": [
    {
     "data": {
      "text/plain": [
       "[2, 5, 8, 9, 12, 16, 65]"
      ]
     },
     "execution_count": 12,
     "metadata": {},
     "output_type": "execute_result"
    }
   ],
   "source": [
    "list=[65,8,12,9,16,2,5]\n",
    "list.sort()\n",
    "list"
   ]
  },
  {
   "cell_type": "markdown",
   "id": "2f6fd352-e314-4e43-bfc9-b8ee5ebec0c1",
   "metadata": {},
   "source": [
    "## 10. Implement a function to find the sum of all numbers in a list."
   ]
  },
  {
   "cell_type": "code",
   "execution_count": 16,
   "id": "27a407df-7b5e-4973-9b00-f3b4dfafd437",
   "metadata": {},
   "outputs": [
    {
     "name": "stdout",
     "output_type": "stream",
     "text": [
      "Sum of all elements in given list:  117\n"
     ]
    }
   ],
   "source": [
    "list=[65,8,12,9,16,2,5]\n",
    "total=sum(list)\n",
    "print(\"Sum of all elements in given list: \", total)"
   ]
  },
  {
   "cell_type": "markdown",
   "id": "c3855a14-4fb5-4a2a-bb93-d0d1f4eb2b78",
   "metadata": {},
   "source": [
    "## 11.Write a program to find the common elements between two lists."
   ]
  },
  {
   "cell_type": "code",
   "execution_count": 50,
   "id": "854d36cf-3b32-4a54-98cc-721d74946b8f",
   "metadata": {},
   "outputs": [
    {
     "name": "stdout",
     "output_type": "stream",
     "text": [
      "Common element of list1 , list2 is:-\n",
      "{2, 5}\n"
     ]
    }
   ],
   "source": [
    "list1=[2,9,4,5]\n",
    "list2=[3,5,7,2]\n",
    "print(\"Common element of list1 , list2 is:-\")\n",
    "print(set(list1).intersection(list2))"
   ]
  },
  {
   "cell_type": "markdown",
   "id": "cff9334c-9701-4bb4-acb3-8f0a88addd58",
   "metadata": {},
   "source": [
    "## 12. Implement a function to check if a given string is an anagram of another string."
   ]
  },
  {
   "cell_type": "code",
   "execution_count": 52,
   "id": "0e78944b-b61d-4b3f-87b3-74b56c998b8f",
   "metadata": {},
   "outputs": [
    {
     "name": "stdout",
     "output_type": "stream",
     "text": [
      "The two strings are not anagram of each other\n"
     ]
    }
   ],
   "source": [
    "class Solution:\n",
    " \n",
    "    def isAnagram(self, a, b):\n",
    " \n",
    "        if sorted(a) == sorted(b):\n",
    "            return True\n",
    "        else:\n",
    "            return False\n",
    " \n",
    " \n",
    "if __name__ == '__main__':\n",
    "    a = \"gram\"\n",
    "    b = \"arm\"\n",
    "    if(Solution().isAnagram(a, b)):\n",
    "        print(\"The two strings are anagram of each other\")\n",
    "    else:\n",
    "        print(\"The two strings are not anagram of each other\")"
   ]
  },
  {
   "cell_type": "markdown",
   "id": "7c56dfb6-29fd-412c-b5ae-c082de72a56d",
   "metadata": {},
   "source": [
    "## 13. Write a Python program to generate all permutations of a given string."
   ]
  },
  {
   "cell_type": "code",
   "execution_count": 53,
   "id": "170ea303-a354-4cd9-b2b5-e1c0d1d5d513",
   "metadata": {},
   "outputs": [
    {
     "name": "stdout",
     "output_type": "stream",
     "text": [
      "ABC\n",
      "ACB\n",
      "BAC\n",
      "BCA\n",
      "CBA\n",
      "CAB\n"
     ]
    }
   ],
   "source": [
    "def toString(List):\n",
    "\treturn ''.join(List)\n",
    "\n",
    "def permute(a, l, r):\n",
    "\tif l == r:\n",
    "\t\tprint (toString(a))\n",
    "\telse:\n",
    "\t\tfor i in range(l, r + 1):\n",
    "\t\t\ta[l], a[i] = a[i], a[l]\n",
    "\t\t\tpermute(a, l + 1, r)\n",
    "\n",
    "\t\t\ta[l], a[i] = a[i], a[l]\n",
    "\n",
    "string = \"ABC\"\n",
    "n = len(string)\n",
    "a = list(string)\n",
    "permute(a, 0, n-1)\n",
    "\n"
   ]
  },
  {
   "cell_type": "markdown",
   "id": "792e53b9-3259-4aff-8a7c-30a823c7731d",
   "metadata": {},
   "source": [
    "## 14. Implement a function to calculate the Fibonacci sequence up to a given number of terms."
   ]
  },
  {
   "cell_type": "code",
   "execution_count": 33,
   "id": "49d9f684-9305-4ade-be94-fa7fc2fbb17f",
   "metadata": {},
   "outputs": [
    {
     "name": "stdout",
     "output_type": "stream",
     "text": [
      "10 th Fibonacci Number: \n",
      "55\n"
     ]
    }
   ],
   "source": [
    "def fibonacci(n):\n",
    "    if n <= 1:\n",
    "        return n\n",
    "    return fibonacci(n-1) + fibonacci(n-2)\n",
    "if __name__ == \"__main__\":\n",
    "    n = 10\n",
    "print(n, \"th Fibonacci Number: \")\n",
    "print(fibonacci(n))"
   ]
  },
  {
   "cell_type": "markdown",
   "id": "ff5c8c39-9987-4f02-8368-071f2f029f38",
   "metadata": {},
   "source": [
    "## 15. Write a program to find the median of a list of numbers."
   ]
  },
  {
   "cell_type": "code",
   "execution_count": 34,
   "id": "400bc8d1-a305-4dd3-ba2b-c360cd355310",
   "metadata": {},
   "outputs": [
    {
     "name": "stdout",
     "output_type": "stream",
     "text": [
      "The original list : [4, 5, 8, 9, 10, 17]\n",
      "Median of list is : 8.5\n"
     ]
    }
   ],
   "source": [
    "test_list = [4, 5, 8, 9, 10, 17]\n",
    "# Print the original list\n",
    "print(\"The original list : \" + str(test_list))\n",
    "# sorting the list\n",
    "test_list.sort()\n",
    "# finding the median\n",
    "n = len(test_list)\n",
    "if n % 2 == 0:\n",
    "\tmedian = (test_list[n//2 - 1] + test_list[n//2]) / 2\n",
    "else:\n",
    "\tmedian = test_list[n//2]\n",
    "# Print the median of the list\n",
    "print(\"Median of list is : \" + str(median))\n"
   ]
  },
  {
   "cell_type": "markdown",
   "id": "1292e9d8-ec52-47c4-a4d7-54328e37a927",
   "metadata": {},
   "source": [
    "## 16. Implement a function to check if a given list is sorted in non-decreasing order."
   ]
  },
  {
   "cell_type": "code",
   "execution_count": 1,
   "id": "b8aa1179-6587-403a-be07-90667b8d9e7d",
   "metadata": {},
   "outputs": [
    {
     "name": "stdout",
     "output_type": "stream",
     "text": [
      "Original list : [10, 4, 5, 8, 10]\n",
      "No, List is not sorted.\n"
     ]
    }
   ],
   "source": [
    "test_list = [10, 4, 5, 8, 10]\n",
    " \n",
    "# printing original list\n",
    "print (\"Original list : \" + str(test_list))\n",
    " \n",
    "# using sort() to\n",
    "# check sorted list\n",
    "flag = 0\n",
    "test_list1 = test_list[:]\n",
    "test_list1.sort()\n",
    "if (test_list1 == test_list):\n",
    "    flag = 1\n",
    "     \n",
    "# printing result\n",
    "if (flag) :\n",
    "    print (\"Yes, List is sorted.\")\n",
    "else :\n",
    "    print (\"No, List is not sorted.\")"
   ]
  },
  {
   "cell_type": "code",
   "execution_count": 2,
   "id": "6c889836-cadc-4626-a0cc-1bb50119c845",
   "metadata": {},
   "outputs": [],
   "source": [
    "## 17. Write a Python program to find the intersection of two lists."
   ]
  },
  {
   "cell_type": "code",
   "execution_count": 3,
   "id": "9a50d6f3-3651-4791-82b2-eea83f28fd69",
   "metadata": {},
   "outputs": [
    {
     "name": "stdout",
     "output_type": "stream",
     "text": [
      "[9, 10, 4, 5]\n"
     ]
    }
   ],
   "source": [
    "def intersection(lst1, lst2):\n",
    "    return list(set(lst1) & set(lst2))\n",
    " \n",
    "# Driver Code\n",
    "lst1 = [15, 9, 10, 56, 23, 78, 5, 4, 9]\n",
    "lst2 = [9, 4, 5, 36, 47, 26, 10, 45, 87]\n",
    "print(intersection(lst1, lst2))"
   ]
  },
  {
   "cell_type": "markdown",
   "id": "17bd673c-249e-4eff-a4cd-9f0011c486ad",
   "metadata": {},
   "source": [
    "## 18. Implement a function to find the maximum subarray sum in a given list."
   ]
  },
  {
   "cell_type": "code",
   "execution_count": 59,
   "id": "83a0bb94-a7ad-46ea-abb1-e811c42f489a",
   "metadata": {},
   "outputs": [
    {
     "name": "stdout",
     "output_type": "stream",
     "text": [
      "6 -2 -3 1 5 "
     ]
    }
   ],
   "source": [
    "def SubarrayWithMaxSum(nums):\n",
    "    \n",
    "    currMax = nums[0]\n",
    "    globalMax = nums[0]\n",
    " \n",
    "    for i in range(1, len(nums)):\n",
    " \n",
    "        \n",
    "        currMax = max(nums[i],\n",
    "                      nums[i] + currMax)\n",
    " \n",
    "        \n",
    "        if (currMax > globalMax):\n",
    "            globalMax = currMax\n",
    "            endIndex = i\n",
    "     \n",
    "    startIndex = endIndex\n",
    " \n",
    "    while (startIndex >= 0):\n",
    "        globalMax -= nums[startIndex]\n",
    " \n",
    "        if (globalMax == 0):\n",
    "            break\n",
    " \n",
    "        \n",
    "        startIndex -= 1\n",
    "   \n",
    "    for i in range(startIndex, endIndex + 1):\n",
    "        print(nums[i], end = \" \")\n",
    "     \n",
    "    \n",
    "arr = [ -2, -5, 6, -2,\n",
    "        -3, 1, 5, -6 ]\n",
    " \n",
    "SubarrayWithMaxSum(arr)\n",
    " "
   ]
  },
  {
   "cell_type": "markdown",
   "id": "0f8ecac0-9613-4f2c-9685-78c34254287c",
   "metadata": {},
   "source": [
    "## 19. Write a program to remove all vowels from a given string."
   ]
  },
  {
   "cell_type": "code",
   "execution_count": 7,
   "id": "027d7d85-26b8-4385-a269-b3b9ca3f59c0",
   "metadata": {},
   "outputs": [
    {
     "name": "stdin",
     "output_type": "stream",
     "text": [
      "Enter String:  my name is md farman\n"
     ]
    },
    {
     "name": "stdout",
     "output_type": "stream",
     "text": [
      "\n",
      "Without Vowels = my nm s md frmn\n"
     ]
    }
   ],
   "source": [
    "text = input(\"Enter String: \")\n",
    "\n",
    "vowels = ['a', 'e', 'i', 'o', 'u', 'A', 'E', 'I', 'O', 'U']\n",
    "for c in text:\n",
    "    if c in vowels:\n",
    "        text = text.replace(c, \"\")\n",
    "\n",
    "print(\"\\nWithout Vowels =\", text)"
   ]
  },
  {
   "cell_type": "markdown",
   "id": "49cb7cc0-5f16-42b4-bf37-de4ee4f6af8a",
   "metadata": {},
   "source": [
    "## 20. Implement a function to reverse the order of words in a given sentence."
   ]
  },
  {
   "cell_type": "code",
   "execution_count": 76,
   "id": "fafab8d9-ab99-4b6c-99e7-35b1a52eb258",
   "metadata": {},
   "outputs": [
    {
     "name": "stdin",
     "output_type": "stream",
     "text": [
      "Enter the word I'm farman and i'm data science student\n"
     ]
    },
    {
     "name": "stdout",
     "output_type": "stream",
     "text": [
      "student science data i'm and farman I'm\n"
     ]
    }
   ],
   "source": [
    "s = input(\"Enter the word\")\n",
    "words = s.split(' ')\n",
    "string = []\n",
    "for word in words:\n",
    "    string.insert(0, word)\n",
    "print(\" \".join(string))"
   ]
  },
  {
   "cell_type": "markdown",
   "id": "f0b920be-6472-431f-aa3a-a1016a3ea2a5",
   "metadata": {},
   "source": [
    "## 21. Write a Python program to check if two strings are anagrams of each other."
   ]
  },
  {
   "cell_type": "code",
   "execution_count": 80,
   "id": "c5dd9ca7-c316-4990-a666-5b9ac1a09954",
   "metadata": {},
   "outputs": [
    {
     "name": "stdout",
     "output_type": "stream",
     "text": [
      "race and care are anagram.\n"
     ]
    }
   ],
   "source": [
    "str1 = \"Race\"\n",
    "str2 = \"Care\"\n",
    "\n",
    "str1 = str1.lower()\n",
    "str2 = str2.lower()\n",
    "\n",
    "if(len(str1) == len(str2)):\n",
    "    sorted_str1 = sorted(str1)\n",
    "    sorted_str2 = sorted(str2)\n",
    "\n",
    "    if(sorted_str1 == sorted_str2):\n",
    "        print(str1 + \" and \" + str2 + \" are anagram.\")\n",
    "    else:\n",
    "        print(str1 + \" and \" + str2 + \" are not anagram.\")\n",
    "\n",
    "else:\n",
    "    print(str1 + \" and \" + str2 + \" are not anagram.\")"
   ]
  },
  {
   "cell_type": "markdown",
   "id": "b264b550-66e9-4702-8305-4fd09bd93808",
   "metadata": {},
   "source": [
    "## 22. Implement a function to find the first non-repeating character in a string."
   ]
  },
  {
   "cell_type": "code",
   "execution_count": 81,
   "id": "c6aa1c2b-07a8-41fd-8018-a9ab91763eb7",
   "metadata": {},
   "outputs": [
    {
     "name": "stdout",
     "output_type": "stream",
     "text": [
      "First non-repeating character is p\n"
     ]
    }
   ],
   "source": [
    "string = \"pwskills\"\n",
    "index = -1\n",
    "fnc = \"\"\n",
    " \n",
    "if len(string) == 0 :\n",
    "    print(\"EMTPY STRING\");\n",
    "for i in string:\n",
    "    if string.count(i) == 1:\n",
    "        fnc += i\n",
    "        break\n",
    "    else:\n",
    "        index += 1\n",
    "if index == len(string)-1 :\n",
    "    print(\"All characters are repeating \")\n",
    "else:\n",
    "    print(\"First non-repeating character is\", fnc)"
   ]
  },
  {
   "cell_type": "markdown",
   "id": "b0094391-abd7-4350-ac69-7b6b3ed95257",
   "metadata": {},
   "source": [
    "## 23. Write a program to find the prime factors of a given number.\n"
   ]
  },
  {
   "cell_type": "code",
   "execution_count": 86,
   "id": "64be5061-3c5b-4243-b20b-d61be7a3b1c0",
   "metadata": {},
   "outputs": [
    {
     "name": "stdout",
     "output_type": "stream",
     "text": [
      "3\n",
      "3\n",
      "5\n",
      "7\n"
     ]
    }
   ],
   "source": [
    "import math\n",
    " \n",
    "def primeFactors(n):\n",
    "    while n % 2 == 0:\n",
    "        print(2)\n",
    "        n = n // 2\n",
    "         \n",
    "    for i in range(3,int(math.sqrt(n))+1,2):\n",
    "        while n % i== 0:\n",
    "            print(i)\n",
    "            n = n // i\n",
    "             \n",
    "    if n > 2:\n",
    "        print(n)\n",
    "n = 315\n",
    "primeFactors(n)"
   ]
  },
  {
   "cell_type": "markdown",
   "id": "439ddd94-d8cd-4acc-870e-1524a70dbd41",
   "metadata": {},
   "source": [
    "## 24. Implement a function to check if a given number is a power of two."
   ]
  },
  {
   "cell_type": "code",
   "execution_count": 18,
   "id": "efadb9ee-e833-4931-b38e-58df41a0d511",
   "metadata": {},
   "outputs": [
    {
     "name": "stdout",
     "output_type": "stream",
     "text": [
      "No\n",
      "Yes\n"
     ]
    }
   ],
   "source": [
    "def isPowerOfTwo(n):\n",
    "    if (n == 0):\n",
    "        return False\n",
    "    while (n != 1):\n",
    "        if (n % 2 != 0):\n",
    "            return False\n",
    "        n = n // 2\n",
    " \n",
    "    return True\n",
    "\n",
    "if __name__ == \"__main__\":\n",
    " \n",
    "    # Function call\n",
    "    if(isPowerOfTwo(31)):\n",
    "        print('Yes')\n",
    "    else:\n",
    "        print('No')\n",
    "    if(isPowerOfTwo(64)):\n",
    "        print('Yes')\n",
    "    else:\n",
    "        print('No')\n",
    " "
   ]
  },
  {
   "cell_type": "markdown",
   "id": "4ce5a92f-b3e2-41ef-95d5-6a54758fa781",
   "metadata": {},
   "source": [
    "## 25. Write a Python program to merge two sorted lists into a single sorted list.\n"
   ]
  },
  {
   "cell_type": "code",
   "execution_count": 88,
   "id": "ff4f9053-811e-45d9-a595-4c2c44a69920",
   "metadata": {},
   "outputs": [
    {
     "name": "stdout",
     "output_type": "stream",
     "text": [
      "0 1 2 3 4 5 "
     ]
    }
   ],
   "source": [
    "import math\n",
    "class Node:\n",
    "\tdef __init__(self, data):\n",
    "\t\tself.data = data\n",
    "\t\tself.next = None\n",
    "\n",
    "def newNode(key):\n",
    "\ttemp = Node(key)\n",
    "\ttemp.data = key\n",
    "\ttemp.next = None\n",
    "\treturn temp\n",
    "\n",
    "def printList(node):\n",
    "\twhile (node != None):\n",
    "\t\tprint(node.data,\n",
    "\t\t\tend = \" \")\n",
    "\t\tnode = node.next\n",
    "\n",
    "def merge(h1, h2):\n",
    "\tif (h1 == None):\n",
    "\t\treturn h2\n",
    "\tif (h2 == None):\n",
    "\t\treturn h1\n",
    "\n",
    "\tif (h1.data < h2.data):\n",
    "\t\th1.next = merge(h1.next, h2)\n",
    "\t\treturn h1\n",
    "\t\n",
    "\telse:\n",
    "\t\th2.next = merge(h1, h2.next)\n",
    "\t\treturn h2\n",
    "\t\n",
    "if __name__=='__main__':\n",
    "\thead1 = newNode(1)\n",
    "\thead1.next = newNode(3)\n",
    "\thead1.next.next = newNode(5)\n",
    "\n",
    "\thead2 = newNode(0)\n",
    "\thead2.next = newNode(2)\n",
    "\thead2.next.next = newNode(4)\n",
    "\n",
    "\tmergedhead = merge(head1, head2)\n",
    "\n",
    "\tprintList(mergedhead)\n"
   ]
  },
  {
   "cell_type": "markdown",
   "id": "6e33ea26-22b3-4422-9c99-95354efad4be",
   "metadata": {},
   "source": [
    "## 26. Implement a function to find the mode of a list of numbers."
   ]
  },
  {
   "cell_type": "code",
   "execution_count": 3,
   "id": "1848b78b-9b04-46c8-9163-3589e40c4467",
   "metadata": {},
   "outputs": [
    {
     "name": "stdout",
     "output_type": "stream",
     "text": [
      "{8, 2, 4, 5}\n"
     ]
    }
   ],
   "source": [
    "number_list = [1, 2, 2, 3, 4, 4, 5, 5, 6, 7, 8, 8, 8]\n",
    "uniq_values = []\n",
    "mode_values = []\n",
    "for i in number_list:\n",
    "\tif i not in uniq_values:\n",
    "\t\tuniq_values.append(i)\n",
    "\telse:\n",
    "\t\tmode_values.append(i)\n",
    "print(set(mode_values))\n"
   ]
  },
  {
   "cell_type": "markdown",
   "id": "84b9a96d-28a3-481d-a37c-6ec1d2898522",
   "metadata": {},
   "source": [
    "## 27. Write a program to find the greatest common divisor (GCD) of two numbers."
   ]
  },
  {
   "cell_type": "code",
   "execution_count": 89,
   "id": "55aef99c-5386-4169-b924-59177bc1033d",
   "metadata": {},
   "outputs": [
    {
     "name": "stdout",
     "output_type": "stream",
     "text": [
      "GCD of 98 and 56 is 14\n"
     ]
    }
   ],
   "source": [
    "def gcd(a,b):\n",
    "     \n",
    "    # Everything divides 0\n",
    "    if (b == 0):\n",
    "         return a\n",
    "    return gcd(b, a%b)\n",
    "\n",
    "a = 98\n",
    "b = 56\n",
    "if(gcd(a, b)):\n",
    "    print('GCD of', a, 'and', b, 'is', gcd(a, b))\n",
    "else:\n",
    "    print('not found')"
   ]
  },
  {
   "cell_type": "markdown",
   "id": "1f1a7a86-dbc3-4a63-8297-813ce1202ee3",
   "metadata": {},
   "source": [
    "## 28. Implement a function to calculate the square root of a given number."
   ]
  },
  {
   "cell_type": "code",
   "execution_count": 2,
   "id": "762a36a7-0602-4cf5-aa9f-43cdf44117e0",
   "metadata": {},
   "outputs": [
    {
     "name": "stdout",
     "output_type": "stream",
     "text": [
      "3\n"
     ]
    }
   ],
   "source": [
    "def countSquares(x):\n",
    "\tsqrt = x**0.5\n",
    "\tresult = int(sqrt)\n",
    "\treturn result\n",
    "\n",
    "\n",
    "x = 9\n",
    "print(countSquares(x))\n"
   ]
  },
  {
   "cell_type": "markdown",
   "id": "83400c35-4986-4fbd-a5b2-a13ed7827cb6",
   "metadata": {},
   "source": [
    "## 29. Write a Python program to check if a given string is a valid palindrome ignoring non-alphanumeric characters."
   ]
  },
  {
   "cell_type": "code",
   "execution_count": 4,
   "id": "0c7976cd-c3cb-4591-9118-0ca95afa568b",
   "metadata": {},
   "outputs": [
    {
     "name": "stdout",
     "output_type": "stream",
     "text": [
      "No\n"
     ]
    }
   ],
   "source": [
    "def isPalindrome(s):\n",
    "    return s == s[::-1]\n",
    "s = \"pwskills\"\n",
    "ans = isPalindrome(s)\n",
    " \n",
    "if ans:\n",
    "    print(\"Yes\")\n",
    "else:\n",
    "    print(\"No\")"
   ]
  },
  {
   "cell_type": "markdown",
   "id": "8c2b2877-a005-4e62-b99b-f1f273154e5e",
   "metadata": {
    "tags": []
   },
   "source": [
    "## 30. Implement a function to find the minimum element in a rotated sorted list."
   ]
  },
  {
   "cell_type": "code",
   "execution_count": 5,
   "id": "df36dda1-6b76-4b03-9236-fa8d75358676",
   "metadata": {},
   "outputs": [
    {
     "name": "stdout",
     "output_type": "stream",
     "text": [
      "2\n"
     ]
    }
   ],
   "source": [
    "def countRotations(arr, n):\n",
    "    min = arr[0]\n",
    "    min_index = 0\n",
    "    for i in range(0, n):\n",
    "     \n",
    "        if (min > arr[i]):\n",
    "         \n",
    "            min = arr[i]\n",
    "            min_index = i\n",
    "         \n",
    "    return min_index;\n",
    " \n",
    "arr = [15, 18, 2, 3, 6, 12]\n",
    "n = len(arr)\n",
    "print(countRotations(arr, n))"
   ]
  },
  {
   "cell_type": "markdown",
   "id": "e5e861cb-3820-44e3-9fbd-62be41b26036",
   "metadata": {},
   "source": [
    "## 31. Write a program to find the sum of all even numbers in a list."
   ]
  },
  {
   "cell_type": "code",
   "execution_count": 6,
   "id": "e3d00e8b-3095-41db-a94c-ca41d62a86f3",
   "metadata": {},
   "outputs": [
    {
     "name": "stdout",
     "output_type": "stream",
     "text": [
      "Sum of even numbers at even indices is 30\n"
     ]
    }
   ],
   "source": [
    "def sum_even_and_even_index(arr):\n",
    "    mp = {} # dictionary to store even numbers at even indices\n",
    "    sum = 0\n",
    "    for i in range(0, len(arr), 2):\n",
    "        if arr[i] % 2 == 0:\n",
    "            mp[i] = arr[i] # insert even number and its index into the dictionary\n",
    "    for key, value in mp.items():\n",
    "        sum += value # calculate the sum of even numbers in the dictionary\n",
    "    return sum\n",
    " \n",
    "# Driver program to test above\n",
    "arr = [5, 6, 12, 1, 18, 8]\n",
    "print(\"Sum of even numbers at even indices is\", sum_even_and_even_index(arr))"
   ]
  },
  {
   "cell_type": "markdown",
   "id": "19d83241-3a28-4bb5-8b6a-88c7dc711517",
   "metadata": {},
   "source": [
    "## 32. Implement a function to calculate the power of a number using recursion."
   ]
  },
  {
   "cell_type": "code",
   "execution_count": 90,
   "id": "b71117f9-b93b-4584-800a-d25641b5f523",
   "metadata": {},
   "outputs": [
    {
     "name": "stdout",
     "output_type": "stream",
     "text": [
      "25\n"
     ]
    }
   ],
   "source": [
    "def power(N, P):\n",
    "\n",
    "    if P == 0:\n",
    "        return 1\n",
    " \n",
    "    # Recurrence relation\n",
    "    return (N*power(N, P-1))\n",
    "if __name__ == '__main__':\n",
    "    N = 5\n",
    "    P = 2\n",
    " \n",
    "    print(power(N, P))"
   ]
  },
  {
   "cell_type": "markdown",
   "id": "c59b3e53-5d51-4a6e-84c0-93408d8e9c4a",
   "metadata": {},
   "source": [
    "## 33. Write a Python program to remove duplicates from a list while preserving the order."
   ]
  },
  {
   "cell_type": "code",
   "execution_count": 1,
   "id": "8cb7e68f-ae7f-4b58-822e-f60be3872a7a",
   "metadata": {},
   "outputs": [
    {
     "name": "stdout",
     "output_type": "stream",
     "text": [
      "[1, 2, 3, 4, 5, 6]\n"
     ]
    }
   ],
   "source": [
    "original_list = [1, 2, 3, 4, 2, 5, 3, 6]\n",
    "\n",
    "# Convert to set to remove duplicates\n",
    "no_duplicates_set = set(original_list)\n",
    "\n",
    "# Convert back to list\n",
    "no_duplicates_list = list(no_duplicates_set)\n",
    "\n",
    "print(no_duplicates_list)"
   ]
  },
  {
   "cell_type": "markdown",
   "id": "6ba2226c-cfa4-42bc-9e4e-67dbba992619",
   "metadata": {},
   "source": [
    "## 34. Implement a function to find the longest common prefix among a list of strings."
   ]
  },
  {
   "cell_type": "code",
   "execution_count": 91,
   "id": "85d26b2b-dcb8-4c74-9064-1d0d422d6358",
   "metadata": {},
   "outputs": [
    {
     "name": "stdout",
     "output_type": "stream",
     "text": [
      "The longest Common Prefix is : anti\n"
     ]
    }
   ],
   "source": [
    "def longestCommonPrefix( a):\n",
    "     \n",
    "    size = len(a)\n",
    " \n",
    "    if (size == 0):\n",
    "        return \"\"\n",
    " \n",
    "    if (size == 1):\n",
    "        return a[0]\n",
    "\n",
    "    a.sort()\n",
    "\n",
    "    end = min(len(a[0]), len(a[size - 1]))\n",
    "\n",
    "    i = 0\n",
    "    while (i < end and\n",
    "           a[0][i] == a[size - 1][i]):\n",
    "        i += 1\n",
    " \n",
    "    pre = a[0][0: i]\n",
    "    return pre\n",
    " \n",
    "# Driver Code\n",
    "if __name__ == \"__main__\":\n",
    " \n",
    "    input = [\"antivirus\", \"anticlockwise\", \"antigravity\"]\n",
    "    print(\"The longest Common Prefix is :\" ,longestCommonPrefix(input))"
   ]
  },
  {
   "cell_type": "markdown",
   "id": "46202cbe-8a81-4b3d-8efd-da8f480c59f1",
   "metadata": {},
   "source": [
    "## 35. Write a program to check if a given number is a perfect square."
   ]
  },
  {
   "cell_type": "code",
   "execution_count": 21,
   "id": "04fd0c43-812c-4919-8317-2723e2f6c221",
   "metadata": {},
   "outputs": [
    {
     "name": "stdout",
     "output_type": "stream",
     "text": [
      "Yes\n"
     ]
    }
   ],
   "source": [
    "import math\n",
    "def isPerfectSquare(x):\n",
    " \n",
    "    #if x >= 0,\n",
    "    if(x >= 0):\n",
    "        sr = int(math.sqrt(x))\n",
    "        return ((sr*sr) == x)\n",
    "    return false\n",
    " \n",
    "x =100 \n",
    "if (isPerfectSquare(x)):\n",
    "    print(\"Yes\")\n",
    "else:\n",
    "    print(\"No\")"
   ]
  },
  {
   "cell_type": "markdown",
   "id": "4be4e365-99fa-4477-982a-1c5e7a3ea7d9",
   "metadata": {},
   "source": [
    "## 36. Implement a function to calculate the product of all elements in a list."
   ]
  },
  {
   "cell_type": "code",
   "execution_count": 23,
   "id": "b3c66a87-ce60-405b-84cf-a4dcce715e68",
   "metadata": {},
   "outputs": [
    {
     "name": "stdout",
     "output_type": "stream",
     "text": [
      "6\n",
      "24\n"
     ]
    }
   ],
   "source": [
    "def multiplyList(myList):\n",
    " \n",
    "    # Multiply elements one by one\n",
    "    result = 1\n",
    "    for x in myList:\n",
    "        result = result * x\n",
    "    return result\n",
    "\n",
    "list1 = [1, 2, 3]\n",
    "list2 = [3, 2, 4]\n",
    "print(multiplyList(list1))\n",
    "print(multiplyList(list2))"
   ]
  },
  {
   "cell_type": "markdown",
   "id": "ad1d4ac9-dcb6-407f-a3b1-eb6f0083e790",
   "metadata": {},
   "source": [
    "## 37. Write a Python program to reverse the order of words in a sentence while preserving the word order."
   ]
  },
  {
   "cell_type": "code",
   "execution_count": 92,
   "id": "988122c6-d592-4889-a7f3-d3467ab9dd43",
   "metadata": {},
   "outputs": [
    {
     "name": "stdout",
     "output_type": "stream",
     "text": [
      "pwskills of student I'm\n"
     ]
    }
   ],
   "source": [
    "string = \"I'm student of pwskills\"\n",
    "s = string.split()[::-1]\n",
    "l = []\n",
    "for i in s:\n",
    "    l.append(i)\n",
    "print(\" \".join(l))"
   ]
  },
  {
   "cell_type": "markdown",
   "id": "130e1700-9a96-4525-8b61-cb90b60c61a0",
   "metadata": {},
   "source": [
    "## 38. Implement a function to find the missing number in a given list of consecutive numbers."
   ]
  },
  {
   "cell_type": "code",
   "execution_count": 105,
   "id": "7ae08f96-a09b-47bc-8d9e-376d04e0a193",
   "metadata": {},
   "outputs": [
    {
     "name": "stdout",
     "output_type": "stream",
     "text": [
      "4\n"
     ]
    }
   ],
   "source": [
    "def findMissing(a, size):\n",
    "\n",
    "\tfor i in range(0, n):\n",
    "\t\tif (abs(arr[i]) - 1 == size):\n",
    "\t\t\tcontinue\n",
    "\n",
    "\t\tind = abs(arr[i]) - 1\n",
    "\t\tarr[ind] *= -1\n",
    "\n",
    "\tans = size + 1\n",
    "\tfor i in range(0, n):\n",
    "\t\tif (arr[i] > 0):\n",
    "\t\t\tans = i + 1\n",
    "\n",
    "\tprint(ans)\n",
    "\n",
    "# Driver Code\n",
    "if __name__ == '__main__':\n",
    "\tarr = [1, 3, 7, 5, 6, 2]\n",
    "\tn = len(arr)\n",
    "\n",
    "\t# Function call\n",
    "\tfindMissing(arr, n)\n"
   ]
  },
  {
   "cell_type": "markdown",
   "id": "3a58f3b4-2f6f-44c7-ab86-b42efd8e3e46",
   "metadata": {},
   "source": [
    "## 39. Write a program to find the sum of digits of a given number."
   ]
  },
  {
   "cell_type": "code",
   "execution_count": 101,
   "id": "be47b5ba-ae40-4393-b899-1b9eb915ba75",
   "metadata": {},
   "outputs": [
    {
     "name": "stdout",
     "output_type": "stream",
     "text": [
      "104\n"
     ]
    }
   ],
   "source": [
    "def getSum(n):\n",
    "    sum = 0\n",
    "    for i in n:\n",
    "        sum = sum + int(i)\n",
    "    return sum\n",
    "if __name__ == \"__main__\":\n",
    "    n = \"123456789123456789123422\"\n",
    "    print(getSum(n))"
   ]
  },
  {
   "cell_type": "markdown",
   "id": "0fd708e2-09e6-4f44-a85c-04a794abbdf4",
   "metadata": {},
   "source": [
    "## 40. Implement a function to check if a given string is a valid palindrome considering case sensitivity."
   ]
  },
  {
   "cell_type": "code",
   "execution_count": null,
   "id": "6f3ab063-3e37-43b3-9e34-5332b140b078",
   "metadata": {},
   "outputs": [],
   "source": []
  },
  {
   "cell_type": "markdown",
   "id": "17070060-b799-40d1-8c4b-3594990f4c5a",
   "metadata": {},
   "source": [
    "## 41. Write a Python program to find the smallest missing positive integer in a list."
   ]
  },
  {
   "cell_type": "code",
   "execution_count": 31,
   "id": "55789106-9894-42d9-9b1b-485f9fd15e54",
   "metadata": {},
   "outputs": [
    {
     "name": "stdout",
     "output_type": "stream",
     "text": [
      "4\n"
     ]
    }
   ],
   "source": [
    "l = [1,14,2,5,3,7,8,12]\n",
    "for i in range(1, max(l)):\n",
    "    if i not in  l: \n",
    "        break\n",
    "print(i)"
   ]
  },
  {
   "cell_type": "markdown",
   "id": "82f6c8c5-c41d-4ca8-88ec-452e35e2fd79",
   "metadata": {},
   "source": [
    "## 42. Implement a function to find the longest palindrome substring in a given string."
   ]
  },
  {
   "cell_type": "code",
   "execution_count": 1,
   "id": "20db8575-6cb5-4f85-abb9-3c622e995eca",
   "metadata": {},
   "outputs": [
    {
     "name": "stdout",
     "output_type": "stream",
     "text": [
      "Longest palindrome substring is: geeksskeeg\n",
      "Length is: 10\n"
     ]
    }
   ],
   "source": [
    "def longestPalSubstr(s):\n",
    "    n = len(s)\n",
    "    longest = \"\"\n",
    "    j = 0\n",
    "    subs = \"\"\n",
    "    subsrev = \"\"\n",
    "    for i in range(n):\n",
    "        j = n-1\n",
    "        while i < j:\n",
    "            if(s[i] == s[j] and len(longest) < (j-i+1)):\n",
    "                subs = s[i:(j+1)]\n",
    "                subsrev = subs[::-1]\n",
    "                if(subs == subsrev):\n",
    "                    longest = subs\n",
    "            j -= 1\n",
    "    if(len(longest) == 0):\n",
    "        longest = s[0]\n",
    "    print(\"Longest palindrome substring is: \" + longest)\n",
    "    return len(longest)\n",
    " \n",
    "if __name__ == '__main__':\n",
    "    stri = \"forgeeksskeegfor\"\n",
    "    print(\"Length is: \" + str(longestPalSubstr(stri)))"
   ]
  },
  {
   "cell_type": "markdown",
   "id": "8554eff2-92d5-4278-86a7-0c8a566bb96d",
   "metadata": {},
   "source": [
    "## 43. Write a program to find the number of occurrences of a given element in a list."
   ]
  },
  {
   "cell_type": "code",
   "execution_count": 2,
   "id": "92e0dc2b-5321-4d5d-a052-914b0d3fcebb",
   "metadata": {},
   "outputs": [
    {
     "name": "stdout",
     "output_type": "stream",
     "text": [
      "8 has occurred 5 times\n"
     ]
    }
   ],
   "source": [
    "def countX(lst, x):\n",
    "\treturn lst.count(x)\n",
    "\n",
    "lst = [8, 6, 8, 10, 8, 20, 10, 8, 8]\n",
    "x = 8\n",
    "print('{} has occurred {} times'.format(x,countX(lst, x)))\n"
   ]
  },
  {
   "cell_type": "markdown",
   "id": "26d6ad51-dfc2-400e-a1cd-336616e2dba0",
   "metadata": {},
   "source": [
    "## 44. Implement a function to check if a given number is a perfect number."
   ]
  },
  {
   "cell_type": "code",
   "execution_count": 11,
   "id": "a68c7274-3332-4c7e-81fb-c95c18d5ee2b",
   "metadata": {},
   "outputs": [
    {
     "name": "stdout",
     "output_type": "stream",
     "text": [
      "28  is a perfect number\n"
     ]
    }
   ],
   "source": [
    "def isPerfect( n ):\n",
    "    sum = 1\n",
    "     \n",
    "    # Find all divisors and add them\n",
    "    i = 2\n",
    "    while i * i <= n:\n",
    "        if n % i == 0:\n",
    "            sum = sum + i + n/i\n",
    "        i += 1\n",
    "     \n",
    "    return (True if sum == n and n!=1 else False)\n",
    "\n",
    "n = 28\n",
    "print(n , \" is a perfect number\")"
   ]
  },
  {
   "cell_type": "markdown",
   "id": "ed8cef77-57aa-43e7-9edd-e1e9ae599348",
   "metadata": {},
   "source": [
    "## 45. Write a Python program to remove all duplicates from a string."
   ]
  },
  {
   "cell_type": "code",
   "execution_count": 14,
   "id": "0ed8a392-e6db-415f-9c22-ff48a2cb69f4",
   "metadata": {},
   "outputs": [
    {
     "name": "stdin",
     "output_type": "stream",
     "text": [
      "Enter a String:  md\n"
     ]
    },
    {
     "name": "stdout",
     "output_type": "stream",
     "text": [
      "\n",
      "Original String: md\n",
      "New String: md\n"
     ]
    }
   ],
   "source": [
    "str=input(\"Enter a String: \")\n",
    "strlist = []\n",
    "for i in range(len(str)):\n",
    "    strlist.append(str[i])\n",
    "\n",
    "newlist = []\n",
    "j = 0\n",
    "for i in range(len(strlist)):\n",
    "    if str[i] not in newlist:\n",
    "        newlist.insert(j, str[i])\n",
    "        j = j+1\n",
    "\n",
    "print(\"\\nOriginal String:\", str)\n",
    "\n",
    "str = \"\"\n",
    "str = str.join(newlist)\n",
    "print(\"New String:\", str)"
   ]
  },
  {
   "cell_type": "markdown",
   "id": "773a726b-edd0-4611-9aac-368e8eca3c77",
   "metadata": {},
   "source": [
    "## 46. Implement a function to find the first missing positive."
   ]
  },
  {
   "cell_type": "code",
   "execution_count": 29,
   "id": "8b3a2c77-639e-447b-ab59-60a51e3b9e06",
   "metadata": {},
   "outputs": [
    {
     "name": "stdout",
     "output_type": "stream",
     "text": [
      "2\n"
     ]
    }
   ],
   "source": [
    "class Solution(object):\n",
    "    def firstMissingPositive(self, nums):\n",
    "        i = 0\n",
    "        nums = [0] + nums\n",
    "        for i in range(len(nums)):\n",
    "            while nums[i]>=0 and nums[i]<len(nums) and nums[nums[i]]!=nums[i]:\n",
    "                 nums[nums[i]],nums[i] = nums[i],nums[nums[i]]\n",
    "            num = 1\n",
    "            for i in range(1,len(nums)):\n",
    "                if num == nums[i]:\n",
    "                    num+=1\n",
    "            return num\n",
    "ob = Solution()\n",
    "print(ob.firstMissingPositive([4,-3,1,-1]))"
   ]
  }
 ],
 "metadata": {
  "kernelspec": {
   "display_name": "Python 3 (ipykernel)",
   "language": "python",
   "name": "python3"
  },
  "language_info": {
   "codemirror_mode": {
    "name": "ipython",
    "version": 3
   },
   "file_extension": ".py",
   "mimetype": "text/x-python",
   "name": "python",
   "nbconvert_exporter": "python",
   "pygments_lexer": "ipython3",
   "version": "3.10.8"
  }
 },
 "nbformat": 4,
 "nbformat_minor": 5
}
