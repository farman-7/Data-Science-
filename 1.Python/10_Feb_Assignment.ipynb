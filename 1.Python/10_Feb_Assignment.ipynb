{
 "cells": [
  {
   "cell_type": "code",
   "execution_count": null,
   "id": "799e22e5-718f-44aa-9896-c0b4ca25ef71",
   "metadata": {},
   "outputs": [],
   "source": [
    "Q1. Which function is used to open a file? What are the different modes of opening a file? Explain each mode of file opening."
   ]
  },
  {
   "cell_type": "code",
   "execution_count": null,
   "id": "1e8905fd-7a02-4a24-abc3-492d31ca7a8f",
   "metadata": {},
   "outputs": [],
   "source": [
    "Ans:- open(a,b)\n",
    "Here a-file path , b-mode\n",
    "\n",
    "Modes of opening files in python\n",
    "\n",
    "r - Opens a file for reading only. (It's a default mode.)\n",
    "w - Opens a file for writing. (If a file doesn't exist already, then it creates a new file. Otherwise, it's truncate a file.)\n",
    "x - Opens a file for exclusive creation. (Operation fails if a file does not exist in the location.)\n",
    "a - Opens a file for appending at the end of the file without truncating it. (Creates a new file if it does not exist in the location.)\n",
    "t - Opens a file in text mode. (It's a default mode.)\n",
    "b- Opens a file in binary mode.\n",
    "+- Opens a file for updating (reading and writing.)"
   ]
  },
  {
   "cell_type": "code",
   "execution_count": null,
   "id": "b2f035f4-dd18-42f3-8c44-52e7c6250194",
   "metadata": {},
   "outputs": [],
   "source": [
    "Q2. Why close() function is used? Why is it important to close a file?"
   ]
  },
  {
   "cell_type": "code",
   "execution_count": null,
   "id": "5dde12b4-de23-468e-a236-e632a8bca299",
   "metadata": {},
   "outputs": [],
   "source": [
    "when we open the file and if we write any data it not going to reflect immediatly,so we need to close the file then only it can reflect,thats why we \n",
    "using close function"
   ]
  },
  {
   "cell_type": "code",
   "execution_count": null,
   "id": "e0bc973f-adaa-41b7-9057-6f0e5f25316e",
   "metadata": {},
   "outputs": [],
   "source": [
    "Q3. Write a python program to create a text file. Write ‘I want to become a Data Scientist’ in that file. Then close the file. Open this file and read the content\n",
    "    of the file."
   ]
  },
  {
   "cell_type": "code",
   "execution_count": 2,
   "id": "896a7ff9-554b-44b3-84b7-4ee3dcc5cf34",
   "metadata": {},
   "outputs": [
    {
     "name": "stdout",
     "output_type": "stream",
     "text": [
      "I want to become a Data Scientist.\n"
     ]
    }
   ],
   "source": [
    "file=open(\"text1.txt\",'w')\n",
    "file.write(\"I want to become a Data Scientist.\")\n",
    "file.close()\n",
    "data=open(\"text1.txt\",'r')\n",
    "print(data.read())"
   ]
  },
  {
   "cell_type": "code",
   "execution_count": null,
   "id": "eb25683f-ff9e-49ac-90f6-2d02e4bcab02",
   "metadata": {},
   "outputs": [],
   "source": [
    "Q4. Explain the following with python code: read(), readline() and readlines()."
   ]
  },
  {
   "cell_type": "code",
   "execution_count": null,
   "id": "009e80be-970e-4cf5-8b82-2a452e97ff02",
   "metadata": {},
   "outputs": [],
   "source": [
    "ANS:-\n",
    "    read() method:- This method reads the entire content of the file and returns it as a string.\n",
    "    readline() method:- This method reads one line of the file at a time. \n",
    "    readlines() method:- This method reads all the lines of the file and returns them as a list of strings, where each string represents a line."
   ]
  },
  {
   "cell_type": "code",
   "execution_count": 5,
   "id": "ee4b0521-a5d2-4823-9f82-ba38a101c4f4",
   "metadata": {},
   "outputs": [
    {
     "name": "stdout",
     "output_type": "stream",
     "text": [
      "Before performing any operation on the file like reading or writing, first, we have to open that file. For this, we should use Python’s inbuilt function open() but at the time of opening, we have to specify the mode, which represents the purpose of the opening file.\n",
      "\n",
      "f = open(filename, mode)\n",
      "Where the following mode is supported:\n",
      "\n",
      "r: open an existing file for a read operation.\n",
      "w: open an existing file for a write operation. If the file already contains some data then it will be overridden but if the file is not present then it creates the file as well.\n",
      "a:  open an existing file for append operation. It won’t override existing data.\n",
      " r+:  To read and write data into the file. The previous data in the file will be overridden.\n",
      "w+: To write and read data. It will override existing data.\n",
      "a+: To append and read data from the file. It won’t override existing data.\n",
      "Advantages:\n",
      "Versatility: File handling in Python allows you to perform a wide range of operations, such as creating, reading, writing, appending, renaming, and deleting files.\n",
      "Flexibility: File handling in Python is highly flexible, as it allows you to work with different file types (e.g. text files, binary files, CSV files, etc.), and to perform different operations on files (e.g. read, write, append, etc.).\n",
      "User–friendly: Python provides a user-friendly interface for file handling, making it easy to create, read, and manipulate files.\n",
      "Cross-platform: Python file handling functions work across different platforms (e.g. Windows, Mac, Linux), allowing for seamless integration and compatibility.\n",
      "Disadvantages:\n",
      "Error-prone: File handling operations in Python can be prone to errors, especially if the code is not carefully written or if there are issues with the file system (e.g. file permissions, file locks, etc.).\n",
      "Security risks: File handling in Python can also pose security risks, especially if the program accepts user input that can be used to access or modify sensitive files on the system.\n",
      "Complexity: File handling in Python can be complex, especially when working with more advanced file formats or operations. Careful attention must be paid to the code to ensure that files are handled properly and securely.\n",
      "Performance: File handling operations in Python can be slower than other programming languages, especially when dealing with large files or performing complex operations.\n"
     ]
    }
   ],
   "source": [
    "#This is example of read()\n",
    "data=open(\"farman.txt\",'r')\n",
    "print(data.read())"
   ]
  },
  {
   "cell_type": "code",
   "execution_count": 8,
   "id": "f8901620-48c3-4356-9854-7957f2dbaa2f",
   "metadata": {},
   "outputs": [
    {
     "name": "stdout",
     "output_type": "stream",
     "text": [
      "Before performing any operation on the file like reading or writing, first, we have to open that file. For this, we should use Python’s inbuilt function open() but at the\n",
      "\n"
     ]
    }
   ],
   "source": [
    "#Here the example of readline.\n",
    "data=open(\"farman.txt\",'r')\n",
    "print(data.readline())"
   ]
  },
  {
   "cell_type": "code",
   "execution_count": 9,
   "id": "79dfb352-7c0f-41d8-87f5-076d1185ead2",
   "metadata": {},
   "outputs": [
    {
     "name": "stdout",
     "output_type": "stream",
     "text": [
      "['Before performing any operation on the file like reading or writing, first, we have to open that file. For this, we should use Python’s inbuilt function open() but at the\\n', 'time of opening, we have to specify the mode, which represents the purpose of the opening file.\\n', '\\n', 'f = open(filename, mode)\\n', 'Where the following mode is supported:\\n', '\\n', 'r: open an existing file for a read operation.\\n', 'w: open an existing file for a write operation. If the file already contains some data then it will be overridden but if the file is not present then it creates the file as well.\\n', 'a:  open an existing file for append operation. It won’t override existing data.\\n', ' r+:  To read and write data into the file. The previous data in the file will be overridden.\\n', 'w+: To write and read data. It will override existing data.\\n', 'a+: To append and read data from the file. It won’t override existing data.\\n', 'Advantages:\\n', 'Versatility: File handling in Python allows you to perform a wide range of operations, such as creating, reading, writing, appending, renaming, and deleting files.\\n', 'Flexibility: File handling in Python is highly flexible, as it allows you to work with different file types (e.g. text files, binary files, CSV files, etc.), and to perform different operations on files (e.g. read, write, append, etc.).\\n', 'User–friendly: Python provides a user-friendly interface for file handling, making it easy to create, read, and manipulate files.\\n', 'Cross-platform: Python file handling functions work across different platforms (e.g. Windows, Mac, Linux), allowing for seamless integration and compatibility.\\n', 'Disadvantages:\\n', 'Error-prone: File handling operations in Python can be prone to errors, especially if the code is not carefully written or if there are issues with the file system (e.g. file permissions, file locks, etc.).\\n', 'Security risks: File handling in Python can also pose security risks, especially if the program accepts user input that can be used to access or modify sensitive files on the system.\\n', 'Complexity: File handling in Python can be complex, especially when working with more advanced file formats or operations. Careful attention must be paid to the code to ensure that files are handled properly and securely.\\n', 'Performance: File handling operations in Python can be slower than other programming languages, especially when dealing with large files or performing complex operations.']\n"
     ]
    }
   ],
   "source": [
    "#Here the example of readlines.\n",
    "data=open(\"farman.txt\",'r')\n",
    "print(data.readlines())"
   ]
  },
  {
   "cell_type": "code",
   "execution_count": 3,
   "id": "94bf2f65-4d10-4e94-97f2-af97205ad2ba",
   "metadata": {},
   "outputs": [
    {
     "name": "stdout",
     "output_type": "stream",
     "text": [
      "Object `together` not found.\n"
     ]
    }
   ],
   "source": [
    "Q5. Explain why with statement is used with open(). What is the advantage of using with statement and open() together?"
   ]
  },
  {
   "cell_type": "code",
   "execution_count": null,
   "id": "bb6063fa-3032-491a-931f-25ee6e34282a",
   "metadata": {},
   "outputs": [],
   "source": [
    "ANS:- \n",
    "    the open() function is generally used for file handling in Python. But it is a standard practice to use context managers like with keywords to handle files as\n",
    "    it will automatically release files once its usage is complete.\n",
    "The open() function opens a file, and returns it as a file object.\n",
    "\n",
    "\n",
    "Advantage:-\n",
    "    1.using with open() context manager, we cannot use a file handler outside the with block. It will raise ValueError: I/O operation on closed file in that case.\n",
    "    2.In with open() the closing of the file is handled by the context manager.\n",
    "    3.Using with open() context statement makes the code more tidy as we can easily separate between code block by difference in indents."
   ]
  },
  {
   "cell_type": "code",
   "execution_count": null,
   "id": "7f6d60a1-e814-4c86-a85f-37ef511d6f69",
   "metadata": {},
   "outputs": [],
   "source": [
    "Q6. Explain the write() and writelines() functions. Give a suitable example."
   ]
  },
  {
   "cell_type": "code",
   "execution_count": null,
   "id": "d64e3174-9e5f-4224-b385-4143b266edb7",
   "metadata": {},
   "outputs": [],
   "source": [
    "ANS:-\n",
    "    write() function:- The write() function will write the content in the file without adding any extra characters.\n",
    "\n",
    "Syntax: \n",
    "file_name.write(content) \n",
    "\n",
    "As per the syntax, the string that is passed to the write() function is written into the opened file. The string may include numbers, special characters, \n",
    "or symbols. While writing data to a file, we must know that the write function does not add a newline character(\\n) to the end of the string. The write() function \n",
    "returns None."
   ]
  },
  {
   "cell_type": "code",
   "execution_count": 3,
   "id": "e0e70836-32ff-4126-94bb-4b48932a8029",
   "metadata": {},
   "outputs": [
    {
     "name": "stdin",
     "output_type": "stream",
     "text": [
      "Enter the name of the employee:  farman\n",
      "Enter the name of the employee:  data science\n",
      "Enter the name of the employee:  md\n"
     ]
    },
    {
     "name": "stdout",
     "output_type": "stream",
     "text": [
      "Data is written into the file.\n"
     ]
    }
   ],
   "source": [
    "#Here the example of write() function\n",
    "file = open(\"Employees.txt\", \"w\")\n",
    "\n",
    "for i in range(3):\n",
    "        name = input(\"Enter the name of the employee: \")\n",
    "        file.write(name)\n",
    "        file.write(\"\\n\")\n",
    "\t\n",
    "file.close()\n",
    "\n",
    "print(\"Data is written into the file.\")\n"
   ]
  },
  {
   "cell_type": "code",
   "execution_count": null,
   "id": "b162af7a-2083-47c0-bcb7-97527028fccc",
   "metadata": {},
   "outputs": [],
   "source": [
    "writelines():-\n",
    "    writelines() function:- This function writes the content of a list to a file.\n",
    "\n",
    "Syntax:   \n",
    "file_name.writelines(list_of_lines)\n",
    "\n",
    "As per the syntax, the list of strings that is passed to the writelines() function is written into the opened file. Similar to the write() function,\n",
    "the writelines() function does not add a newline character(\\n) to the end of the string."
   ]
  },
  {
   "cell_type": "code",
   "execution_count": 4,
   "id": "14af556c-b826-4ccf-ad7a-89dd98e292dc",
   "metadata": {},
   "outputs": [
    {
     "name": "stdin",
     "output_type": "stream",
     "text": [
      "Enter the name of the employee:  rahul\n",
      "Enter the name of the employee:  sharma\n",
      "Enter the name of the employee:  go\n"
     ]
    },
    {
     "name": "stdout",
     "output_type": "stream",
     "text": [
      "Data is written into the file.\n"
     ]
    }
   ],
   "source": [
    "#Here the example of writelines() function\n",
    "file1 = open(\"Employees.txt\", \"w\")\n",
    "lst = []\n",
    "for i in range(3):\n",
    "\tname = input(\"Enter the name of the employee: \")\n",
    "\tlst.append(name + '\\n')\n",
    "\t\n",
    "file1.writelines(lst)\n",
    "file1.close()\n",
    "print(\"Data is written into the file.\")\n"
   ]
  }
 ],
 "metadata": {
  "kernelspec": {
   "display_name": "Python 3 (ipykernel)",
   "language": "python",
   "name": "python3"
  },
  "language_info": {
   "codemirror_mode": {
    "name": "ipython",
    "version": 3
   },
   "file_extension": ".py",
   "mimetype": "text/x-python",
   "name": "python",
   "nbconvert_exporter": "python",
   "pygments_lexer": "ipython3",
   "version": "3.10.8"
  }
 },
 "nbformat": 4,
 "nbformat_minor": 5
}
