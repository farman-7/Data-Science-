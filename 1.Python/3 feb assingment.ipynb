{
 "cells": [
  {
   "cell_type": "code",
   "execution_count": null,
   "id": "7ba7a476-18da-4f2e-a07b-05d6de4c354a",
   "metadata": {},
   "outputs": [],
   "source": [
    "Q1:-  Which keyword is used to create a function? Create a function to return a list of odd numbers in the \n",
    "      range of 1 to 25"
   ]
  },
  {
   "cell_type": "code",
   "execution_count": null,
   "id": "a5a97d72-3256-42ad-be9e-d352d2241142",
   "metadata": {},
   "outputs": [],
   "source": [
    "ANS:- def keyword is used to create a function.\n"
   ]
  },
  {
   "cell_type": "code",
   "execution_count": 11,
   "id": "44d926b5-e0d3-4042-afb6-d2d3810a3ebe",
   "metadata": {},
   "outputs": [
    {
     "name": "stdout",
     "output_type": "stream",
     "text": [
      "ODD Number:  [1, 3, 5, 7, 9, 11, 13, 15, 17, 19, 21, 23, 25]\n"
     ]
    }
   ],
   "source": [
    "def ODD_NUMBERS(num):\n",
    "    ODD = []\n",
    "    for i in range(num):\n",
    "        if i % 2 == 1:\n",
    "            ODD.append(i)\n",
    "    return ODD\n",
    "print(\"ODD Number: \",ODD_NUMBERS(26))"
   ]
  },
  {
   "cell_type": "code",
   "execution_count": null,
   "id": "171c159f-0334-449b-9a13-b4164a63fc72",
   "metadata": {},
   "outputs": [],
   "source": [
    "Q2:  Why *args and **kwargs is used in some functions? Create a function each for *args and **kwargs \n",
    "     to demonstrate their use."
   ]
  },
  {
   "cell_type": "code",
   "execution_count": null,
   "id": "e6d1c043-7d1d-4992-96a0-d6897dbf3c70",
   "metadata": {},
   "outputs": [],
   "source": [
    "ANS:- In Python, we can pass a variable number of arguments to a function using special symbols. There are two special symbols:\n",
    "      1. *args (Non Keyword Arguments)\n",
    "      2. **kwargs (Keyword Arguments)\n",
    "      We use *args and **kwargs as an argument when we are unsure about the number of arguments to pass in the functions.\n",
    "1. *args :- Python has *args which allow us to pass the variable number of non keyword arguments to function.\n",
    "2. **kwargs :-  it allows us to pass the variable length of keyword arguments to the function."
   ]
  },
  {
   "cell_type": "code",
   "execution_count": 14,
   "id": "2991a6d3-c185-4f4f-a3ab-e9b0e871b43e",
   "metadata": {},
   "outputs": [
    {
     "name": "stdout",
     "output_type": "stream",
     "text": [
      "sum of the number: 5\n",
      "sum of the number: 16\n",
      "sum of the number: 33\n"
     ]
    }
   ],
   "source": [
    "#example of  *args\n",
    "def add(*num):\n",
    "    sum = 0\n",
    "    for i in num:\n",
    "        sum = sum + i\n",
    "    print(\"sum of the number:\",sum)\n",
    "add(2,3)\n",
    "add(4,5,7)\n",
    "add(10,7,5,11)"
   ]
  },
  {
   "cell_type": "code",
   "execution_count": 15,
   "id": "a27e6599-ce37-4bec-9c04-9ce76ae0065a",
   "metadata": {},
   "outputs": [
    {
     "name": "stdout",
     "output_type": "stream",
     "text": [
      "RealPythonIsGreat!\n"
     ]
    }
   ],
   "source": [
    "#exampe of **kwargs\n",
    "# concatenate_2.py\n",
    "def concatenate(**words):\n",
    "    result = \"\"\n",
    "    for arg in words.values():\n",
    "        result += arg\n",
    "    return result\n",
    "\n",
    "print(concatenate(a=\"Real\", b=\"Python\", c=\"Is\", d=\"Great\", e=\"!\"))"
   ]
  },
  {
   "cell_type": "code",
   "execution_count": null,
   "id": "3c2ef58d-69b8-4c7b-b418-005cdef3f944",
   "metadata": {},
   "outputs": [],
   "source": [
    "Q3:  What is an iterator in python? Name the method used to initialise the iterator object and the method \n",
    "     used for iteration. Use these methods to print the first five elements of the given list [2, 4, 6, 8, 10, 12, 14, 16, 18, 20]."
   ]
  },
  {
   "cell_type": "code",
   "execution_count": null,
   "id": "f35946c2-09c7-4444-9a04-fb333b4cbf71",
   "metadata": {},
   "outputs": [],
   "source": [
    "Ans: Iterator in Python is an object that is used to iterate over iterable objects like lists, tuples, dicts, and sets. \n",
    "     The iterator object is initialized using the \"iter() method\". It uses the next() method for iteration."
   ]
  },
  {
   "cell_type": "code",
   "execution_count": 3,
   "id": "d290cc3b-499f-4556-9945-cb4bacb9dfd9",
   "metadata": {},
   "outputs": [
    {
     "name": "stdout",
     "output_type": "stream",
     "text": [
      "2\n",
      "4\n",
      "6\n",
      "8\n",
      "10\n"
     ]
    }
   ],
   "source": [
    "list =iter([2, 4, 6, 8, 10, 12, 14, 16, 18, 20])\n",
    "print(next(list))\n",
    "print(next(list))\n",
    "print(next(list))\n",
    "print(next(list))\n",
    "print(next(list))\n"
   ]
  },
  {
   "cell_type": "code",
   "execution_count": null,
   "id": "e00f5916-cc49-4498-b896-e29156c5b1ec",
   "metadata": {},
   "outputs": [],
   "source": [
    "Q4:   What is a generator function in python? Why yield keyword is used? Give an example of a generator function."
   ]
  },
  {
   "cell_type": "code",
   "execution_count": null,
   "id": "7cb6029e-de05-4b17-a9ad-32751390629c",
   "metadata": {},
   "outputs": [],
   "source": [
    "Ans: A generator-function is defined like a normal function, but whenever it needs to generate a value, it does so with the yield keyword rather than return.\n",
    "    If the body of a def contains yield, the function automatically becomes a generator function. "
   ]
  },
  {
   "cell_type": "code",
   "execution_count": 16,
   "id": "ac27100a-3d68-4bc3-9031-50f5435e465a",
   "metadata": {},
   "outputs": [
    {
     "name": "stdout",
     "output_type": "stream",
     "text": [
      "1\n",
      "2\n",
      "4\n",
      "8\n",
      "16\n"
     ]
    }
   ],
   "source": [
    "#xample of generator function\n",
    "def PowTwoGen(sq):\n",
    "    n = 0\n",
    "    while n < sq:\n",
    "        yield 2 ** n\n",
    "        n += 1\n",
    "p=PowTwoGen(5)\n",
    "for i in p :\n",
    "    print(i)"
   ]
  },
  {
   "cell_type": "code",
   "execution_count": 13,
   "id": "b93d88d5-a2f9-4fb8-a566-ca955d8be950",
   "metadata": {},
   "outputs": [],
   "source": [
    "Q5 :  Create a generator function for prime numbers less than 1000. Use the next() method to print the \n",
    "      first 20 prime numbers."
   ]
  },
  {
   "cell_type": "code",
   "execution_count": 37,
   "id": "1874a151-c4e5-4be9-90ba-7793da9d788b",
   "metadata": {},
   "outputs": [
    {
     "name": "stdout",
     "output_type": "stream",
     "text": [
      "2\n",
      "3\n",
      "5\n",
      "7\n",
      "11\n",
      "13\n",
      "17\n",
      "19\n",
      "23\n",
      "29\n",
      "31\n",
      "37\n",
      "41\n",
      "43\n",
      "47\n",
      "53\n",
      "59\n",
      "61\n",
      "67\n",
      "71\n"
     ]
    }
   ],
   "source": [
    "def generate_primes():\n",
    "    # Generate prime numbers less than 1000\n",
    "    for num in range(2, 1000):\n",
    "        is_prime = True\n",
    "        for i in range(2, num):\n",
    "            if num % i == 0:\n",
    "                is_prime = False\n",
    "                break\n",
    "        if is_prime:\n",
    "            yield num\n",
    "primes = generate_primes()\n",
    "for i in range(20):\n",
    "    print(next(primes))"
   ]
  },
  {
   "cell_type": "code",
   "execution_count": null,
   "id": "8b5833ca-f3df-42b9-9b4a-758a63ec3de7",
   "metadata": {},
   "outputs": [],
   "source": [
    "Q6: Write a python program to print the first 10 Fibonacci numbers using a while loop."
   ]
  },
  {
   "cell_type": "code",
   "execution_count": 18,
   "id": "1c63ef84-d9df-4947-9a2e-bff20d153fff",
   "metadata": {},
   "outputs": [
    {
     "name": "stdout",
     "output_type": "stream",
     "text": [
      "0\n",
      "1\n",
      "1\n",
      "2\n",
      "3\n",
      "5\n",
      "8\n",
      "13\n",
      "21\n",
      "34\n"
     ]
    }
   ],
   "source": [
    "n=10\n",
    "n1, n2 = 0,1\n",
    "i= 0\n",
    "while i<n:\n",
    "    print(n1)\n",
    "    sum= n1 + n2\n",
    "    n1 = n2\n",
    "    n2 = sum\n",
    "    i += 1"
   ]
  },
  {
   "cell_type": "code",
   "execution_count": null,
   "id": "e0dd791a-ca2f-4be1-bc61-058fc078a793",
   "metadata": {},
   "outputs": [],
   "source": [
    "Q7: Write a List Comprehension to iterate through the given string: ‘pwskills’.\n",
    "\n",
    "    Expected output: ['p', 'w', 's', 'k', 'i', 'l', 'l', 's']"
   ]
  },
  {
   "cell_type": "code",
   "execution_count": 23,
   "id": "90e99196-1acd-4c91-9510-1790e5234091",
   "metadata": {},
   "outputs": [
    {
     "name": "stdout",
     "output_type": "stream",
     "text": [
      "['p', 'w', 's', 'k', 'i', 'l', 'l', 's']\n"
     ]
    }
   ],
   "source": [
    "list=[]\n",
    "for i in 'pwskills':\n",
    "    list.append(i)\n",
    "print(list)"
   ]
  },
  {
   "cell_type": "code",
   "execution_count": null,
   "id": "18589359-cb22-471d-895a-687776766f2a",
   "metadata": {},
   "outputs": [],
   "source": [
    "Q8 :  Write a python program to check whether a given number is Palindrome or not using a while loop."
   ]
  },
  {
   "cell_type": "code",
   "execution_count": 24,
   "id": "42884020-bbb1-480b-a70d-8ed9af80ac16",
   "metadata": {},
   "outputs": [
    {
     "name": "stdin",
     "output_type": "stream",
     "text": [
      "Enter number: 121\n"
     ]
    },
    {
     "name": "stdout",
     "output_type": "stream",
     "text": [
      "The number is a palindrome!\n"
     ]
    }
   ],
   "source": [
    "n=int(input(\"Enter number:\"))\n",
    "temp=n\n",
    "rev=0\n",
    "while(n>0):\n",
    "    dig=n%10\n",
    "    rev=rev*10+dig\n",
    "    n=n//10\n",
    "if(temp==rev):\n",
    "    print(\"The number is a palindrome!\")\n",
    "else:\n",
    "    print(\"The number isn't a palindrome!\")"
   ]
  },
  {
   "cell_type": "code",
   "execution_count": null,
   "id": "5bc955e9-1157-4665-a40a-b677df3633c8",
   "metadata": {},
   "outputs": [],
   "source": [
    "Q9 :  Write a code to print odd numbers from 1 to 100 using list comprehension."
   ]
  },
  {
   "cell_type": "code",
   "execution_count": 35,
   "id": "a3e546a7-e4e9-429d-b9bc-024ccae09ff6",
   "metadata": {},
   "outputs": [
    {
     "data": {
      "text/plain": [
       "[1,\n",
       " 3,\n",
       " 5,\n",
       " 7,\n",
       " 9,\n",
       " 11,\n",
       " 13,\n",
       " 15,\n",
       " 17,\n",
       " 19,\n",
       " 21,\n",
       " 23,\n",
       " 25,\n",
       " 27,\n",
       " 29,\n",
       " 31,\n",
       " 33,\n",
       " 35,\n",
       " 37,\n",
       " 39,\n",
       " 41,\n",
       " 43,\n",
       " 45,\n",
       " 47,\n",
       " 49,\n",
       " 51,\n",
       " 53,\n",
       " 55,\n",
       " 57,\n",
       " 59,\n",
       " 61,\n",
       " 63,\n",
       " 65,\n",
       " 67,\n",
       " 69,\n",
       " 71,\n",
       " 73,\n",
       " 75,\n",
       " 77,\n",
       " 79,\n",
       " 81,\n",
       " 83,\n",
       " 85,\n",
       " 87,\n",
       " 89,\n",
       " 91,\n",
       " 93,\n",
       " 95,\n",
       " 97,\n",
       " 99]"
      ]
     },
     "execution_count": 35,
     "metadata": {},
     "output_type": "execute_result"
    }
   ],
   "source": [
    "[x for x in range(1, 100)  if x%2 != 0 ]\n",
    "\n"
   ]
  },
  {
   "cell_type": "code",
   "execution_count": null,
   "id": "b5329359-7bc3-4f18-8f3e-b08efbdb2ab6",
   "metadata": {},
   "outputs": [],
   "source": []
  },
  {
   "cell_type": "code",
   "execution_count": null,
   "id": "222d6b94-e8ec-4c30-9c2b-138ec65e7b6b",
   "metadata": {},
   "outputs": [],
   "source": []
  }
 ],
 "metadata": {
  "kernelspec": {
   "display_name": "Python 3 (ipykernel)",
   "language": "python",
   "name": "python3"
  },
  "language_info": {
   "codemirror_mode": {
    "name": "ipython",
    "version": 3
   },
   "file_extension": ".py",
   "mimetype": "text/x-python",
   "name": "python",
   "nbconvert_exporter": "python",
   "pygments_lexer": "ipython3",
   "version": "3.10.8"
  }
 },
 "nbformat": 4,
 "nbformat_minor": 5
}
