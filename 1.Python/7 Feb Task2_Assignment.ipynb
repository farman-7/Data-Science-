{
 "cells": [
  {
   "cell_type": "code",
   "execution_count": null,
   "id": "6e52f7a8-2ce6-42c6-9aeb-913159cf952a",
   "metadata": {},
   "outputs": [],
   "source": [
    "Q1. You are writing code for a company. The requirement of the company is that you create a python\n",
    "function that will check whether the password entered by the user is correct or not. The function should\n",
    "take the password as input and return the string “Valid Password” if the entered password follows the\n",
    "below-given password guidelines else it should return “Invalid Password”."
   ]
  },
  {
   "cell_type": "code",
   "execution_count": 6,
   "id": "e5503d3d-ca42-4a63-99ea-9c1da694a965",
   "metadata": {},
   "outputs": [
    {
     "name": "stdout",
     "output_type": "stream",
     "text": [
      "Password is valid\n"
     ]
    }
   ],
   "source": [
    "def password_check(passwd):\n",
    "     \n",
    "    SpecialSym =['$', '@', '#', '%']\n",
    "    val = True\n",
    "     \n",
    "    if len(passwd) < 1:\n",
    "        print('length should be at least 1')\n",
    "        val = False\n",
    "         \n",
    "    if len(passwd) > 10:\n",
    "        print('length should be not be greater than 10')\n",
    "        val = False\n",
    "         \n",
    "    if not any(char.isdigit() for char in passwd):\n",
    "        print('Password should have at least one numeral')\n",
    "        val = False\n",
    "         \n",
    "    if not any(char.isupper() for char in passwd):\n",
    "        print('Password should have at least one uppercase letter')\n",
    "        val = False\n",
    "         \n",
    "    if not any(char.islower() for char in passwd):\n",
    "        print('Password should have at least one lowercase letter')\n",
    "        val = False\n",
    "         \n",
    "    if not any(char in SpecialSym for char in passwd):\n",
    "        print('Password should have at least one of the symbols $@#')\n",
    "        val = False\n",
    "    if val:\n",
    "        return val\n",
    "\n",
    "def main():\n",
    "    passwd = 'Farman@5'\n",
    "     \n",
    "    if (password_check(passwd)):\n",
    "        print(\"Password is valid\")\n",
    "    else:\n",
    "        print(\"Invalid Password !!\")\n",
    "         \n",
    "# Driver Code       \n",
    "if __name__ == '__main__':\n",
    "    main()"
   ]
  },
  {
   "cell_type": "code",
   "execution_count": null,
   "id": "738dc9dc-2ed4-46a3-bf72-fb6120827825",
   "metadata": {},
   "outputs": [],
   "source": [
    "Q2. Solve the below-given questions using at least one of the following:\n",
    "1. Lambda function\n",
    "2. Filter function\n",
    "3. map function\n",
    "4. List Comprehension"
   ]
  },
  {
   "cell_type": "code",
   "execution_count": 55,
   "id": "21ab89d0-63e7-426c-aeb5-e5eb4dfbc7c8",
   "metadata": {},
   "outputs": [
    {
     "name": "stdout",
     "output_type": "stream",
     "text": [
      "True\n"
     ]
    }
   ],
   "source": [
    "#Q.Check if the string starts with a particular letter.\n",
    "string = lambda x,char : x.startswith(char)\n",
    "print(string(\"Pwskills\", 'P'))"
   ]
  },
  {
   "cell_type": "code",
   "execution_count": null,
   "id": "bd9243e3-1bd7-4340-9305-a0f122d611be",
   "metadata": {},
   "outputs": [],
   "source": [
    "#Q.Check if the string is numeric.\n",
    "\n"
   ]
  },
  {
   "cell_type": "code",
   "execution_count": 53,
   "id": "e4a9de2b-1a13-4299-bb70-23774f40a05b",
   "metadata": {},
   "outputs": [
    {
     "name": "stdout",
     "output_type": "stream",
     "text": [
      "True\n",
      "False\n"
     ]
    }
   ],
   "source": [
    "numeric = lambda x: x.isnumeric()\n",
    "print(numeric(\"45788\"))\n",
    "print(numeric('far'))"
   ]
  },
  {
   "cell_type": "code",
   "execution_count": null,
   "id": "8f43910a-0a57-46b7-838a-922b915f542c",
   "metadata": {},
   "outputs": [],
   "source": [
    "#Q. Sort a list of tuples having fruit names and their quantity. [(\"mango\",99),(\"orange\",80), (\"grapes\", 1000)-"
   ]
  },
  {
   "cell_type": "code",
   "execution_count": 50,
   "id": "4113f538-51a2-4337-8967-0a494f2aef03",
   "metadata": {},
   "outputs": [
    {
     "name": "stdout",
     "output_type": "stream",
     "text": [
      "[('orange', 80), ('mango', 99), ('grapes', 1000)]\n"
     ]
    }
   ],
   "source": [
    "list1 = [(\"mango\",99),(\"orange\",80),(\"grapes\",1000)]\n",
    "list1.sort(key = lambda x: x[1])\n",
    "print(list1)"
   ]
  },
  {
   "cell_type": "code",
   "execution_count": null,
   "id": "4f578b6f-f557-463a-9568-dc54e435cec0",
   "metadata": {},
   "outputs": [],
   "source": [
    "Q. Find the squares of numbers from 1 to 10."
   ]
  },
  {
   "cell_type": "code",
   "execution_count": 14,
   "id": "b82fd3b1-6492-41f9-9edb-119b922f7f11",
   "metadata": {},
   "outputs": [
    {
     "data": {
      "text/plain": [
       "[1, 4, 9, 16, 25, 36, 49, 64, 81, 100]"
      ]
     },
     "execution_count": 14,
     "metadata": {},
     "output_type": "execute_result"
    }
   ],
   "source": [
    "l=[1,2,3,4,5,6,7,8,9,10]\n",
    "list(map(lambda x  : x**2 , l))\n"
   ]
  },
  {
   "cell_type": "code",
   "execution_count": null,
   "id": "91bd0738-d221-472e-b7f8-a3ac00336edd",
   "metadata": {},
   "outputs": [],
   "source": [
    "Q.Find the cube root of numbers from 1 to 10."
   ]
  },
  {
   "cell_type": "code",
   "execution_count": 34,
   "id": "5989e782-969f-4856-b1aa-3debc8383cc1",
   "metadata": {},
   "outputs": [
    {
     "data": {
      "text/plain": [
       "[1, 8, 27, 64, 125, 216, 343, 512, 729, 1000]"
      ]
     },
     "execution_count": 34,
     "metadata": {},
     "output_type": "execute_result"
    }
   ],
   "source": [
    "l=[1,2,3,4,5,6,7,8,9,10]\n",
    "#list(map(lambda x  : x**3 , l))\n",
    "[i**3 for i in l ]"
   ]
  },
  {
   "cell_type": "code",
   "execution_count": null,
   "id": "48c1e17c-0228-4652-bbe6-29a5f6bbc3f1",
   "metadata": {},
   "outputs": [],
   "source": [
    "Q.Check if a given number is even."
   ]
  },
  {
   "cell_type": "code",
   "execution_count": 22,
   "id": "a184f96c-1182-4b2e-babc-2a5dc268a92f",
   "metadata": {},
   "outputs": [
    {
     "name": "stdin",
     "output_type": "stream",
     "text": [
      "Enter the Number 10\n"
     ]
    },
    {
     "data": {
      "text/plain": [
       "[True]"
      ]
     },
     "execution_count": 22,
     "metadata": {},
     "output_type": "execute_result"
    }
   ],
   "source": [
    "even = [int(input(\"Enter the Number\"))]\n",
    "list(map(lambda x:x%2==0, even))"
   ]
  },
  {
   "cell_type": "code",
   "execution_count": null,
   "id": "23ee6aa8-25e9-435a-9968-b071d9e07e4e",
   "metadata": {},
   "outputs": [],
   "source": [
    "Q. Filter odd numbers from the given list.\n",
    "    [1,2,3,4,5,6,7,8,9,10]"
   ]
  },
  {
   "cell_type": "code",
   "execution_count": 28,
   "id": "2838f5b2-e359-44c7-8e12-7993ec29a086",
   "metadata": {},
   "outputs": [
    {
     "data": {
      "text/plain": [
       "[1, 3, 5, 7, 9]"
      ]
     },
     "execution_count": 28,
     "metadata": {},
     "output_type": "execute_result"
    }
   ],
   "source": [
    "l=  [1,2,3,4,5,6,7,8,9,10]\n",
    "list(filter(lambda x : x % 2 == 1 , l))"
   ]
  },
  {
   "cell_type": "code",
   "execution_count": null,
   "id": "65ae782e-93b4-41ab-a878-bd9c87614a7e",
   "metadata": {},
   "outputs": [],
   "source": [
    "Q. Sort a list of integers into positive and negative integers lists.\n",
    "   [1,2,3,4,5,6,-1,-2,-3,-4,-5,0]  "
   ]
  },
  {
   "cell_type": "code",
   "execution_count": 42,
   "id": "db847280-baf1-4c31-9497-f84e51616941",
   "metadata": {},
   "outputs": [
    {
     "data": {
      "text/plain": [
       "[0, 1, 2, 3, 4, 5, 6, -5, -4, -3, -2, -1]"
      ]
     },
     "execution_count": 42,
     "metadata": {},
     "output_type": "execute_result"
    }
   ],
   "source": [
    "list = [1,2,3,4,5,6,-1,-2,-3,-4,-5,0]\n",
    "sort =  sorted(filter(lambda x: x >= 0, list)) + sorted(filter(lambda x: x < 0, list))\n",
    "sort\n"
   ]
  }
 ],
 "metadata": {
  "kernelspec": {
   "display_name": "Python 3 (ipykernel)",
   "language": "python",
   "name": "python3"
  },
  "language_info": {
   "codemirror_mode": {
    "name": "ipython",
    "version": 3
   },
   "file_extension": ".py",
   "mimetype": "text/x-python",
   "name": "python",
   "nbconvert_exporter": "python",
   "pygments_lexer": "ipython3",
   "version": "3.10.8"
  }
 },
 "nbformat": 4,
 "nbformat_minor": 5
}
