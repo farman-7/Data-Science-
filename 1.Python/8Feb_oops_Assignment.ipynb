{
 "cells": [
  {
   "cell_type": "code",
   "execution_count": null,
   "id": "c94a82e6-a4ef-4900-9cb7-4aa474afd225",
   "metadata": {},
   "outputs": [],
   "source": [
    "Q1. What is Abstraction in OOps? Explain with an example."
   ]
  },
  {
   "cell_type": "code",
   "execution_count": null,
   "id": "23b20820-a088-46a7-817e-0581be57146d",
   "metadata": {},
   "outputs": [],
   "source": [
    "Ans:-\n",
    "    Abstraction:- An abstract class can be considered as a blueprint for other classes. It allows you to create a set of methods that must be created within any\n",
    "    child classes built from the abstract class. A class which contains one or more abstract methods is called an abstract class. An abstract method is a method\n",
    "    that has a declaration but does not have an implementation. While we are designing large functional units we use an abstract class. When we want to provide a\n",
    "    common interface for different implementations of a component, we use an abstract class.\n",
    "    \n",
    "Example shown below:-"
   ]
  },
  {
   "cell_type": "code",
   "execution_count": 1,
   "id": "6997af42-3f44-4cdf-a0d4-08043210a00c",
   "metadata": {},
   "outputs": [
    {
     "name": "stdout",
     "output_type": "stream",
     "text": [
      "I have 3 sides\n",
      "I have 4 sides\n",
      "I have 5 sides\n",
      "I have 6 sides\n"
     ]
    }
   ],
   "source": [
    "# Python program showing\n",
    "# abstract base class work\n",
    "\n",
    "from abc import ABC, abstractmethod\n",
    "\n",
    "class Polygon(ABC):\n",
    "\n",
    "\t@abstractmethod\n",
    "\tdef noofsides(self):\n",
    "\t\tpass\n",
    "\n",
    "class Triangle(Polygon):\n",
    "\n",
    "\t# overriding abstract method\n",
    "\tdef noofsides(self):\n",
    "\t\tprint(\"I have 3 sides\")\n",
    "\n",
    "class Pentagon(Polygon):\n",
    "\n",
    "\t# overriding abstract method\n",
    "\tdef noofsides(self):\n",
    "\t\tprint(\"I have 5 sides\")\n",
    "\n",
    "class Hexagon(Polygon):\n",
    "\n",
    "\t# overriding abstract method\n",
    "\tdef noofsides(self):\n",
    "\t\tprint(\"I have 6 sides\")\n",
    "\n",
    "class Quadrilateral(Polygon):\n",
    "\n",
    "\t# overriding abstract method\n",
    "\tdef noofsides(self):\n",
    "\t\tprint(\"I have 4 sides\")\n",
    "\n",
    "# Driver code\n",
    "R = Triangle()\n",
    "R.noofsides()\n",
    "\n",
    "K = Quadrilateral()\n",
    "K.noofsides()\n",
    "\n",
    "R = Pentagon()\n",
    "R.noofsides()\n",
    "\n",
    "K = Hexagon()\n",
    "K.noofsides()\n"
   ]
  },
  {
   "cell_type": "code",
   "execution_count": null,
   "id": "80aba7c0-ac9d-4aef-9a82-b251dbd35437",
   "metadata": {},
   "outputs": [],
   "source": [
    "Q2. Differentiate between Abstraction and Encapsulation. Explain with an example."
   ]
  },
  {
   "cell_type": "code",
   "execution_count": null,
   "id": "6ccb0fa2-7b1a-4ff6-a30a-faf2db7a353f",
   "metadata": {},
   "outputs": [],
   "source": [
    "ANS:-\n",
    "    Abstraction:-\n",
    "    1.Shows, what elements are necessary to build a system.\n",
    "    2.During 'design level'.\n",
    "    3.Focus is on \"what\" should be done\n",
    "    4.Achieved through encapsulation.\n",
    "    5.The GUI of a mobile phone, it has some icons to click on, which on click perform the specific function.\n",
    "    6.Abstraction: Hiding internal details and showing functionality only. Abstraction focus on what the object does instead of how it does.\n",
    "\n",
    "    Encapsulation:-\n",
    "    1.Hides the complexity of a system.\n",
    "    2.During 'Implementation level'.\n",
    "    3.Focus is on \"how\" it should be done.\n",
    "    4.Achieved through making the members of a class as 'private'.\n",
    "    5.After the icon is clicked, the end user has no idea regarding its implementation details\n",
    "    6.Encapsulation: Wrapping code and data together into a single unit. Class is an example of encapsulation, because it wraps the method and property."
   ]
  },
  {
   "cell_type": "code",
   "execution_count": null,
   "id": "0ae13bd0-0cd7-4298-ba95-d9d2c8dea5c1",
   "metadata": {},
   "outputs": [],
   "source": [
    "Q3. What is abc module in python? Why is it used?"
   ]
  },
  {
   "cell_type": "code",
   "execution_count": null,
   "id": "1c5f7daf-bc5b-48f4-bf16-4e35d1f743f1",
   "metadata": {},
   "outputs": [],
   "source": [
    "ANS:-The 'abc' module in Python library provides the infrastructure for defining custom abstract base classes.\n",
    "    'abc' works by marking methods of the base class as abstract. This is done by @absttractmethod decorator. A concrete class which is a sub class of such\n",
    "     abstract base class then implements the abstract base by overriding its abstract methods.\n",
    "\n",
    "abstract base class(abc) and its importance:-\n",
    "                1.Abstract Base Class\n",
    "                2.Declaring an Abstract Base Class\n",
    "                3.Abstract Properties\n",
    "                4.Built-In Abstract Classes\n",
    "\n",
    "Use of abc module:-\n",
    "That's where ABC(Abstract Base Class) plays an important role in making sure that the subclasses must follow that blueprint. Thus we can say that the subclasses\n",
    "inherited from the abstract class must follow the same structure and implements the abstract methods."
   ]
  },
  {
   "cell_type": "code",
   "execution_count": null,
   "id": "a741e19c-07e4-401a-a1a5-b0a6e997643a",
   "metadata": {},
   "outputs": [],
   "source": [
    "Q4. How can we achieve data abstraction?"
   ]
  },
  {
   "cell_type": "code",
   "execution_count": null,
   "id": "a51de731-d984-4b59-b8a8-750a377ee5e5",
   "metadata": {},
   "outputs": [],
   "source": [
    "ANS:-\n",
    "    Abstract Base Class (ABC) to achieve data abstraction in python. We can say a class is an abstract class when a class contains an abstract method.\n",
    "    We can use @abstractmethod keyword to define an abstract method in python."
   ]
  },
  {
   "cell_type": "code",
   "execution_count": null,
   "id": "b0c2a0c6-913a-4542-a50a-3493a2bb7b25",
   "metadata": {},
   "outputs": [],
   "source": [
    "# abstraction in python\n",
    "from abc import ABC,abstractmethod\n",
    "\n",
    "# abstract class\n",
    "class Subject(ABC):\n",
    "    @abstractmethod\n",
    "    def subject(self):\n",
    "        pass\n",
    "\n",
    "class Maths(Subject):\n",
    "    # override superclass method\n",
    "    def subject(self):\n",
    "        print(\"Subject is Maths\")\n",
    "\n",
    "class Physics(Subject):\n",
    "    # override superclass method\n",
    "    def subject(self):\n",
    "        print(\"Subject is Physics\")\n",
    "\n",
    "class Chemistry(Subject):\n",
    "    # override superclass method\n",
    "    def subject(self):\n",
    "        print(\"Subject is Chemistry\")\n",
    "\n",
    "class English(Subject):\n",
    "    # override superclass method\n",
    "    def subject(self):\n",
    "        print(\"Subject is English\")\n",
    "\n",
    "maths=Maths()\n",
    "maths.subject()\n",
    "\n",
    "physics=Physics()\n",
    "physics.subject()\n",
    "\n",
    "chemistry=Chemistry()\n",
    "chemistry.subject()\n",
    "\n",
    "english=English()\n",
    "english.subject()"
   ]
  },
  {
   "cell_type": "code",
   "execution_count": null,
   "id": "2e17c84f-35e9-435b-8e85-ef03cf3d2b49",
   "metadata": {},
   "outputs": [],
   "source": [
    "Q5. Can we create an instance of an abstract class? Explain your answer."
   ]
  },
  {
   "cell_type": "code",
   "execution_count": null,
   "id": "cb377db8-418d-4fa8-9f60-4205bcf10cd4",
   "metadata": {},
   "outputs": [],
   "source": [
    "* No, abstract class are classes which can have abstract methods and it can’t be instantiated. We cannot instantiate an abstract class , it does not have a complete \n",
    "  implementation.\n",
    "* but when we use this abstract class to provide certain functionalities to a base class or child class it can do that by creating the object of the base class."
   ]
  },
  {
   "cell_type": "code",
   "execution_count": 2,
   "id": "a1253442-8d3c-4e84-8be2-adb047ae6cec",
   "metadata": {},
   "outputs": [
    {
     "name": "stdout",
     "output_type": "stream",
     "text": [
      "True\n",
      "True\n"
     ]
    }
   ],
   "source": [
    "import abc\n",
    "class parent:\n",
    "    def ABC(self):\n",
    "        pass\n",
    "class child(parent):\n",
    "    def ABC(self):\n",
    "        print(\"child class\")\n",
    "#driver of code\n",
    "print(issubclass(child,parent))\n",
    "print( isinstance(child(), parent))"
   ]
  },
  {
   "cell_type": "code",
   "execution_count": null,
   "id": "a1bb9766-8782-4d1a-9945-fbad1d1e61b7",
   "metadata": {},
   "outputs": [],
   "source": []
  }
 ],
 "metadata": {
  "kernelspec": {
   "display_name": "Python 3 (ipykernel)",
   "language": "python",
   "name": "python3"
  },
  "language_info": {
   "codemirror_mode": {
    "name": "ipython",
    "version": 3
   },
   "file_extension": ".py",
   "mimetype": "text/x-python",
   "name": "python",
   "nbconvert_exporter": "python",
   "pygments_lexer": "ipython3",
   "version": "3.10.8"
  }
 },
 "nbformat": 4,
 "nbformat_minor": 5
}
