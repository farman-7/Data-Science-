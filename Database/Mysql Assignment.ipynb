{
 "cells": [
  {
   "cell_type": "code",
   "execution_count": null,
   "id": "658a6550-f56f-4df3-ad6f-d8bcf0877988",
   "metadata": {},
   "outputs": [],
   "source": [
    "Q1. What is a database? Differentiate between SQL and NoSQL databases."
   ]
  },
  {
   "cell_type": "code",
   "execution_count": null,
   "id": "5b4575bf-5508-4f3a-8896-7a39f0edccf4",
   "metadata": {},
   "outputs": [],
   "source": [
    "ANS:-\n",
    "  DATABASE:- A database is an organized collection of data, so that it can be easily accessed and managed.\n",
    "             You can organize data into tables, rows, columns, and index it to make it easier to find relevant information.\n",
    "\n",
    "  SQL:- 1.RELATIONAL DATABASE MANAGEMENT SYSTEM (RDBMS).\n",
    "        2.These databases have fixed or static or predefined schema.\n",
    "        3.These databases are not suited for hierarchical data storage.\n",
    "        4.These databases are best suited for complex queries.\n",
    "        5.Vertically Scalable.\n",
    "        6.It Follows ACID property.\n",
    "        7.Examples: MySQL, PostgreSQL, Oracle, MS-SQL Server, etc.\n",
    "        \n",
    "  NoSQL:- 1.Non-relational or distributed database system.\n",
    "          2.They have dynamic schema.\n",
    "          3.These databases are best suited for hierarchical data storage.\n",
    "          4.These databases are not so good for complex queries.\n",
    "          5.Horizontally scalable.\n",
    "          6.Follows CAP(consistency, availability, partition tolerance).\n",
    "          7.Examples: MongoDB, GraphQL, HBase, Neo4j, Cassandra, etc."
   ]
  },
  {
   "cell_type": "code",
   "execution_count": null,
   "id": "9894daa2-b12d-4b6b-a88b-e63c3671fd5d",
   "metadata": {},
   "outputs": [],
   "source": [
    "Q2. What is DDL? Explain why CREATE, DROP, ALTER, and TRUNCATE are used with an example."
   ]
  },
  {
   "cell_type": "code",
   "execution_count": null,
   "id": "f51767fe-1ffa-4e66-a80c-138a9e31dfe7",
   "metadata": {},
   "outputs": [],
   "source": [
    "ANS:- DDL is short name of Data Definition Language, which deals with database schemas and descriptions, \n",
    "      of how the data should reside in the database.\n",
    "\n",
    "1.CREATE - This command is used to create a new table in SQL. The user has to give information like table name, column names, and their datatypes.\n",
    "         Example:- We need to create a table for storing Student information of a particular College. Create syntax would be as below.\n",
    "\n",
    "            CREATE TABLE Student_info\n",
    "            (\n",
    "            College_Id number(2),\n",
    "            College_name varchar(30),\n",
    "            Branch varchar(10)\n",
    "            );\n",
    "\n",
    "2.DROP - This command is used to delete objects from the database.\n",
    "         Example:- If the College Authority wants to change their Database by deleting the Student_info Table. \n",
    "             DROP TABLE Student_info;\n",
    "\n",
    "3.ALTER - This command is used to add, delete or change columns in the existing table. The user needs to know the existing table\n",
    "          name and can do add, delete or modify tasks easily.\n",
    "          Example:- In our Student_info table, we want to add a new column for CGPA. The syntax would be as below as follows.\n",
    "              ALTER TABLE Student_info\n",
    "              ADD CGPA number;\n",
    "\n",
    "4.TRUNCATE - Remove all records from a table, including all spaces allocated for the records are removed.\n",
    "             Example:- The College Authority wants to remove the details of all students for new batches but wants to keep the table structure.\n",
    "                       The command they can use is as follows.\n",
    "                TRUNCATE TABLE Student_info;\n",
    "             "
   ]
  },
  {
   "cell_type": "code",
   "execution_count": null,
   "id": "0f4cc5e0-fe5d-4c74-9806-f968fc31b6b6",
   "metadata": {},
   "outputs": [],
   "source": [
    "Q3. What is DML? Explain INSERT, UPDATE, and DELETE with an example.\n",
    " "
   ]
  },
  {
   "cell_type": "code",
   "execution_count": null,
   "id": "80b4f547-2dbc-4706-9407-35c443bac444",
   "metadata": {},
   "outputs": [],
   "source": [
    "ANS:- The SQL commands that deals with the manipulation of data present in the database belong to DML or Data Manipulation Language \n",
    "      and this includes most of the SQL statements. It is the component of the SQL statement that controls access to data and to the database.\n",
    "1.INSERT-It is  allows users to insert data in database tables.\n",
    "         Example:-\n",
    "2.UPDATE-The UPDATE statement is used to modify the existing records in a table.\n",
    "         Example:- Shown in below:-\n",
    "            UPDATE Customers\n",
    "            SET ContactName='Juan'\n",
    "            WHERE Country='Mexico';\n",
    "3.DELETE-The DELETE statement is used to delete existing records in a table.\n",
    "         Example:-The following SQL statement deletes the customer \"Alfreds Futterkiste\" from the \"Customers\" table shown in below:-\n",
    "             DELETE FROM Customers \n",
    "             WHERE CustomerName='Alfreds Futterkiste';"
   ]
  },
  {
   "cell_type": "code",
   "execution_count": null,
   "id": "db783b31-a657-4bcc-a700-674ebaa6bf96",
   "metadata": {},
   "outputs": [],
   "source": [
    "Q4.  What is DQL? Explain SELECT with an example."
   ]
  },
  {
   "cell_type": "code",
   "execution_count": null,
   "id": "d4eee2f1-1843-4051-8e1c-b5cfa6e5d190",
   "metadata": {},
   "outputs": [],
   "source": [
    "ANS:- DQL statements are used for performing queries on the data within schema objects. The purpose of the DQL Command is to get \n",
    "     some schema relation based on the query passed to it. We can define DQL as follows it is a component of SQL statement that allows \n",
    "     getting data from the database and imposing order upon it. It includes the SELECT statement. \n",
    "        \n",
    "SELECT- It is used to retrieve data from the database.\n",
    "        Example:-Example shown below-\n",
    "            SELECT * FROM Customers;"
   ]
  },
  {
   "cell_type": "code",
   "execution_count": null,
   "id": "49adfba9-f2fc-4e31-98ee-38dae4a58fba",
   "metadata": {},
   "outputs": [],
   "source": [
    "Q5. Explain Primary Key and Foreign Key."
   ]
  },
  {
   "cell_type": "code",
   "execution_count": null,
   "id": "3477200a-e4ab-497d-af25-e2074b45ff93",
   "metadata": {},
   "outputs": [],
   "source": [
    "ANS:- A primary key:- It is a minimal set of attributes (columns) in a table that uniquely identifies tuples (rows) of that table.\n",
    "\n",
    "Properties of primary key :-\n",
    "1.The PRIMARY KEY constraint uniquely identifies each record in a table.\n",
    "2.Primary keys must contain UNIQUE values, and cannot contain NULL values.\n",
    "3.A table can have only ONE primary key; and in the table, this primary key can consist of single or multiple columns (fields).\n",
    "\n",
    "\n",
    "Foreign key:- A foreign key is the one that is used to link two tables together via the primary key. It means the columns of one table  \n",
    "              points to the primary key attribute of the other table. It further means that if any attribute is set as a primary key \n",
    "              attribute will work in another table as a foreign key attribute. But one should know that a foreign key has nothing to do\n",
    "              with the primary key."
   ]
  },
  {
   "cell_type": "code",
   "execution_count": null,
   "id": "bd3bfcd7-7b14-4a15-b9ea-e4403e7ee252",
   "metadata": {},
   "outputs": [],
   "source": [
    "Q6. Write a python code to connect MySQL to python. Explain the cursor() and execute() method."
   ]
  },
  {
   "cell_type": "code",
   "execution_count": null,
   "id": "d2a9d027-a6f4-42a5-a7c7-099853dcd098",
   "metadata": {},
   "outputs": [],
   "source": [
    "ANS:-\n",
    "import mysql.connector\n",
    "mydb = mysql.connector.connect(\n",
    "  host=\"localhost\",\n",
    "  user=\"abc\",\n",
    "  password=\"password\"\n",
    ")\n",
    "mycursor = mydb.cursor()\n",
    "mycursor.execute(\"CREATE DATABASE if not exists test2\")\n",
    "mydb.close()\n",
    "\n",
    "cursor():- They are permanently connected to the connection, and all instructions are run in the context of the database session covered \n",
    "           by the connection. Cursors generated from the same connection aren’t separated, which means that any alterations made to the \n",
    "           database by one cursor are incontinently visible to the others.\n",
    "        \n",
    "Execute():- The execute() method is a commonly used method in programming languages, particularly in those that support object-oriented \n",
    "            programming. The execute() method is usually defined within a class and is used to perform a specific action or task associated \n",
    "            with that class.\n",
    "\n",
    "            In general, the execute() method takes input data or parameters, performs some computation or processing, and produces some output \n",
    "            or result. The exact behavior of the execute() method depends on the class in which it is defined and the specific implementation \n",
    "            of that method."
   ]
  },
  {
   "cell_type": "code",
   "execution_count": null,
   "id": "f6090e8e-f53a-458b-a144-889b2997fd8f",
   "metadata": {},
   "outputs": [],
   "source": [
    "Q7. Give the order of execution of SQL clauses in an SQL query."
   ]
  },
  {
   "cell_type": "code",
   "execution_count": null,
   "id": "14adbca3-f7e5-4c93-8c89-a511ab7fcd30",
   "metadata": {},
   "outputs": [],
   "source": [
    "1.FROM clause:- This clause specifies the tables from which the data will be retrieved.\n",
    "\n",
    "2.WHERE clause:- This clause filters the data based on the specified conditions. It is applied after the FROM clause.\n",
    "\n",
    "3.GROUP BY clause:- This clause groups the data based on one or more columns. It is applied after the WHERE clause.\n",
    "\n",
    "4.HAVING clause:- This clause filters the data based on group-level conditions. It is applied after the GROUP BY clause.\n",
    "\n",
    "5.SELECT clause:- This clause selects the columns to be retrieved from the tables. It is applied after the WHERE, GROUP BY, and HAVING clauses.\n",
    "\n",
    "6.ORDER BY clause:- This clause sorts the data based on one or more columns. It is applied after the SELECT clause.\n",
    "\n",
    "7.LIMIT clause:- This clause limits the number of rows returned by the query. It is applied after the ORDER BY clause."
   ]
  },
  {
   "cell_type": "code",
   "execution_count": null,
   "id": "7577a601-196e-430d-b67b-7962ae7b8daf",
   "metadata": {},
   "outputs": [],
   "source": []
  }
 ],
 "metadata": {
  "kernelspec": {
   "display_name": "Python 3 (ipykernel)",
   "language": "python",
   "name": "python3"
  },
  "language_info": {
   "codemirror_mode": {
    "name": "ipython",
    "version": 3
   },
   "file_extension": ".py",
   "mimetype": "text/x-python",
   "name": "python",
   "nbconvert_exporter": "python",
   "pygments_lexer": "ipython3",
   "version": "3.10.8"
  }
 },
 "nbformat": 4,
 "nbformat_minor": 5
}
