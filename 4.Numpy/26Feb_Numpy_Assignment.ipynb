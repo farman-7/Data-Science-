{
 "cells": [
  {
   "cell_type": "code",
   "execution_count": 30,
   "id": "7a08c7c8-c8cb-44db-ac49-485e34c38a52",
   "metadata": {},
   "outputs": [],
   "source": [
    "'''Consider the below code to answer further questions:-'''\n",
    "\n",
    "import numpy as np\n",
    "\n",
    "list_ = [ '1' , '2' , '3' , '4' , '5' ]\n",
    "\n",
    "array_list = np.array(object = list_)"
   ]
  },
  {
   "cell_type": "code",
   "execution_count": 31,
   "id": "a411708d-f278-4047-8374-22c3ef0afd9a",
   "metadata": {},
   "outputs": [
    {
     "data": {
      "text/plain": [
       "array(['1', '2', '3', '4', '5'], dtype='<U1')"
      ]
     },
     "execution_count": 31,
     "metadata": {},
     "output_type": "execute_result"
    }
   ],
   "source": [
    "array_list"
   ]
  },
  {
   "cell_type": "code",
   "execution_count": 32,
   "id": "9bf9caf4-77ef-42be-9c5d-78fb34f19bc6",
   "metadata": {},
   "outputs": [
    {
     "data": {
      "text/plain": [
       "['1', '2', '3', '4', '5']"
      ]
     },
     "execution_count": 32,
     "metadata": {},
     "output_type": "execute_result"
    }
   ],
   "source": [
    "list_"
   ]
  },
  {
   "cell_type": "code",
   "execution_count": 21,
   "id": "59d907bd-54f2-4d6a-a7fd-02adf603a226",
   "metadata": {},
   "outputs": [],
   "source": [
    "Q1. Is there any difference in the data type of variables list_ and array_list? If there is then write a code to print the data types of both\n",
    "   the variables."
   ]
  },
  {
   "cell_type": "code",
   "execution_count": 33,
   "id": "4e2ef09b-c2a5-495a-9d55-750cb92bc404",
   "metadata": {},
   "outputs": [
    {
     "name": "stdout",
     "output_type": "stream",
     "text": [
      "<class 'list'>\n",
      "<class 'numpy.ndarray'>\n"
     ]
    }
   ],
   "source": [
    "'''Yes, there is a difference in the data type of variables list_ and array_list. list_ is a Python list object while array_list \n",
    "   is a NumPy array object.'''\n",
    "# printing data types of both variables\n",
    "print(type(list_)) \n",
    "print(type(array_list))"
   ]
  },
  {
   "cell_type": "code",
   "execution_count": null,
   "id": "feb2df4b-6350-4b8c-b7d1-4f30dccd45a9",
   "metadata": {},
   "outputs": [],
   "source": []
  },
  {
   "cell_type": "code",
   "execution_count": null,
   "id": "437cfa09-d8ee-4734-a191-3ec2dfb182cf",
   "metadata": {},
   "outputs": [],
   "source": [
    "Q2. Write a code to print the data type of each and every element of both the variables list_ and arra_list."
   ]
  },
  {
   "cell_type": "code",
   "execution_count": 34,
   "id": "9606037d-423a-4851-aafb-8a1b7b51f2f2",
   "metadata": {},
   "outputs": [
    {
     "name": "stdout",
     "output_type": "stream",
     "text": [
      "<class 'str'>\n",
      "<class 'str'>\n",
      "<class 'str'>\n",
      "<class 'str'>\n",
      "<class 'str'>\n",
      "+.................+\n",
      "<class 'numpy.str_'>\n",
      "<class 'numpy.str_'>\n",
      "<class 'numpy.str_'>\n",
      "<class 'numpy.str_'>\n",
      "<class 'numpy.str_'>\n"
     ]
    }
   ],
   "source": [
    "for i in list_ :\n",
    "    print(type(i))\n",
    "print(\"+.................+\")\n",
    "for i in array_list :\n",
    "    print(type(i))"
   ]
  },
  {
   "cell_type": "code",
   "execution_count": null,
   "id": "ebc6e64c-06c0-4607-b21c-cb8c9e93ce7a",
   "metadata": {},
   "outputs": [],
   "source": []
  },
  {
   "cell_type": "code",
   "execution_count": null,
   "id": "adde424a-2aa6-4d77-9982-a38d9afb1670",
   "metadata": {},
   "outputs": [],
   "source": [
    "Q3. Considering the following changes in the variable, array_list:\n",
    "\n",
    "array_list = np.array(object = list_, dtype = int)\n",
    "\n",
    "Will there be any difference in the data type of the elements present in both the variables, list_ and \n",
    "arra_list? If so then print the data types of each and every element present in both the variables, list_ \n",
    "and arra_list."
   ]
  },
  {
   "cell_type": "code",
   "execution_count": 35,
   "id": "f779bd26-ad12-4b30-9d5e-d5ed52af236b",
   "metadata": {},
   "outputs": [
    {
     "name": "stdout",
     "output_type": "stream",
     "text": [
      "[1 2 3 4 5]\n",
      "....data type of each elemrnt in list_ given below .......\n",
      "<class 'str'>\n",
      "<class 'str'>\n",
      "<class 'str'>\n",
      "<class 'str'>\n",
      "<class 'str'>\n",
      "....data type of each elemrnt in array_list given below .......\n",
      "<class 'numpy.int64'>\n",
      "<class 'numpy.int64'>\n",
      "<class 'numpy.int64'>\n",
      "<class 'numpy.int64'>\n",
      "<class 'numpy.int64'>\n"
     ]
    }
   ],
   "source": [
    "array_list = np.array(object = list_, dtype = int)\n",
    "print(array_list)\n",
    "print(\"....data type of each elemrnt in list_ given below .......\")\n",
    "for i in list_ :\n",
    "    print(type(i))\n",
    "print(\"....data type of each elemrnt in array_list given below .......\")\n",
    "for i in array_list :\n",
    "    print(type(i))"
   ]
  },
  {
   "cell_type": "code",
   "execution_count": null,
   "id": "6fad29ad-6523-4073-b3cf-18f3ed22130d",
   "metadata": {},
   "outputs": [],
   "source": []
  },
  {
   "cell_type": "code",
   "execution_count": 36,
   "id": "a227c16e-9074-495c-a58d-17810de1dccc",
   "metadata": {},
   "outputs": [],
   "source": [
    "'''Consider the below code to answer further questions:'''\n",
    "\n",
    "import numpy as np\n",
    "\n",
    "num_list = [ [ 1 , 2 , 3 ] , [ 4 , 5 , 6 ] ]\n",
    "\n",
    "num_array = np.array(object = num_list)"
   ]
  },
  {
   "cell_type": "code",
   "execution_count": null,
   "id": "c2954c59-7e85-47c3-bf99-6b88807ee305",
   "metadata": {},
   "outputs": [],
   "source": [
    "Q4. Write a code to find the following characteristics of variable, num_array:\n",
    "\n",
    "(i)\t shape\n",
    "\n",
    "(ii) size"
   ]
  },
  {
   "cell_type": "code",
   "execution_count": 39,
   "id": "eb0d935b-03ea-4422-9fbd-43fdadea39c2",
   "metadata": {},
   "outputs": [
    {
     "name": "stdout",
     "output_type": "stream",
     "text": [
      "(2, 3)\n",
      "6\n"
     ]
    }
   ],
   "source": [
    "print(np.shape(num_list))\n",
    "print(np.size(num_list))"
   ]
  },
  {
   "cell_type": "code",
   "execution_count": null,
   "id": "ef14b640-1c0f-4b76-b8b0-7bc9a3fc4f08",
   "metadata": {},
   "outputs": [],
   "source": []
  },
  {
   "cell_type": "code",
   "execution_count": null,
   "id": "d493ec17-2fde-4ddd-88a6-69a1aea27f4b",
   "metadata": {},
   "outputs": [],
   "source": [
    "Q5. Write a code to create numpy array of 3*3 matrix containing zeros only, using a numpy array creation function.\n",
    "\n",
    "[Hint: The size of the array will be 9 and the shape will be (3,3)"
   ]
  },
  {
   "cell_type": "code",
   "execution_count": 43,
   "id": "88214181-b53d-4c69-9d56-9644afa933a8",
   "metadata": {},
   "outputs": [
    {
     "data": {
      "text/plain": [
       "array([[0., 0., 0.],\n",
       "       [0., 0., 0.],\n",
       "       [0., 0., 0.]])"
      ]
     },
     "execution_count": 43,
     "metadata": {},
     "output_type": "execute_result"
    }
   ],
   "source": [
    "matrix=np.zeros((3,3))\n",
    "matrix"
   ]
  },
  {
   "cell_type": "code",
   "execution_count": 47,
   "id": "b4ff62ec-084b-4607-bc71-55503f42f40c",
   "metadata": {},
   "outputs": [
    {
     "name": "stdout",
     "output_type": "stream",
     "text": [
      "(3, 3)\n",
      "9\n"
     ]
    }
   ],
   "source": [
    "print(np.shape(matrix))\n",
    "print(np.size(matrix))"
   ]
  },
  {
   "cell_type": "code",
   "execution_count": null,
   "id": "b6b89131-d04a-43f0-a4d1-cff4e5a8f311",
   "metadata": {},
   "outputs": [],
   "source": []
  },
  {
   "cell_type": "code",
   "execution_count": null,
   "id": "85798dfd-3266-48bf-ad8d-ab65ddb56640",
   "metadata": {},
   "outputs": [],
   "source": [
    "Q6. Create an identity matrix of shape (5,5) using numpy functions?\n",
    "\n",
    "[Hint: An identity matrix is a matrix containing 1 diagonally and other elements will be 0."
   ]
  },
  {
   "cell_type": "code",
   "execution_count": 49,
   "id": "0dcd5fc8-44ff-4819-950c-714dd10ef18b",
   "metadata": {},
   "outputs": [
    {
     "data": {
      "text/plain": [
       "array([[1., 0., 0., 0., 0.],\n",
       "       [0., 1., 0., 0., 0.],\n",
       "       [0., 0., 1., 0., 0.],\n",
       "       [0., 0., 0., 1., 0.],\n",
       "       [0., 0., 0., 0., 1.]])"
      ]
     },
     "execution_count": 49,
     "metadata": {},
     "output_type": "execute_result"
    }
   ],
   "source": [
    "np.eye(5,5)"
   ]
  },
  {
   "cell_type": "code",
   "execution_count": null,
   "id": "2f35398f-8f0b-44d8-9298-d135d0173604",
   "metadata": {},
   "outputs": [],
   "source": []
  }
 ],
 "metadata": {
  "kernelspec": {
   "display_name": "Python 3 (ipykernel)",
   "language": "python",
   "name": "python3"
  },
  "language_info": {
   "codemirror_mode": {
    "name": "ipython",
    "version": 3
   },
   "file_extension": ".py",
   "mimetype": "text/x-python",
   "name": "python",
   "nbconvert_exporter": "python",
   "pygments_lexer": "ipython3",
   "version": "3.10.8"
  }
 },
 "nbformat": 4,
 "nbformat_minor": 5
}
