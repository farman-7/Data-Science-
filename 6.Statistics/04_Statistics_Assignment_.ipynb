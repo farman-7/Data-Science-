{
 "cells": [
  {
   "cell_type": "markdown",
   "id": "b1128373-18fd-4439-aed9-6c60096dd43d",
   "metadata": {},
   "source": [
    "Q1: What are the Probability Mass Function (PMF) and Probability Density Function (PDF)? Explain with \n",
    "an example."
   ]
  },
  {
   "cell_type": "markdown",
   "id": "d7b52214-3f32-4f28-81ca-11b7257251b7",
   "metadata": {},
   "source": [
    "ANS:-Probability Mass Function (PMF) and Probability Density Function (PDF) are two fundamental concepts in probability theory and statistics used to describe the probability distribution of a random variable.\n",
    "\n",
    "**1.Probability Mass Function (PMF):-** The PMF is a function that maps each possible value of a discrete random variable to its probability of occurrence. It represents the probability that a random variable takes a certain value. The sum of probabilities of all possible values of the random variable is equal to 1. The PMF is defined as:\n",
    "\n",
    ">PMF(x) = P(X = x)<br>\n",
    "\n",
    "where X is a random variable, x is a possible value that X can take, and P(X = x) is the probability that X takes the value x.\n",
    "\n",
    "**Example:** Consider the roll of a fair six-sided die. The possible values that the die can take are 1, 2, 3, 4, 5, and 6, each with a probability of 1/6. The PMF of the random variable X, which represents the number on the top face of the die, is:\n",
    "\n",
    ">PMF(1) = 1/6, PMF(2) = 1/6, PMF(3) = 1/6, PMF(4) = 1/6, PMF(5) = 1/6, PMF(6) = 1/6<br>\n",
    "\n",
    "**2.Probability Density Function (PDF):-**\n",
    "PDF is a function that describes the probability density of a continuous random variable. It represents the probability that a random variable falls within a certain range of values. The area under the curve of the PDF between any two points represents the probability that the random variable falls within that range. The integral of the PDF over the entire domain is equal to 1. The PDF is defined as:\n",
    "\n",
    ">PDF(x) = dF(x)/dx<br>\n",
    "\n",
    "Example: Consider a normal distribution with a mean of 0 and a standard deviation of 1. The PDF of the random variable X, which represents the values that X can take, is:\n",
    "\n",
    ">PDF(x) = 1/(sqrt(2pi)) exp(-(x^2)/2)<br>"
   ]
  },
  {
   "cell_type": "markdown",
   "id": "6aca6e18-a6ed-4569-ab32-db8a58885701",
   "metadata": {},
   "source": []
  },
  {
   "cell_type": "markdown",
   "id": "ccba605f-ae13-4df1-bdff-5a4852347ca1",
   "metadata": {},
   "source": [
    "  Q2: What is Cumulative Density Function (CDF)? Explain with an example. Why CDF is used?"
   ]
  },
  {
   "cell_type": "markdown",
   "id": "a048de30-4600-4e76-84f6-09dac60f5620",
   "metadata": {},
   "source": [
    "ANS:-\n",
    "**The Cumulative Distribution Function (CDF)** is a fundamental concept in probability theory and statistics that describes the probability that a random variable takes a value less than or equal to a given value. It is defined for both discrete and continuous random variables.\n",
    "\n",
    "For a discrete random variable X, the CDF is defined as:\n",
    "\n",
    " >F(x) = P(X ≤ x)<br>\n",
    "\n",
    "where x is any real number, and P(X ≤ x) is the probability that X takes a value less than or equal to x.\n",
    "\n",
    "For a continuous random variable X, the CDF is defined as the integral of the PDF from negative infinity to x:\n",
    "\n",
    " >F(x) = ∫{-∞, x} PDF(t) dt<br>\n",
    "\n",
    "where PDF(x) is the Probability Density Function of X.\n",
    "\n",
    "**Example:** Consider the roll of a fair six-sided die. The possible values that the die can take are 1, 2, 3, 4, 5, and 6, each with a probability of 1/6.\n",
    "The CDF of the random variable X, which represents the number on the top face of the die, is:\n",
    "\n",
    ">F(x) = P(X ≤ x)<br>\n",
    "\n",
    ">= 0 for x < 1<br>\n",
    ">= 1/6 for 1 ≤ x < 2<br>\n",
    ">= 2/6 for 2 ≤ x < 3<br>\n",
    ">= 3/6 for 3 ≤ x < 4<br>\n",
    ">= 4/6 for 4 ≤ x < 5<br>\n",
    ">= 5/6 for 5 ≤ x < 6<br>\n",
    ">= 1 for x ≥ 6<br>"
   ]
  },
  {
   "cell_type": "code",
   "execution_count": null,
   "id": "cc2773af-d33d-4d1c-978a-f61bcb13c075",
   "metadata": {},
   "outputs": [],
   "source": []
  },
  {
   "cell_type": "markdown",
   "id": "a59983b6-777e-4bcd-aee7-c26d50e2e6f2",
   "metadata": {},
   "source": [
    "Q3: What are some examples of situations where the normal distribution might be used as a model? \n",
    "Explain how the parameters of the normal distribution relate to the shape of the distribution."
   ]
  },
  {
   "cell_type": "markdown",
   "id": "bed8616c-01ae-44d8-9491-f12a7fa5476e",
   "metadata": {},
   "source": [
    "ANS:-\n",
    "Some examples of situations where the normal distribution might be used as a model include:\n",
    "\n",
    "1. **Heights or weights of a population:-** The normal distribution can be used to model the distribution of heights or weights of a population.\n",
    "2. **Test scores:-** The normal distribution can be used to model the distribution of test scores in a population.\n",
    "3. **Measurement errors:-** The normal distribution can be used to model the distribution of errors in measurements, such as errors in laboratory  measurements.\n",
    "4. **Financial returns:-** The normal distribution can be used to model the distribution of financial returns, such as stock prices.\n",
    "5. **Time taken to complete a task:-** The normal distribution can be used to model the distribution of time taken to complete a task, such as    the time taken to fill an order in a factory.\n",
    "\n",
    "The normal distribution is a symmetric distribution, which means that the mean, median, and mode are all equal. The shape of the distribution is bell-shaped, and the total area under the curve is equal to 1. The standard normal distribution is a special case of the normal distribution with a mean of 0 and a standard deviation of 1.\n",
    "The normal distribution is often used as a model in statistical analysis because of its properties, such as the central limit theorem, which states that the sum of a large number of independent and identically distributed random variables will tend to a normal distribution."
   ]
  },
  {
   "cell_type": "markdown",
   "id": "fde1c30a-7cbe-4d43-9679-e643047c4a80",
   "metadata": {},
   "source": []
  },
  {
   "cell_type": "markdown",
   "id": "109cb8fe-bf12-48d3-83df-8e9018773946",
   "metadata": {},
   "source": [
    "Q4: Explain the importance of Normal Distribution. Give a few real-life examples of Normal \n",
    "Distribution. "
   ]
  },
  {
   "cell_type": "markdown",
   "id": "196d6cf8-5830-4ddb-b6f3-df064f486d89",
   "metadata": {},
   "source": [
    "ANS:-\n",
    "**The importance of the normal distribution can be explained as follows:-**\n",
    "\n",
    "1. **Many natural phenomena follow a normal distribution:-** The normal distribution is observed in many natural phenomena, such as the heights and weights of a population, the measurement errors in laboratory experiments, the test scores of students, the time taken to complete a task, and many more.\n",
    "2. **Statistical inference:-** The normal distribution is used extensively in statistical inference, which involves drawing conclusions about a population based on a sample of data. Many statistical tests, such as the t-test and ANOVA, assume that the data follow a normal distribution.\n",
    "3. **Central limit theorem:-** The central limit theorem states that the sum of a large number of independent and identically distributed random variables will tend to a normal distribution, regardless of the distribution of the individual variables. This property makes the normal distribution a fundamental concept in probability theory and statistics.\n",
    "\n",
    "**Some real-life examples of the normal distribution are:-**\n",
    "\n",
    "1. **Heights of adults:-** The heights of adults in a population follow a normal distribution, with a mean of around 5 feet 7 inches and a standard deviation of around 3 inches.\n",
    "2. **Test scores:-** The scores on a standardized test, such as the SAT or GRE, follow a normal distribution, with a mean of around 500-600 and a standard deviation of around 100-200.\n",
    "3. **Body temperature:-** The body temperature of a healthy human follows a normal distribution, with a mean of around 98.6 degrees Fahrenheit and a standard deviation of around 0.5 degrees.\n",
    "4. **IQ scores:-** The IQ scores of a population follow a normal distribution, with a mean of 100 and a standard deviation of 15.\n",
    "5. **Stock market returns:-** The daily returns on the stock market follow a normal distribution, with a mean of around 0 and a standard deviation of around 1-2%."
   ]
  },
  {
   "cell_type": "code",
   "execution_count": null,
   "id": "ab712134-d521-4ec8-ac5c-a413899d6d45",
   "metadata": {},
   "outputs": [],
   "source": []
  },
  {
   "cell_type": "markdown",
   "id": "89844258-b24d-4f2b-8fa5-59138bd226c7",
   "metadata": {},
   "source": [
    "Q5: What is Bernaulli Distribution? Give an Example. What is the difference between Bernoulli \n",
    "Distribution and Binomial Distribution?"
   ]
  },
  {
   "cell_type": "markdown",
   "id": "038a6a23-1242-4b05-8c9b-6ca75a25a3aa",
   "metadata": {},
   "source": [
    "ANS:-\n",
    "**The Bernoulli distribution** is a discrete probability distribution that models the outcome of a single binary event. It takes a single parameter p, which represents the probability of success for the event, and outputs a probability distribution for the event's outcomes.\n",
    "\n",
    "**Example:-** Consider flipping a fair coin. The Bernoulli distribution models this as a binary event where the outcome is either heads or tails. If we define \"success\" as getting heads, then the probability of success is 0.5, and the probability of failure (getting tails) is also 0.5. The Bernoulli distribution would output a probability distribution where the probability of success is 0.5 and the probability of failure is 0.5.\n",
    "\n",
    "The key difference between the **Bernoulli distribution** and the **binomial distribution** is that the Bernoulli distribution models the outcome of a single event, while the binomial distribution models the number of successes in a fixed number of independent and identical Bernoulli trials. In other words, the binomial distribution is the sum of multiple independent Bernoulli random variables."
   ]
  },
  {
   "cell_type": "code",
   "execution_count": null,
   "id": "529ccaa1-9db6-4865-9682-f5da07c56b3b",
   "metadata": {},
   "outputs": [],
   "source": []
  },
  {
   "cell_type": "markdown",
   "id": "d067ce23-6528-436e-a2ba-1148792083b9",
   "metadata": {},
   "source": [
    "Q6. Consider a dataset with a mean of 50 and a standard deviation of 10. If we assume that the dataset \n",
    "is normally distributed, what is the probability that a randomly selected observation will be greater \n",
    "than 60? Use the appropriate formula and show your calculations."
   ]
  },
  {
   "cell_type": "markdown",
   "id": "3bc0c40b-fa47-4969-95ac-8715f8cd6094",
   "metadata": {},
   "source": [
    "ANS:-\n",
    "We can use the z-table to solve this question.\n",
    "\n",
    "The appropriate formula to use is:\n",
    "   >z = (x - μ) / σ <br>\n",
    "\n",
    "where x is the value of the observation you are interested in (in this case, x = 60), μ is the mean of the dataset, and σ is the standard deviation of the dataset.\n",
    "\n",
    "Substituting the values given in the question, we get:\n",
    ">z = (60 - 50) / 10 =1<br>\n",
    "\n",
    "Now, we need to use the z-table to find the probability that a z-score is greater than 1.\n",
    "\n",
    "Using the z-table, we look up the probability corresponding to a z-score of 1.00 in the positive z-score column. The table tells us that the probability is 0.8413.\n",
    "\n",
    "The probabilty that we got from z-table is the probability of randomly selected number less than 60, because z-table gives us the probability of the values on the left side of 60. But we need the values on the right side (greater than 60) of 60. So we can get that probability by subtracting 0.8413 from 1 as:\n",
    "\n",
    ">1 - 0.8413 = 0.1587<br>"
   ]
  },
  {
   "cell_type": "code",
   "execution_count": null,
   "id": "9cc0c461-af34-4a43-b537-f7d5a0064193",
   "metadata": {},
   "outputs": [],
   "source": []
  },
  {
   "cell_type": "markdown",
   "id": "b4ff7506-8ddf-46cc-8afa-96fe5dd40a4b",
   "metadata": {},
   "source": [
    "Q7: Explain uniform Distribution with an example."
   ]
  },
  {
   "cell_type": "markdown",
   "id": "e6b67bba-99a5-4812-9c05-308090ea8142",
   "metadata": {},
   "source": [
    "ANS:- **Uniform distribution**, also known as a rectangular distribution, is a probability distribution where all possible outcomes are equally likely to occur. It is often used in statistics to model situations where each outcome is equally likely to occur, such as rolling a fair die or picking a card from a well-shuffled deck.\n",
    "\n",
    "**Example:-**\n",
    "**Rolling a fair six-sided die:** When rolling the die, each face has an equal probability of showing up, which is 1/6 or approximately 0.1667. This means that any number between 1 and 6 is equally likely to be rolled, and the probability of rolling any particular number is 1/6.\n",
    "\n",
    "In the above examples, the probability density function of the uniform distribution is constant over the entire range of possible outcomes. That is, the probability of any particular outcome is proportional to the size of the range of possible outcomes."
   ]
  },
  {
   "cell_type": "code",
   "execution_count": null,
   "id": "8129c6cd-242b-4939-9e7c-d78a6a11bc8c",
   "metadata": {},
   "outputs": [],
   "source": []
  },
  {
   "cell_type": "markdown",
   "id": "b3456201-c2c6-4952-9593-067418f4173b",
   "metadata": {},
   "source": [
    "Q8: What is the z score? State the importance of the z score."
   ]
  },
  {
   "cell_type": "markdown",
   "id": "21097776-20b4-4f11-84b1-b6d3edd9b65e",
   "metadata": {},
   "source": [
    "ANS:-**The z-score** is a statistical measure that expresses how far a data point is from the mean of a distribution in terms of standard deviations.\n",
    "\n",
    "    The formula for calculating the z-score of a data point is:-\n",
    "    >z = (x - μ) / σ<br>\n",
    "    where x is the data point, μ is the mean of the distribution, and σ is the standard deviation.\n",
    "\n",
    "**Importance:**\n",
    "\n",
    "1. **The z-score** is important because it allows us to standardize data from different distributions, which can then be compared and analyzed more easily. By converting data into z-scores, we can compare observations from different samples or populations and make meaningful statements about their relative positions.\n",
    "2. **The z-score** is also useful in hypothesis testing, where it is used to calculate the probability of observing a value as extreme as the one observed, assuming a certain null hypothesis."
   ]
  },
  {
   "cell_type": "code",
   "execution_count": null,
   "id": "d65ecc24-2ac1-4a16-aebd-53e3eafb23ca",
   "metadata": {},
   "outputs": [],
   "source": []
  },
  {
   "cell_type": "markdown",
   "id": "3bbd318c-d177-4d61-9f8c-4bbc827a024a",
   "metadata": {},
   "source": [
    "Q9: What is Central Limit Theorem? State the significance of the Central Limit Theorem."
   ]
  },
  {
   "cell_type": "markdown",
   "id": "843513a2-4b76-4a7f-b07b-f2f37d184c7f",
   "metadata": {},
   "source": [
    "ANS:-\n",
    "**The Central Limit Theorem (CLT)** is a fundamental result in probability theory and statistics that describes the behavior of the sum or average of a large number of independent and identically distributed random variables. It states that, under certain conditions, the sum or average of such variables will converge to a normal distribution, regardless of the distribution of the individual variables.\n",
    "\n",
    "The significance of the CLT is that it provides a theoretical foundation for many statistical techniques that assume normally distributed data. For example, many hypothesis tests and confidence intervals rely on the assumption of normality, which is often justified by the CLT.\n",
    "Additionally, the CLT is important in practical applications such as quality control, where it is often necessary to estimate the mean and variance of a population based on a sample."
   ]
  },
  {
   "cell_type": "code",
   "execution_count": null,
   "id": "eddb84db-5ac6-4281-956c-03867a29b0c6",
   "metadata": {},
   "outputs": [],
   "source": []
  },
  {
   "cell_type": "markdown",
   "id": "7876aac2-2433-4485-a82d-efdad6c6f9d2",
   "metadata": {},
   "source": [
    "Q10: State the assumptions of the Central Limit Theorem."
   ]
  },
  {
   "cell_type": "markdown",
   "id": "1bd822d4-378a-44a1-9f57-41d505b59fc3",
   "metadata": {},
   "source": [
    "ANS:-**The assumptions of the Central Limit Theorem are:-**\n",
    "\n",
    "1. **Independence:-** The observations in the sample are independent of each other, meaning that the outcome of one observation does not influence the outcome of another observation.\n",
    "2. **Sample size:-** The sample size is sufficiently large. The larger the sample size, the better the approximation to the normal distribution.\n",
    "3. **Identically distributed:-** The sample data comes from a population that has a well-defined mean and variance. The observations in the sample are identically distributed, meaning that they come from the same population.\n",
    "4. **Finite variance:-** The population has a finite variance. This assumption ensures that the sample variance is also finite.\n",
    "5. **Non-skewed population distribution:-** The population distribution is not strongly skewed. A strongly skewed population distribution can affect the validity of the Central Limit Theorem, and a larger sample size may be required to approximate a normal distribution."
   ]
  },
  {
   "cell_type": "markdown",
   "id": "e6372df6-3d8a-498c-b461-5d568a146743",
   "metadata": {},
   "source": []
  }
 ],
 "metadata": {
  "kernelspec": {
   "display_name": "Python 3 (ipykernel)",
   "language": "python",
   "name": "python3"
  },
  "language_info": {
   "codemirror_mode": {
    "name": "ipython",
    "version": 3
   },
   "file_extension": ".py",
   "mimetype": "text/x-python",
   "name": "python",
   "nbconvert_exporter": "python",
   "pygments_lexer": "ipython3",
   "version": "3.10.8"
  }
 },
 "nbformat": 4,
 "nbformat_minor": 5
}
