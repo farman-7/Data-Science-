{
 "cells": [
  {
   "cell_type": "markdown",
   "id": "91817af9-2bb5-4757-9afe-03bcf8c01503",
   "metadata": {},
   "source": [
    "Q1. What is Statistics?"
   ]
  },
  {
   "cell_type": "markdown",
   "id": "4884d11f-224c-4fd2-9e5c-0ee25fa71b57",
   "metadata": {},
   "source": [
    "ANS:-Statistics may be defined as the collection, presentation, analysis and interpretation of numerical data.\n",
    "\n",
    "    Statistics is a set of decision-making techniques which helps businessmen in making suitable policies from the \n",
    "    available data. In fact, every businessman needs a sound background of statistics as well as of mathematics.\n",
    "\n",
    "    The purpose of statistics and mathematics is to manipulate, summarize and investigate data so that the useful \n",
    "    decision-making results can be executed.\n"
   ]
  },
  {
   "cell_type": "code",
   "execution_count": null,
   "id": "892dcdf1-e049-4dec-92b1-3ea33633f882",
   "metadata": {},
   "outputs": [],
   "source": []
  },
  {
   "cell_type": "markdown",
   "id": "59e3ea68-5650-4416-9cbf-03a6d0332edf",
   "metadata": {},
   "source": [
    "Q2. Define the different types of statistics and give an example of when each type might be used."
   ]
  },
  {
   "cell_type": "markdown",
   "id": "dd6fa1ce-6421-45f2-abeb-99f83a21e0ec",
   "metadata": {},
   "source": [
    "ANS:-There are two major types of Statistics:\n",
    "\n",
    "Descriptive Statistics:- Descriptive statistics involves the collection, analysis, and presentation of data to summarize and describe \n",
    "characteristics of a dataset. It is used to provide a concise and meaningful summary of data through measures such as central tendency,\n",
    "variability, and shape. Descriptive statistics is generally used when data is available for the entire population of interest, or when a \n",
    "sample is used to estimate population parameters.\n",
    "\n",
    "    Example of descriptive statistics-: A researcher collects data on the heights of 100 students in a school. The researcher \n",
    "    uses descriptive statistics to summarize the data by calculating the mean height, standard deviation, and creating a \n",
    "    histogram to visualize the distribution of heights.\n",
    "\n",
    "Inferential Statistics:- Inferential statistics involves making predictions or generalizations about a population based on data \n",
    "            from a sample.It is used to draw conclusions or test hypotheses about the population using the sample data. Inferential \n",
    "            statistics is generally used when data is not available for the entire population, and a sample is used to make inferences \n",
    "            about the population.\n",
    "    \n",
    "    Example of inferential statistics:- A company wants to determine whether a new product will be successful among its target \n",
    "    market.The company collects a sample of data from a group of customers who have purchased the product and uses inferential \n",
    "    statistics to determine whether the data supports the conclusion that the product will be successful among the entire \n",
    "    target market. The company may use techniques such as hypothesis testing, confidence intervals, or regression analysis to \n",
    "    draw conclusions about the population."
   ]
  },
  {
   "cell_type": "code",
   "execution_count": null,
   "id": "c431da25-9d8f-454f-920c-6aa369d3295d",
   "metadata": {},
   "outputs": [],
   "source": []
  },
  {
   "cell_type": "markdown",
   "id": "ee0c29ae-dc67-41d9-bd94-b8afb8997dca",
   "metadata": {},
   "source": [
    "Q3.  What are the different types of data and how do they differ from each other? Provide an example of each type of data."
   ]
  },
  {
   "cell_type": "markdown",
   "id": "739a0793-5362-498b-98d4-3a6299b23334",
   "metadata": {},
   "source": [
    "ANS:- The two major types of data are:\n",
    "\n",
    "Quantitative Data:- When data is collected about a variable that can be measured with numerical values, it is called quantitative data.\n",
    "  Examples of quantitative data include age, height, weight, and number of hours worked.\n",
    "\n",
    "Qualitative Data:- When data is collected about a variable that represents categories or attributes, it is called qualitative data.\n",
    " Examples of qualitative data include gender, occupation, color, and type of car."
   ]
  },
  {
   "cell_type": "code",
   "execution_count": null,
   "id": "51848ed5-33ac-47bb-9daf-78c2ef81916c",
   "metadata": {},
   "outputs": [],
   "source": []
  },
  {
   "cell_type": "markdown",
   "id": "6d6ec54f-5dde-4612-8986-f604c6d72655",
   "metadata": {},
   "source": [
    "Q4. Categorise the following datasets with respect to quantitative and qualitative data types:\n",
    "\n",
    "(i)Grading in exam: A+, A, B+, B, C+, C, D, E .\n",
    "          \n",
    "        ANS:- It is Qualitative Data.\n",
    "\n",
    "(ii) Colour of mangoes: yellow, green, orange, red\n",
    "\n",
    "         ANS:- It is Qualitative Data.\n",
    "\n",
    "(iii)Height data of a class: [178.9, 179, 179.5, 176, 177.2, 178.3, 175.8,...]\n",
    "\n",
    "        ANS:- It is Quantitative Data.\n",
    "\n",
    "(iv)Number of mangoes exported by a farm: [500, 600, 478, 672, …]\n",
    "\n",
    "        ANS:- It is Quantitative Data."
   ]
  },
  {
   "cell_type": "code",
   "execution_count": null,
   "id": "e0b9feed-e931-4cab-8d50-0f8b8e365d82",
   "metadata": {},
   "outputs": [],
   "source": []
  },
  {
   "cell_type": "markdown",
   "id": "2d985b6c-967a-4249-91b0-dd921e8b137d",
   "metadata": {},
   "source": [
    "Q5. Explain the concept of levels of measurement and give an example of a variable for each level."
   ]
  },
  {
   "cell_type": "markdown",
   "id": "e1d77b62-cdd6-4ea0-94bf-f44da05ee8b5",
   "metadata": {},
   "source": [
    "ANS:-Nominal Level: You can categorize your data by labelling them in mutually exclusive groups, but there is no order between the categories.\n",
    "    \n",
    "    Examples: City of birth, Gender, Ethnicity, Car brands, Marital status\n",
    "\n",
    "Ordinal Level: You can categorize and rank your data in an order, but you cannot say anything about the intervals between the rankings.\n",
    "Although you can rank the top 5 Olympic medallists, this scale does not tell you how close or far apart they are in number of wins.\n",
    "\n",
    "    Examples: Top 5 Olympic medallists, Language ability (e.g., beginner, intermediate, fluent)\n",
    "\n",
    "Interval Level:- You can categorize, rank, and infer equal intervals between neighboring data points, but there is no true zero point.\n",
    "\n",
    "    For example, the difference between any two adjacent temperatures is the same: one degree. But zero degrees is defined \n",
    "     differently depending on the scale – it doesn’t mean an absolute absence of temperature.\n",
    "    Other Examples: Test scores (e.g., IQ or exams), Personality inventories, Temperature in Fahrenheit or Celsius\n",
    "\n",
    "Ratio Level:- You can categorize, rank, and infer equal intervals between neighboring data points, and there is a true zero point.\n",
    "A true zero means there is an absence of the variable of interest. In ratio scales, zero does mean an absolute lack of the variable.\n",
    "\n",
    "    For example, in the Kelvin temperature scale, there are no negative degrees of temperature – zero means an absolute lack of \n",
    "    thermal energy.\n",
    "    Other Exmaples:- Height, Age, Weight"
   ]
  },
  {
   "cell_type": "code",
   "execution_count": null,
   "id": "7e781326-62ae-4e72-a253-388f7c7249b6",
   "metadata": {},
   "outputs": [],
   "source": []
  },
  {
   "cell_type": "markdown",
   "id": "5a2540ef-f4fe-407b-bb79-4808b44ac764",
   "metadata": {},
   "source": [
    "Q6. Why is it important to understand the level of measurement when analyzing data? Provide an example to illustrate your answer."
   ]
  },
  {
   "cell_type": "markdown",
   "id": "974f270b-9b61-4118-b5d9-96d9703364b4",
   "metadata": {},
   "source": [
    "ANS:- Understanding the level of measurement is important when analyzing data because it determines the type of statistical analyses that can be performed on the data, as well as the appropriate way to interpret the results. Different types of statistical analysis are suited for different levels of measurement, and using an inappropriate analysis can result in inaccurate conclusions.\n",
    "\n",
    "If a variable is nominal, it is inappropriate to perform calculations such as mean or standard deviation, as these statistics are not meaningful for categorical data. Instead, appropriate measures for nominal data include frequency counts and percentages. If a variable is ordinal, it is appropriate to use measures such as median or mode, but not mean, as the ranking of the values does not necessarily correspond to equal intervals. If a variable is interval or ratio, all three measures (mean, median, and mode) can be used, as well as measures such as standard deviation and correlation.\n",
    "\n",
    "An example to illustrate the importance of understanding the level of measurement is the analysis of income data. If income is measured as a nominal variable with categories such as \"less than 20,000\", \"20,000 to 40,000\", and \"more than 40,000\", it would be inappropriate to calculate the mean income, as the categories do not represent equal intervals. Instead, appropriate measures would include the frequency counts and percentages of individuals in each income category. If income is measured as a ratio variable in dollars, the mean income can be calculated and compared across different groups or time periods, and statistical tests such as t-tests or ANOVA can be used to determine whether there are significant differences in income between groups."
   ]
  },
  {
   "cell_type": "code",
   "execution_count": null,
   "id": "a192a80b-8fb1-4d30-8ed0-be3b3720e9b0",
   "metadata": {},
   "outputs": [],
   "source": []
  },
  {
   "cell_type": "markdown",
   "id": "4a4a6d38-8c2d-4a86-a91e-c945f4f8e882",
   "metadata": {},
   "source": [
    "Q7. How nominal data type is different from ordinal data type."
   ]
  },
  {
   "cell_type": "markdown",
   "id": "c0ca9023-206b-4580-b0f5-645e425b86a2",
   "metadata": {},
   "source": [
    "ANS:- Nominal data:-It is a type of categorical data where the categories are unordered and do not have any inherent ranking or order. Nominal   data simply represents different categories or groups, without any implied order or hierarchy. Examples of nominal data include               gender(male/female), hair color (blonde, brown, black, etc.), or political affiliation (Republican, Democrat, Independent, etc.).\n",
    "\n",
    "Ordinal data:- on the other hand, is also a type of categorical data, but the categories have a specific order or hierarchy. In other words,     the categories can be ranked in a meaningful way. Examples of ordinal data include educational level (e.g. high school, some college,         bachelor's degree, master's degree, etc.), socioeconomic status (e.g. low, middle, high), or level of agreement (e.g. strongly disagree,       disagree, neutral, agree, strongly agree).\n",
    "\n",
    "The main difference between nominal and ordinal data is that ordinal data has a specific order or ranking of the categories, while nominal data does not."
   ]
  },
  {
   "cell_type": "code",
   "execution_count": null,
   "id": "0f6dcd93-ed01-4d2a-9b0f-399152c7b29d",
   "metadata": {},
   "outputs": [],
   "source": []
  },
  {
   "cell_type": "markdown",
   "id": "7e9e4f5e-b092-4865-8c2d-dc45689f288c",
   "metadata": {},
   "source": [
    "Q8. Which type of plot can be used to display data in terms of range?"
   ]
  },
  {
   "cell_type": "markdown",
   "id": "af016c1b-ffdf-4d1c-a578-b33c6e6c6df5",
   "metadata": {},
   "source": [
    "ANS:-A type of plot that can be used to display data in terms of range is a box plot (also known as a box-and-whisker plot). A box plot is a graphical representation of the distribution of a set of continuous data, using five summary statistics: the minimum value, the first quartile (Q1), the median, the third quartile (Q3), and the maximum value.\n",
    "\n",
    "    For example, a box plot could be used to display the range of temperatures recorded in a city over a given period of time. The minimum and maximum values would be represented by the whiskers, and the box would represent the interquartile range (the middle 50% of the data). The median temperature would be represented by a line inside the box. This would allow for easy comparison of temperature ranges across different months or years, and also identify any unusually high or low temperatures as outliers."
   ]
  },
  {
   "cell_type": "code",
   "execution_count": null,
   "id": "3bcbda29-8d0c-4c2a-a9b0-f46a9d1541dc",
   "metadata": {},
   "outputs": [],
   "source": []
  },
  {
   "cell_type": "markdown",
   "id": "b25c94fe-2ef4-4f5a-8f5f-2935cfc58564",
   "metadata": {},
   "source": [
    "Q9. Describe the difference between descriptive and inferential statistics. Give an example of each \n",
    "type of statistics and explain how they are used."
   ]
  },
  {
   "cell_type": "markdown",
   "id": "c763cfc6-0e08-4b70-8350-772a901f9cc4",
   "metadata": {},
   "source": [
    "ANS:- Descriptive statistics:-It is involves summarizing and describing the main features of a data set, such as measures of central tendency (mean, median, mode) and measures of dispersion (range, standard deviation, variance). Descriptive statistics is used to provide a snapshot or summary of the data, in order to gain an understanding of the characteristics and patterns of the data set.\n",
    "\n",
    "    Examples of descriptive statistics include calculating the mean height of a group of people or the standard deviation of their weights.\n",
    "\n",
    "Inferential statistics:- on the other hand, involves using statistical methods to make inferences or draw conclusions about a population based on a sample of data. Inferential statistics is used to test hypotheses or answer research questions, by making predictions or generalizations about a larger group based on a smaller subset of data.\n",
    "\n",
    "    Examples of inferential statistics include hypothesis testing, confidence intervals, and regression analysis."
   ]
  },
  {
   "cell_type": "code",
   "execution_count": null,
   "id": "7eaa5d99-d00f-48eb-9f4c-6b0cd09ea0aa",
   "metadata": {},
   "outputs": [],
   "source": []
  },
  {
   "cell_type": "markdown",
   "id": "e7bb7b61-a488-42f0-bd52-2be22b138877",
   "metadata": {},
   "source": [
    "Q10. What are some common measures of central tendency and variability used in statistics? Explain \n",
    "how each measure can be used to describe a dataset."
   ]
  },
  {
   "cell_type": "markdown",
   "id": "6255f33c-a11c-464a-ad2b-1c4122e3b686",
   "metadata": {},
   "source": [
    "ANS:- Some of the common Measures of Central Tendency used in Statistics are:\n",
    "\n",
    "    Mean:- The arithmetic mean, or average, is calculated by summing all the values in a dataset and dividing by the number of values. The mean is a useful measure of central tendency when the data is normally distributed and there are no extreme values or outliers.\n",
    "\n",
    "    Median:- The median is the middle value in a dataset when the values are arranged in order. The median is useful when there are extreme values or outliers in the dataset, since it is not affected by these values in the same way as the mean.\n",
    "\n",
    "    Mode:- The mode is the most common value in a dataset. The mode is useful when dealing with categorical data or discrete variables, where there may be several values that occur with the same frequency.\n",
    "\n",
    "Some of the common Measures of Variability used in Statistics are:\n",
    "\n",
    "    Range:- The range is the difference between the largest and smallest values in a dataset. The range provides a simple measure of variability, but it can be sensitive to extreme values or outliers.\n",
    "\n",
    "    Variance:- The variance measures the average squared deviation from the mean in a dataset. The variance is useful when you want to quantify the spread of a dataset, and it is used in many statistical tests and models.\n",
    "\n",
    "    Standard deviation:- The standard deviation is the square root of the variance. The standard deviation provides a more intuitive measure of variability, since it is in the same units as the original data."
   ]
  },
  {
   "cell_type": "code",
   "execution_count": null,
   "id": "a23d7bc9-7fd3-4f40-b6c4-59d94961a0b2",
   "metadata": {},
   "outputs": [],
   "source": []
  }
 ],
 "metadata": {
  "kernelspec": {
   "display_name": "Python 3 (ipykernel)",
   "language": "python",
   "name": "python3"
  },
  "language_info": {
   "codemirror_mode": {
    "name": "ipython",
    "version": 3
   },
   "file_extension": ".py",
   "mimetype": "text/x-python",
   "name": "python",
   "nbconvert_exporter": "python",
   "pygments_lexer": "ipython3",
   "version": "3.10.8"
  }
 },
 "nbformat": 4,
 "nbformat_minor": 5
}
