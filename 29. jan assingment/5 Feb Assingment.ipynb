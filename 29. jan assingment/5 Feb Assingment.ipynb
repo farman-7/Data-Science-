{
 "cells": [
  {
   "cell_type": "code",
   "execution_count": null,
   "id": "e42e55b1-d929-400d-9529-20e951c38034",
   "metadata": {},
   "outputs": [],
   "source": [
    "Q1:-  Explain Class and Object with respect to Object-Oriented Programming. Give a suitable example?"
   ]
  },
  {
   "cell_type": "code",
   "execution_count": null,
   "id": "28d0bf26-ccb2-4bdb-8761-895ad31d4d67",
   "metadata": {},
   "outputs": [],
   "source": [
    "Ans:-  Class:- A class is considered as a blueprint of objects. We can think of the class as a sketch (prototype) of a house.\n",
    "               It contains all the details about the floors, doors, windows, etc. Based on these descriptions we build the house. House is the object.\n",
    "               Since many houses can be made from the same description, we can create many objects from a class.\n",
    "\n",
    "        Object:- An object is called an instance of a class. For example, suppose Bike is a class then we can create objects like bike1, bike2, etc from the class.\n",
    "         example shown below :-"
   ]
  },
  {
   "cell_type": "code",
   "execution_count": 23,
   "id": "fd5f5e7e-6cab-46a9-847e-b0744b43257a",
   "metadata": {},
   "outputs": [
    {
     "name": "stdout",
     "output_type": "stream",
     "text": [
      "Name : Mountain Bike gear 11\n"
     ]
    }
   ],
   "source": [
    "# define a class\n",
    "class Bike:\n",
    "    name = \"\"\n",
    "    gear = 0\n",
    "\n",
    "# create object of class\n",
    "bike1 = Bike()\n",
    "\n",
    "# access attributes and assign new values\n",
    "bike1.gear = 11\n",
    "bike1.name = \"Mountain Bike\"\n",
    "\n",
    "print(\"Name :\" ,bike1.name, \"gear\",  bike1.gear )"
   ]
  },
  {
   "cell_type": "code",
   "execution_count": null,
   "id": "c56d4811-e6a1-4a80-a1f6-28e8acf45758",
   "metadata": {},
   "outputs": [],
   "source": [
    "Q2:-  Name the four pillars of OOPs?"
   ]
  },
  {
   "cell_type": "code",
   "execution_count": null,
   "id": "d989da73-2a63-44e5-a22c-b3882d3a643a",
   "metadata": {},
   "outputs": [],
   "source": [
    "Ans:- 1. Incapsulation\n",
    "      2. Inheritance\n",
    "      3. Polymorphism\n",
    "      4. Abstraction   "
   ]
  },
  {
   "cell_type": "code",
   "execution_count": null,
   "id": "70ae2b32-7a4f-4744-8898-29b4f37248a4",
   "metadata": {},
   "outputs": [],
   "source": [
    "Q3:-  Explain why the __init__() function is used. Give a suitable example."
   ]
  },
  {
   "cell_type": "code",
   "execution_count": null,
   "id": "2a105088-8e59-4932-bbd3-dfb14c70b692",
   "metadata": {},
   "outputs": [],
   "source": [
    "Ans:-__init__ is one of the reserved methods in Python. In object oriented programming, it is known as a constructor. \n",
    "    The __init__ method can be called when an object is created from the class, and access is required to initialize the attributes of the class.\n",
    "    example shown below:-"
   ]
  },
  {
   "cell_type": "code",
   "execution_count": 17,
   "id": "2f5c96a3-ed1a-4249-bdec-7213c52e5177",
   "metadata": {},
   "outputs": [
    {
     "name": "stdout",
     "output_type": "stream",
     "text": [
      "John\n",
      "36\n"
     ]
    }
   ],
   "source": [
    "class Person:\n",
    "    def __init__(self, name, age):\n",
    "        self.name = name\n",
    "        self.age = age\n",
    "\n",
    "p1 = Person(\"John\", 36)\n",
    "\n",
    "print(p1.name)\n",
    "print(p1.age)"
   ]
  },
  {
   "cell_type": "code",
   "execution_count": null,
   "id": "a27b01e4-996c-49af-ab62-c97b844d2bbd",
   "metadata": {},
   "outputs": [],
   "source": [
    "Q4:-  Why self is used in OOPs?"
   ]
  },
  {
   "cell_type": "code",
   "execution_count": null,
   "id": "60110f82-9d53-46b1-8b37-91ab7bc12c85",
   "metadata": {},
   "outputs": [],
   "source": [
    "Ans:- self represents the instance of the class. By using the “self”  we can access the attributes and methods of the class in python.\n",
    "      It binds the attributes with the given arguments."
   ]
  },
  {
   "cell_type": "code",
   "execution_count": null,
   "id": "f056e3e4-25f1-4172-9685-555a55f73990",
   "metadata": {},
   "outputs": [],
   "source": [
    "Q5:- What is inheritance? Give an example for each type of inheritance."
   ]
  },
  {
   "cell_type": "code",
   "execution_count": null,
   "id": "dd610879-5a30-41f7-ae7d-25e6be5e1da8",
   "metadata": {},
   "outputs": [],
   "source": [
    "Ans:- The method of inheriting the properties of parent class into a child class is known as inheritance. It is an OOP concept. \n",
    "      Following are the benefits of inheritance:-\n",
    "\n",
    "      1.Code reusability- we do not have to write the same code again and again, we can just inherit the properties we need in a child class.\n",
    "\n",
    "      2.It represents a real world relationship between parent class and child class.\n",
    "\n",
    "      3.It is transitive in nature. If a child class inherits properties from a parent class, then all other sub-classes of the child class\n",
    "        will also inherit the properties of the parent class.\n",
    "               "
   ]
  },
  {
   "cell_type": "code",
   "execution_count": null,
   "id": "4a127921-550b-4442-ad12-12e199a2cac5",
   "metadata": {},
   "outputs": [],
   "source": [
    "Type of inheritance :- 1. single Inheritance , 2. Multiple Inheritance , 3. Multilavel Inheritance , 4. Hierarchical Inheritance , 5. Hybrid inheritance"
   ]
  },
  {
   "cell_type": "code",
   "execution_count": null,
   "id": "6f9743b8-445e-47bf-aaf9-b72676741fb0",
   "metadata": {},
   "outputs": [],
   "source": [
    "1. single Inheritance :- When child class is derived from only one parent class. This is called single inheritance. \n",
    "   example shown below:-"
   ]
  },
  {
   "cell_type": "code",
   "execution_count": 7,
   "id": "0c2a76d9-b396-464b-902f-e5cb5fe41950",
   "metadata": {},
   "outputs": [
    {
     "name": "stdout",
     "output_type": "stream",
     "text": [
      "this is function 2\n",
      " this is function 2 \n"
     ]
    }
   ],
   "source": [
    "class Parent:\n",
    "     def func1(self):\n",
    "            print(\"this is function 2\")\n",
    "class Child(Parent):\n",
    "     def func2(self):\n",
    "            print(\" this is function 2 \")\n",
    "ob = Child()\n",
    "ob.func1()\n",
    "ob.func2()"
   ]
  },
  {
   "cell_type": "code",
   "execution_count": null,
   "id": "1f466125-307b-4823-80e5-169dc8b051e2",
   "metadata": {},
   "outputs": [],
   "source": [
    "2. Multiple Inheritance :-  When child class is derived or inherited from more than one parent class. This is called multiple inheritance. \n",
    "                            In multiple inheritance, we have two parent classes/base classes and one child class that inherits both parent classes properties.\n",
    "                            example shown below:-"
   ]
  },
  {
   "cell_type": "code",
   "execution_count": 6,
   "id": "90dd2b33-be34-46b1-95ca-ae64cdb03ffa",
   "metadata": {},
   "outputs": [
    {
     "name": "stdout",
     "output_type": "stream",
     "text": [
      "this is function 1\n",
      "this is function 2\n",
      "this is function 3\n"
     ]
    }
   ],
   "source": [
    "class Parent:\n",
    "      def func1(self):\n",
    "        print(\"this is function 1\")\n",
    "class Parent2:\n",
    "      def func2(self):\n",
    "        print(\"this is function 2\")\n",
    "class Child(Parent , Parent2):\n",
    "      def func3(self):\n",
    "        print(\"this is function 3\")\n",
    " \n",
    "ob = Child()\n",
    "ob.func1()\n",
    "ob.func2()\n",
    "ob.func3()"
   ]
  },
  {
   "cell_type": "code",
   "execution_count": null,
   "id": "e2943bd3-3137-420f-9b0f-fc59d735b10a",
   "metadata": {},
   "outputs": [],
   "source": [
    "3. Multilavel Inheritance :- In multilevel inheritance, we have one parent class and child class that is derived or inherited from that parent class.\n",
    "                             We have a grand-child class that is derived from the child class.\n",
    "                             example shown below:-"
   ]
  },
  {
   "cell_type": "code",
   "execution_count": 5,
   "id": "428b2092-1861-426c-a157-94387bfec382",
   "metadata": {},
   "outputs": [
    {
     "name": "stdout",
     "output_type": "stream",
     "text": [
      "this is function 1\n",
      "this is function 2\n",
      "this is function 3\n"
     ]
    }
   ],
   "source": [
    "class Parent:\n",
    "      def func1(self):\n",
    "            print(\"this is function 1\")\n",
    "class Child(Parent):\n",
    "      def func2(self):\n",
    "            print(\"this is function 2\")\n",
    "class Child2(Child):\n",
    "      def func3(self):\n",
    "            print(\"this is function 3\")\n",
    "ob = Child2()\n",
    "ob.func1()\n",
    "ob.func2()\n",
    "ob.func3()"
   ]
  },
  {
   "cell_type": "code",
   "execution_count": null,
   "id": "1489086f-748d-4d6f-b941-1e5745ff03b2",
   "metadata": {},
   "outputs": [],
   "source": [
    "4. Hierarchical Inheritance :-  When we derive or inherit more than one child class from one(same) parent class. Then this type of inheritance is called \n",
    "                                hierarchical inheritance.\n",
    "                                example shown below:-"
   ]
  },
  {
   "cell_type": "code",
   "execution_count": 8,
   "id": "7c4d14c7-52f2-4e15-939a-0e2e2d2a600e",
   "metadata": {},
   "outputs": [
    {
     "name": "stdout",
     "output_type": "stream",
     "text": [
      "this is function 1\n",
      "this is function 2\n"
     ]
    }
   ],
   "source": [
    "class Parent:\n",
    "      def func1(self):\n",
    "            print(\"this is function 1\")\n",
    "class Child(Parent):\n",
    "      def func2(self):\n",
    "            print(\"this is function 2\")\n",
    "class Child2(Parent):\n",
    "      def func3(self):\n",
    "            print(\"this is function 3\")\n",
    " \n",
    " ob = Child()\n",
    "ob1 = Child2()\n",
    "ob.func1()\n",
    "ob.func2()"
   ]
  },
  {
   "cell_type": "code",
   "execution_count": null,
   "id": "461bf324-a10c-418a-b1b3-af6428508791",
   "metadata": {},
   "outputs": [],
   "source": [
    "5. Hybrid inheritance :- Hybrid inheritance satisfies more than one form of inheritance ie. It may be consists of all types of inheritance that we have done above. \n",
    "                         It is not wrong if we say Hybrid Inheritance is the combinations of simple, multiple, multilevel and hierarchical inheritance.\n",
    "                         example shown below:-"
   ]
  },
  {
   "cell_type": "code",
   "execution_count": 15,
   "id": "fab2a619-0380-465a-8fa9-9033c66624df",
   "metadata": {},
   "outputs": [
    {
     "name": "stdout",
     "output_type": "stream",
     "text": [
      "10\n"
     ]
    }
   ],
   "source": [
    "class X:\n",
    "    num = 10\n",
    "class A(X):\n",
    "    pass\n",
    "class B(A):\n",
    "    pass\n",
    "class C(A):\n",
    "    pass\n",
    "class D(B, C):\n",
    "    pass\n",
    "ob = D()\n",
    "print(D.num)"
   ]
  },
  {
   "cell_type": "code",
   "execution_count": null,
   "id": "b102d203-4d81-4f5d-83b1-84a3fa5d8602",
   "metadata": {},
   "outputs": [],
   "source": []
  }
 ],
 "metadata": {
  "kernelspec": {
   "display_name": "Python 3 (ipykernel)",
   "language": "python",
   "name": "python3"
  },
  "language_info": {
   "codemirror_mode": {
    "name": "ipython",
    "version": 3
   },
   "file_extension": ".py",
   "mimetype": "text/x-python",
   "name": "python",
   "nbconvert_exporter": "python",
   "pygments_lexer": "ipython3",
   "version": "3.10.8"
  }
 },
 "nbformat": 4,
 "nbformat_minor": 5
}
