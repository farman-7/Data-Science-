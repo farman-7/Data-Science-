{
 "cells": [
  {
   "cell_type": "code",
   "execution_count": null,
   "id": "e5a0ea3b-abd0-45f0-9345-1208a3da88f7",
   "metadata": {},
   "outputs": [],
   "source": [
    "Q1. What is multithreading in python? why is it used? Name the module used to handle threads in python ?"
   ]
  },
  {
   "cell_type": "code",
   "execution_count": null,
   "id": "2235a6bc-1b4c-4bff-8d8c-70f5873a18b0",
   "metadata": {},
   "outputs": [],
   "source": [
    "ANS:- Multithreading is the ability of a program or an operating system to enable more than one user at a time without requiring multiple copies of the \n",
    "      program running on the computer. Multithreading can also handle various requests from the same user.\n",
    "    \n",
    "Why we used Multithreading:- Thread plays a significant role in application programming. All the GUI programs and web servers are threaded together. \n",
    "                              The main reasons for using threads are:\n",
    "\n",
    "1.Parallel Computation: If any user has a multiprocessor machine, then the thread can allow doing parallel processing with the goal of an increase in processing speed.\n",
    "2.Standardization: It became a standard approach for all programming languages as it increases programming speed.\n",
    "3.Parallel I/O (Input/Output): When we talk about the speed of input & output, it is comparatively slow in CPU. By placing each i/o operations in multiple\n",
    "                               individual threads, programmers can make use of operations done in parallel with each other & with the computation speed.\n",
    "\n",
    "'Threading'  module used to handle threads in python."
   ]
  },
  {
   "cell_type": "code",
   "execution_count": null,
   "id": "a5682471-00fd-4269-adad-37c1841c24c3",
   "metadata": {},
   "outputs": [],
   "source": [
    "Q2.  Why threading module used? Write the use of the following functions:-\n",
    "     1.activeCount()\n",
    "     2.currentThread()\n",
    "     3.enumerate()"
   ]
  },
  {
   "cell_type": "code",
   "execution_count": null,
   "id": "b9e27270-de7b-4beb-8bba-d66b45bb6f24",
   "metadata": {},
   "outputs": [],
   "source": [
    "ANS:- Threading refers to a process of executing multiple threads (smaller units of a program) simultaneously within a single program. \n",
    "      It helps to reduce the time taken to execute a task, as multiple threads can work together to complete it. In Python, the threading \n",
    "      module is used to implement threading.\n",
    "\n",
    "\n",
    "1.ActiveCount() :−  Returns the number of thread objects that are active.\n",
    "2.CurrentThread() :− Returns the number of thread objects in the caller's thread control.\n",
    "3.Enumerate() :− Returns a list of all thread objects that are currently active."
   ]
  },
  {
   "cell_type": "code",
   "execution_count": null,
   "id": "e404bd02-e0fc-482b-bdb0-c395db7e0943",
   "metadata": {},
   "outputs": [],
   "source": [
    "Q3. Explain the following functions:-\n",
    "    1.run()\n",
    "    2.start()\n",
    "    3.join()\n",
    "    4.isAlive()"
   ]
  },
  {
   "cell_type": "code",
   "execution_count": null,
   "id": "490d0b0f-334e-4a1f-aaf1-8fc043e8920c",
   "metadata": {},
   "outputs": [],
   "source": [
    "ANS:- 1.run()  :− The run() method is the entry point for a thread.\n",
    "      2.start() :− The start() method starts a thread by calling the run method.\n",
    "      3.join()  :− The join() waits for threads to terminate.\n",
    "      4.isAlive() :− The isAlive() method checks whether a thread is still executing."
   ]
  },
  {
   "cell_type": "code",
   "execution_count": null,
   "id": "9489f901-e857-42a0-b9bc-e991bb9584d9",
   "metadata": {},
   "outputs": [],
   "source": [
    "Q4. Write a python program to create two threads. Thread one must print the list of squares and thread \n",
    "    two must print the list of cubes? "
   ]
  },
  {
   "cell_type": "code",
   "execution_count": 1,
   "id": "4dc87f3b-c764-494e-b3ff-bfd0504b4511",
   "metadata": {},
   "outputs": [],
   "source": [
    "#ANS:- \n",
    "import threading\n",
    "import logging\n",
    "\n",
    "logging.basicConfig(filename=\"multithreading.log\", level=logging.INFO)\n",
    "\n",
    "\n",
    "def print_square(num):\n",
    "    logging.info(\"square: {}\".format(num * num))\n",
    "\n",
    "\n",
    "def print_cube(num):\n",
    "    logging.info(\"Cube: {}\".format(num * num * num))\n",
    "\n",
    "\n",
    "if __name__ == \"__main__\":\n",
    "    # creating thread\n",
    "    t1 = threading.Thread(target=print_square, args=(10,))\n",
    "    t2 = threading.Thread(target=print_cube, args=(10,))\n",
    "\n",
    "    t1.start()\n",
    "    t2.start()\n",
    "    t1.join()\n",
    "    t2.join()\n",
    "    logging.info(\"Done!\")\n"
   ]
  },
  {
   "cell_type": "code",
   "execution_count": null,
   "id": "9455c52e-6e13-406a-912f-3b56fe87d0d7",
   "metadata": {},
   "outputs": [],
   "source": [
    "Q5.  State advantages and disadvantages of multithreading."
   ]
  },
  {
   "cell_type": "code",
   "execution_count": null,
   "id": "1aab357e-8c5d-4b99-aa4c-1941a08271cb",
   "metadata": {},
   "outputs": [],
   "source": [
    "ANS:- \n",
    "  Advantages:- \n",
    "    * Multithreading enables efficient utilization of the resources as the threads share the data space and memory.\n",
    "    * Multithreading in Python allows the concurrent and parallel occurrence of various tasks.\n",
    "    * It cause a reduction in time consumption or response time, thereby increasing the performance.\n",
    "  Disadvantages:-\n",
    "     * As number of threads increase, complexity increases.\n",
    "     * Synchronization of shared resources (objects, data) is necessary.\n",
    "     * It is difficult to debug, result is sometimes unpredictable.\n",
    "     * Potential deadlocks which leads to starvation, i.e. some threads may not be served with a bad design.\n",
    "     * Constructing and synchronizing threads is CPU/memory intensive. "
   ]
  },
  {
   "cell_type": "code",
   "execution_count": null,
   "id": "8bafce80-ea61-42e6-9abf-f4964a0f65ca",
   "metadata": {},
   "outputs": [],
   "source": [
    "Q6.  Explain deadlocks and race conditions."
   ]
  },
  {
   "cell_type": "code",
   "execution_count": null,
   "id": "bda838fc-d5e2-4c11-b78f-fa6e2c92d1e8",
   "metadata": {},
   "outputs": [],
   "source": [
    "Deadlocks:- Deadlock is a situation where a process or a set of processes is blocked, waiting for some other resource that is held by some other waiting process. \n",
    "            It is an undesirable state of the system.\n",
    "            The following are the four conditions that must hold simultaneously for a deadlock to occur.\n",
    "\n",
    "1. Mutual Exclusion:– A resource can be used by only one process at a time. If another process requests for that resource then the requesting process \n",
    "                      must be delayed until the resource has been released.\n",
    "2. Hold and wait:– Some processes must be holding some resources in the non-shareable mode and at the same time must be waiting to acquire some more resources, \n",
    "                   which are currently held by other processes in the non-shareable mode.\n",
    "3. No pre-emption:–  Resources granted to a process can be released back to the system only as a result of voluntary action of that process after the process\n",
    "                     has completed its task.\n",
    "4. Circular wait:– Deadlocked processes are involved in a circular chain such that each process holds one or more resources being requested by the next process\n",
    "                   in the chain.\n",
    "\n",
    "Race condition :- Race condition occurs when multiple threads read and write the same variable i.e. they have access to some shared data and they try to\n",
    "                  change it at the same time. In such a scenario threads are “racing” each other to access/change the data."
   ]
  }
 ],
 "metadata": {
  "kernelspec": {
   "display_name": "Python 3 (ipykernel)",
   "language": "python",
   "name": "python3"
  },
  "language_info": {
   "codemirror_mode": {
    "name": "ipython",
    "version": 3
   },
   "file_extension": ".py",
   "mimetype": "text/x-python",
   "name": "python",
   "nbconvert_exporter": "python",
   "pygments_lexer": "ipython3",
   "version": "3.10.8"
  }
 },
 "nbformat": 4,
 "nbformat_minor": 5
}
