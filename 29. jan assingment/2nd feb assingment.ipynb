{
 "cells": [
  {
   "cell_type": "code",
   "execution_count": null,
   "id": "c1d47e2a-1be1-436e-a0ed-4dcfc2b922a4",
   "metadata": {},
   "outputs": [],
   "source": [
    "Q1:-  Explain with an example each when to use a for loop and a while loop"
   ]
  },
  {
   "cell_type": "code",
   "execution_count": null,
   "id": "655449b3-28b6-44c6-b2a6-b21a91201600",
   "metadata": {},
   "outputs": [],
   "source": [
    "for loop:- In Python, the for loop is used to run a block of code for a certain number of times.\n",
    "           It is used to iterate over any sequences such as list, tuple, string, etc."
   ]
  },
  {
   "cell_type": "code",
   "execution_count": 15,
   "id": "1ead24ec-3451-4d8a-92f3-1322bc8e113c",
   "metadata": {},
   "outputs": [
    {
     "name": "stdout",
     "output_type": "stream",
     "text": [
      "1\n",
      "4\n",
      "16\n",
      "36\n",
      "49\n",
      "64\n",
      "100\n"
     ]
    }
   ],
   "source": [
    "l=[1,2,4,6,7,8,10]\n",
    "for i in l:\n",
    "     print(i**2)\n",
    "     \n",
    "    "
   ]
  },
  {
   "cell_type": "code",
   "execution_count": 6,
   "id": "682e52f2-4023-49cb-a7b4-7cc9189f55a6",
   "metadata": {},
   "outputs": [
    {
     "ename": "SyntaxError",
     "evalue": "invalid syntax (3089593678.py, line 1)",
     "output_type": "error",
     "traceback": [
      "\u001b[0;36m  Cell \u001b[0;32mIn[6], line 1\u001b[0;36m\u001b[0m\n\u001b[0;31m    while loop :- In Python programming, we use while loops to do a task a certain number of times repeatedly.\u001b[0m\n\u001b[0m                     ^\u001b[0m\n\u001b[0;31mSyntaxError\u001b[0m\u001b[0;31m:\u001b[0m invalid syntax\n"
     ]
    }
   ],
   "source": [
    "while loop :- In Python programming, we use while loops to do a task a certain number of times repeatedly. \n",
    "The while loop checks a condition and executes the task as long as that condition is satisfied.\n",
    "The loop will stop its execution once the condition becomes not satisfied.\n",
    "example shown in below:-"
   ]
  },
  {
   "cell_type": "code",
   "execution_count": 10,
   "id": "734fc017-a442-4a95-b534-9d38f10534db",
   "metadata": {},
   "outputs": [
    {
     "name": "stdout",
     "output_type": "stream",
     "text": [
      "[0, 1, 2, 3]\n"
     ]
    }
   ],
   "source": [
    "My_List = []\n",
    "i = 0 \n",
    "while len(My_List) < 4 :\n",
    "    My_List.append(i)\n",
    "    i=i+1\n",
    "print(My_List)"
   ]
  },
  {
   "cell_type": "code",
   "execution_count": null,
   "id": "de9213a0-46a5-422d-810c-91c7cc7e8b0d",
   "metadata": {},
   "outputs": [],
   "source": [
    "Q2:- Write a python program to print the sum and product of the first 10 natural numbers using for \n",
    "     and while loop."
   ]
  },
  {
   "cell_type": "code",
   "execution_count": 9,
   "id": "c2ef5a42-21b0-4f35-b676-3d8a535f7d53",
   "metadata": {},
   "outputs": [
    {
     "name": "stdout",
     "output_type": "stream",
     "text": [
      "Sum of 1st 10 natural number is : 55\n",
      "Product of 1st 10 natural number is : 3628800\n"
     ]
    }
   ],
   "source": [
    "a=0\n",
    "add=a\n",
    "mul=1\n",
    "while a<=9:\n",
    "    a=a+1\n",
    "    add=a+add\n",
    "    mul=mul*a\n",
    "print(\"Sum of 1st 10 natural number is :\",add)\n",
    "print(\"Product of 1st 10 natural number is :\",mul)\n"
   ]
  },
  {
   "cell_type": "code",
   "execution_count": null,
   "id": "0ae60bed-4a7d-4e90-bcfe-a4f0629c3291",
   "metadata": {},
   "outputs": [],
   "source": [
    "Q3 :- Create a python program to compute the electricity bill for a household. The per-unit charges in rupees are as follows:\n",
    "    For the first 100 units, the user will be charged Rs. 4.5 per  unit, for the next 100 units, the user will be charged Rs. 6 per unit, \n",
    "    and for the next 100 units, the user will  be charged Rs. 10 per unit, After 300 units and above the user will be charged Rs. 20 per unit. \n",
    "    You are required to take the units of electricity consumed in a month from the user as input.  Your program must pass this test case:\n",
    "    when the unit of electricity consumed by the user in a month is  310, the total electricity bill should be 2250."
   ]
  },
  {
   "cell_type": "code",
   "execution_count": 6,
   "id": "6dc4c53e-cccc-476d-86b9-abb2d24b725e",
   "metadata": {},
   "outputs": [
    {
     "name": "stdin",
     "output_type": "stream",
     "text": [
      "Enter the units of electricity consumed in a month:  500\n"
     ]
    },
    {
     "name": "stdout",
     "output_type": "stream",
     "text": [
      "Total electricity bill: Rs. 6050.0\n"
     ]
    }
   ],
   "source": [
    "units = int(input(\"Enter the units of electricity consumed in a month: \"))\n",
    "\n",
    "if units <= 100:\n",
    "    bill = units * 4.5\n",
    "elif units <= 200:\n",
    "    bill = 100 * 4.5 + (units - 100) * 6\n",
    "elif units <= 300:\n",
    "    bill = 100 * 4.5 + 100 * 6 + (units - 200) * 10\n",
    "else:\n",
    "    bill = 100 * 4.5 + 100 * 6 + 100 * 10 + (units - 300) * 20\n",
    "\n",
    "print(\"Total electricity bill: Rs.\", bill)"
   ]
  },
  {
   "cell_type": "code",
   "execution_count": null,
   "id": "af524df1-42ba-46a9-a665-9ecb6e34738d",
   "metadata": {},
   "outputs": [],
   "source": [
    "Q4:- Create a list of numbers from 1 to 100. Use for loop and while loop to calculate the cube of each \n",
    "     number and if the cube of that number is divisible by 4 or 5 then append that number in a list and print \n",
    "     that list"
   ]
  },
  {
   "cell_type": "code",
   "execution_count": 1,
   "id": "489298d9-769d-4819-a88d-c3296b8c61d6",
   "metadata": {},
   "outputs": [
    {
     "name": "stdout",
     "output_type": "stream",
     "text": [
      "[8, 64, 125, 216, 512, 1000, 1728, 2744, 3375, 4096, 5832, 8000, 10648, 13824, 15625, 17576, 21952, 27000, 32768, 39304, 42875, 46656, 54872, 64000, 74088, 85184, 91125, 97336, 110592, 125000, 140608, 157464, 166375, 175616, 195112, 216000, 238328, 262144, 274625, 287496, 314432, 343000, 373248, 405224, 421875, 438976, 474552, 512000, 551368, 592704, 614125, 636056, 681472, 729000, 778688, 830584, 857375, 884736, 941192, 1000000]\n"
     ]
    }
   ],
   "source": [
    "list1 = list(range(1, 101))\n",
    "list2 = []\n",
    "for i in list1:\n",
    "    cube = i**3\n",
    "    if cube%4==0 or cube%5==0:\n",
    "        list2.append(cube)\n",
    "print(list2)"
   ]
  },
  {
   "cell_type": "code",
   "execution_count": null,
   "id": "9a5b222b-ff46-42cb-84fe-938938635fc4",
   "metadata": {},
   "outputs": [],
   "source": [
    "Q5:- Write a program to filter count vowels in the below-given string.\n",
    "     string = \"I want to become a data scientist"
   ]
  },
  {
   "cell_type": "code",
   "execution_count": 4,
   "id": "92296d1c-6893-409a-a252-ca4dc403187b",
   "metadata": {},
   "outputs": [
    {
     "name": "stdout",
     "output_type": "stream",
     "text": [
      "count of the vowel in given string is : 12\n"
     ]
    }
   ],
   "source": [
    "string = \"I want to become a data science\"\n",
    "count=0\n",
    "vowel= set (\"aeiou\")\n",
    "for i in string:\n",
    "    if i.lower() in vowel :\n",
    "        count = count+1\n",
    "print(\"count of the vowel in given string is :\",count)"
   ]
  },
  {
   "cell_type": "code",
   "execution_count": null,
   "id": "5f254292-2e09-4a34-82ff-44eadcd0efd9",
   "metadata": {},
   "outputs": [],
   "source": []
  }
 ],
 "metadata": {
  "kernelspec": {
   "display_name": "Python 3 (ipykernel)",
   "language": "python",
   "name": "python3"
  },
  "language_info": {
   "codemirror_mode": {
    "name": "ipython",
    "version": 3
   },
   "file_extension": ".py",
   "mimetype": "text/x-python",
   "name": "python",
   "nbconvert_exporter": "python",
   "pygments_lexer": "ipython3",
   "version": "3.10.8"
  }
 },
 "nbformat": 4,
 "nbformat_minor": 5
}
