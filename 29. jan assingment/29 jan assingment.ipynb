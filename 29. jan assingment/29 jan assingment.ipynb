{
 "cells": [
  {
   "cell_type": "code",
   "execution_count": null,
   "id": "bdc0402c-8a98-4297-86e4-a1fbea8e9b6d",
   "metadata": {},
   "outputs": [],
   "source": [
    "Q1 :- who developed python programming language?"
   ]
  },
  {
   "cell_type": "code",
   "execution_count": null,
   "id": "782a63ea-d287-4707-bb6f-e11b76df9bb0",
   "metadata": {},
   "outputs": [],
   "source": [
    "Ans:- python developed by Guido van Rossum in 1991."
   ]
  },
  {
   "cell_type": "code",
   "execution_count": null,
   "id": "30dc3f5c-4be0-4150-a79a-4997605e9c09",
   "metadata": {},
   "outputs": [],
   "source": [
    "Q2 :- which type of programming does python support ?"
   ]
  },
  {
   "cell_type": "code",
   "execution_count": null,
   "id": "3efc0551-19ec-463a-b7dd-6e0a21f4414f",
   "metadata": {},
   "outputs": [],
   "source": [
    "Ans:- Some of the types of programming that Python supports include:\n",
    "\n",
    "Imperative programming:- This is a type of programming that involves giving the computer a set of instructions to follow in order to solve a problem.\n",
    "                         Python supports imperative programming through its use of control structures, such as loops and conditional statements.\n",
    "\n",
    "Object-oriented programming:- This is a type of programming that involves organizing code into \"objects\" that represent real-world entities and the \n",
    "                              actions that can be performed on them. Python has built-in support for object-oriented programming, including features such as classes, \n",
    "                              inheritance, and polymorphism.\n",
    "\n",
    "Functional programming:- This is a type of programming that involves defining functions that take inputs and produce outputs, without the use of mutable state. \n",
    "                         Python has limited support for functional programming, but it does include features such as lambda functions and first-class functions.\n",
    "\n",
    "Procedural programming:- This is a type of programming that involves dividing a program into a series of steps or procedures that are executed in a specific order. \n",
    "                         Python has support for procedural programming through its use of functions and control structures."
   ]
  },
  {
   "cell_type": "code",
   "execution_count": null,
   "id": "eae34a32-a431-49d5-b8c4-0b71253e67c7",
   "metadata": {},
   "outputs": [],
   "source": [
    "Q3 :- Is python case sensitive when dealing with identifires ?"
   ]
  },
  {
   "cell_type": "code",
   "execution_count": null,
   "id": "a2f021c8-17a2-4766-bd9b-06e0c18b0925",
   "metadata": {},
   "outputs": [],
   "source": [
    "Ans:- Yes python is case sensitive when dealing with identifires."
   ]
  },
  {
   "cell_type": "code",
   "execution_count": null,
   "id": "d8c304da-5bef-44b4-ad9f-f72b2db3c11f",
   "metadata": {},
   "outputs": [],
   "source": [
    "Q4 :- What is the correct extention of the python file?"
   ]
  },
  {
   "cell_type": "code",
   "execution_count": null,
   "id": "53773ada-4ff1-4033-a5e9-ea32fff2f056",
   "metadata": {},
   "outputs": [],
   "source": [
    "Ans:- 'Py' is the correct extention of the python file."
   ]
  },
  {
   "cell_type": "code",
   "execution_count": null,
   "id": "9c01bf86-bc1c-404d-be69-f63cd71bbe21",
   "metadata": {},
   "outputs": [],
   "source": [
    "Q5 :- Is python code compiled or interpreted ?"
   ]
  },
  {
   "cell_type": "code",
   "execution_count": null,
   "id": "3c6d5252-fd8f-4a3f-a51a-9632032755a3",
   "metadata": {},
   "outputs": [],
   "source": [
    "Ans:- Python as a programming language that is neither compiled nor interpreted even though it is sometimes called an interpreted language, this is because\n",
    "      both these terms are actually a property of the implementation of a language and not the language itself. Python is compiled to bytecode and then it is routed \n",
    "      to the virtual machine through interpretation."
   ]
  },
  {
   "cell_type": "code",
   "execution_count": null,
   "id": "f58b73d1-7c43-4d4c-8519-1dea55cdc0dd",
   "metadata": {},
   "outputs": [],
   "source": [
    "Q6:- Name a few block of code used to define in python language ?"
   ]
  },
  {
   "cell_type": "code",
   "execution_count": null,
   "id": "f362eb10-a966-4fce-aa10-c8e25f7627ca",
   "metadata": {},
   "outputs": [],
   "source": [
    "Ans:- In if..else and loop  we need to define block of code in python ."
   ]
  },
  {
   "cell_type": "code",
   "execution_count": null,
   "id": "1afaf6ff-33a7-42d4-97ce-dbef775aa867",
   "metadata": {},
   "outputs": [],
   "source": [
    "Q7 :- State the charecter used to gave single- line comments in python ?"
   ]
  },
  {
   "cell_type": "code",
   "execution_count": null,
   "id": "4b3c2fe8-6e09-496d-a0d8-a2888d96bff2",
   "metadata": {},
   "outputs": [],
   "source": [
    "Ans:- Hash character '#' is used to gave single- line comments in python.\n"
   ]
  },
  {
   "cell_type": "code",
   "execution_count": null,
   "id": "2d74fc20-7368-4a6d-83d4-ea24f756b7b1",
   "metadata": {},
   "outputs": [],
   "source": [
    "Q8 :- Mention function which can help us to find the version of the python that we are currently working on ?"
   ]
  },
  {
   "cell_type": "code",
   "execution_count": null,
   "id": "9b7238ef-b029-43cb-9947-220e0ec0cbb3",
   "metadata": {},
   "outputs": [],
   "source": [
    "Ans:- Sys.version help us to find the version of the python that we are currently working on."
   ]
  },
  {
   "cell_type": "code",
   "execution_count": null,
   "id": "b2abad71-a946-4d12-9281-1f0dccc7f764",
   "metadata": {},
   "outputs": [],
   "source": [
    "Q9 :- Python supports creation of anonymous function at run time , using a construct called ?"
   ]
  },
  {
   "cell_type": "code",
   "execution_count": null,
   "id": "69cdb437-970c-4865-94ac-b2af3df6083d",
   "metadata": {},
   "outputs": [],
   "source": [
    "Ans:- Python supports creation of anonymous function at run time , using a construct called 'Lambda'."
   ]
  },
  {
   "cell_type": "code",
   "execution_count": null,
   "id": "c416355c-0809-4c72-a7ff-df1820ee96bb",
   "metadata": {},
   "outputs": [],
   "source": [
    "Q10 :- What does pip stamd for python ? "
   ]
  },
  {
   "cell_type": "code",
   "execution_count": null,
   "id": "ae8bb6dc-3c2f-4cb9-ba55-ae17d50c8201",
   "metadata": {},
   "outputs": [],
   "source": [
    "Ans:- Python pip is the package manager for Python packages. We can use pip to install packages that do not come with Python.\n",
    "      The basic syntax of pip commands in command prompt is: \n",
    "      pip 'arguments'"
   ]
  },
  {
   "cell_type": "code",
   "execution_count": null,
   "id": "992c71f3-62a9-4c51-a327-c4465d245049",
   "metadata": {},
   "outputs": [],
   "source": [
    "Q11 :- Mention a few built-in function in python ?"
   ]
  },
  {
   "cell_type": "code",
   "execution_count": null,
   "id": "2d131711-5ead-4a39-8a39-6a4a6ca1c203",
   "metadata": {},
   "outputs": [],
   "source": [
    "Ans:- list(),len(),max(),min(),map() and many more function has in python."
   ]
  },
  {
   "cell_type": "code",
   "execution_count": null,
   "id": "ad911f04-d932-441e-82a1-d08543a3fd4c",
   "metadata": {},
   "outputs": [],
   "source": [
    "Q12 :- What is the maximum possible length of an identifier in python ?"
   ]
  },
  {
   "cell_type": "code",
   "execution_count": null,
   "id": "47602ced-b5b7-4476-bb43-d1be53f8b3a9",
   "metadata": {},
   "outputs": [],
   "source": [
    "Ans:- 79 characters is the maximum possible length of an identifier in python."
   ]
  },
  {
   "cell_type": "code",
   "execution_count": null,
   "id": "a5460a44-a3f5-42fb-89bb-486bad2ae7ce",
   "metadata": {},
   "outputs": [],
   "source": [
    "Q13 :- What are the benefits of using python ?"
   ]
  },
  {
   "cell_type": "code",
   "execution_count": null,
   "id": "bfb8e506-c6f5-4311-8506-25b268e549b8",
   "metadata": {},
   "outputs": [],
   "source": [
    "Ans:- 1.Presence of third-party modules .\n",
    "      2.Extensive support libraries(NumPy for numerical calculations, Pandas for data analytics, etc.) .\n",
    "      3.Open source and large active community base .\n",
    "      4.Versatile, Easy to read, learn and write.\n",
    "      5.User-friendly data structures. \n",
    "      6.High-level language. \n",
    "      7.Dynamically typed language(No need to mention data type based on the value assigned, it takes data type).\n",
    "      8.Object-Oriented and Procedural  Programming language.\n",
    "      9.Portable and Interactiv."
   ]
  },
  {
   "cell_type": "code",
   "execution_count": null,
   "id": "f8c90a1c-3e1c-4020-abbb-5f2606a4dd8a",
   "metadata": {},
   "outputs": [],
   "source": [
    "Q14 :- How is memory managed in python ?"
   ]
  },
  {
   "cell_type": "code",
   "execution_count": null,
   "id": "07659975-c2ab-43e3-b8b4-808dbcc49fd3",
   "metadata": {},
   "outputs": [],
   "source": [
    "Ans:- According to the Python memory management documentation, Python has a private heap that stores our program’s objects and data structures. Python memory manager takes care of the bulk of the memory management work and\n",
    "      allows us to concentrate on our code.\n",
    "      There are two types of memory allocation in Python:- \n",
    "      1.static :- The stack data structure provides static memory allocation, meaning the variables are in the stack memory. \n",
    "                  Statically assigned variables, as the name implies, are permanent.\n",
    "      2.dynamic :- The dynamic memory allocation uses heap data structures in its implementation, implying that variables are in the heap memory.\n",
    "                   As the name suggests, dynamically allocated variables are not permanent and can be changed while a program is running. \n",
    "      "
   ]
  },
  {
   "cell_type": "code",
   "execution_count": null,
   "id": "f5075de6-4c22-483a-bd6e-cfc67d991e2f",
   "metadata": {},
   "outputs": [],
   "source": [
    "Q15 :- How to install python on window and set path variables? "
   ]
  },
  {
   "cell_type": "code",
   "execution_count": null,
   "id": "8d46f43c-165c-484d-9456-cce3c080d344",
   "metadata": {},
   "outputs": [],
   "source": [
    "Ans:-"
   ]
  },
  {
   "cell_type": "code",
   "execution_count": null,
   "id": "9de3fd7f-69f0-4a4e-87d4-a8afc2f0f7ce",
   "metadata": {},
   "outputs": [],
   "source": [
    "Q16 :- Is indentation required in python ?"
   ]
  },
  {
   "cell_type": "code",
   "execution_count": null,
   "id": "9ecc6486-cb15-44c8-b988-8d6aa5b268fb",
   "metadata": {},
   "outputs": [],
   "source": [
    "Ans:- Yes, Indentation is a very important concept of Python because without properly indenting the Python code, you will end up seeing IndentationError\n",
    "      and the code will not get compiled."
   ]
  }
 ],
 "metadata": {
  "kernelspec": {
   "display_name": "Python 3 (ipykernel)",
   "language": "python",
   "name": "python3"
  },
  "language_info": {
   "codemirror_mode": {
    "name": "ipython",
    "version": 3
   },
   "file_extension": ".py",
   "mimetype": "text/x-python",
   "name": "python",
   "nbconvert_exporter": "python",
   "pygments_lexer": "ipython3",
   "version": "3.10.8"
  }
 },
 "nbformat": 4,
 "nbformat_minor": 5
}
