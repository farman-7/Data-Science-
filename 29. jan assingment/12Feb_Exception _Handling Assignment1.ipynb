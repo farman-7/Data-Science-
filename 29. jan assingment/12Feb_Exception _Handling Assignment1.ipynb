{
 "cells": [
  {
   "cell_type": "code",
   "execution_count": null,
   "id": "8d001f61-8894-4a81-be65-297bdbf64a5b",
   "metadata": {},
   "outputs": [],
   "source": [
    "Q1. What ia an Exception  in python ? Write the difference between Exception and syntax errors ."
   ]
  },
  {
   "cell_type": "code",
   "execution_count": null,
   "id": "a0aa2411-798c-4d56-8320-493d46facde8",
   "metadata": {},
   "outputs": [],
   "source": [
    "ANS: Exceptions are raised when the program encounters an error during its execution. They disrupt the normal flow of the program and usually end it abruptly.\n",
    "\n",
    "     Difference between Exception and syntax errors :-\n",
    "     Exception:- if a statement or expression is syntactically correct, it may cause an error when an attempt is made to execute it.\n",
    "                Errors detected during code execution are called exceptions and are not unconditionally fatal.\n",
    "                The types in the example are ZeroDivisionError, NameError and TypeError\n",
    "                \n",
    "     Syntax error:- the error is detected at the function print(), since a colon (':') is missing before theprint()function and after the while Truestatement.\n",
    "        "
   ]
  },
  {
   "cell_type": "code",
   "execution_count": null,
   "id": "46132120-7243-4fd7-be03-5f2e0851f9ba",
   "metadata": {},
   "outputs": [],
   "source": [
    "Q2. What happens when an exception is not handled ? explain with an example."
   ]
  },
  {
   "cell_type": "code",
   "execution_count": null,
   "id": "8bd17282-a764-42da-9326-fc28588c46e9",
   "metadata": {},
   "outputs": [],
   "source": [
    "ANS:We can defend program by placing the suspicious code in a try: block. After the try: block, include an except: statement, followed by a block of code \n",
    "    which handles the problem as elegantly as possible."
   ]
  },
  {
   "cell_type": "code",
   "execution_count": 1,
   "id": "b1793835-4986-4440-807e-a02b81ef456e",
   "metadata": {},
   "outputs": [
    {
     "name": "stdout",
     "output_type": "stream",
     "text": [
      "Written content in the file successfully\n"
     ]
    }
   ],
   "source": [
    "#This example opens a file, writes content in the, file and comes out gracefully because there is no problem at all −\n",
    "     \n",
    "\n",
    "try:\n",
    "    file = open(\"testfile\", \"w\")\n",
    "    file.write(\"This is my test file for exception handling!!\")\n",
    "except IOError:\n",
    "    print(\"Error: can\\'t find file or read data\")\n",
    "else:\n",
    "    print (\"Written content in the file successfully\")\n",
    "    file.close()"
   ]
  },
  {
   "cell_type": "code",
   "execution_count": 2,
   "id": "56e82f8e-67fe-443d-8cc5-2f9110fa8904",
   "metadata": {},
   "outputs": [
    {
     "name": "stdout",
     "output_type": "stream",
     "text": [
      "This is a DIVIDED BY ZERO error\n"
     ]
    }
   ],
   "source": [
    "# python Exception Handling\n",
    "(a,b) = (6,0)\n",
    "try:# simple use of try-except block for handling errors\n",
    "    g = a/b\n",
    "except ZeroDivisionError:\n",
    "    print (\"This is a DIVIDED BY ZERO error\")"
   ]
  },
  {
   "cell_type": "code",
   "execution_count": null,
   "id": "e6716616-4e3d-4407-af35-7038ba809862",
   "metadata": {},
   "outputs": [],
   "source": [
    "Q3. Which python ststements are used to catch and handle exceptions ? with an example."
   ]
  },
  {
   "cell_type": "code",
   "execution_count": null,
   "id": "68e9fa15-9cd7-4a73-a8e7-c93ba576af89",
   "metadata": {},
   "outputs": [],
   "source": [
    "ANS:- An Exception is an error that occurred during the execution of a piece of code. A runtime error is called an Exception, the cause of the exception\n",
    "      is improper input.\n",
    "Types of errors in Python:-\n",
    "            When error occurs exception is called, python will stop it and generates error message.\n",
    "\n",
    "The exception is handled by try, except and finally.\n",
    "\n",
    "try :– It checks the error in the block of code\n",
    "except: – It handles the error\n",
    "finally: – It executes the code.\n",
    "\n",
    "Python Syntax Error\n",
    "        * In this example, I have used try to check the error in the block as the error is present in the syntax of print(hello).\n",
    "        * The except is used as except SyntaxError as e. The except is executed."
   ]
  },
  {
   "cell_type": "code",
   "execution_count": 3,
   "id": "4dc24d23-cb7f-4ce8-8d16-c2ded8834bc0",
   "metadata": {},
   "outputs": [
    {
     "name": "stdout",
     "output_type": "stream",
     "text": [
      "6\n"
     ]
    }
   ],
   "source": [
    "try:\n",
    "    print(a+b)\n",
    "except:\n",
    "    print(\"exception occured\")\n",
    "     "
   ]
  },
  {
   "cell_type": "code",
   "execution_count": 4,
   "id": "706f160a-8944-4c68-9ffa-8fdb201f9edf",
   "metadata": {},
   "outputs": [
    {
     "name": "stdout",
     "output_type": "stream",
     "text": [
      "The content is not written in the file\n"
     ]
    }
   ],
   "source": [
    "# Example on try, except and else in Python\n",
    "try:\n",
    "    file = open(\"hello.txt\", \"w\")\n",
    "    file.write(\"This is the test file\")\n",
    "except IOError:\n",
    "    print(\"No file found\")\n",
    "else:\n",
    "    print(\"The content is not written in the file\")\n",
    "    file.close()"
   ]
  },
  {
   "cell_type": "code",
   "execution_count": null,
   "id": "6f74a1a8-3f36-4896-a5f7-1fec02e32230",
   "metadata": {},
   "outputs": [],
   "source": [
    "Q4. Explain with an example :\n",
    "    a. try and else\n",
    "    b. finally\n",
    "    c. raise"
   ]
  },
  {
   "cell_type": "code",
   "execution_count": null,
   "id": "42c45c6a-263d-4daf-a3a1-9335a026024c",
   "metadata": {},
   "outputs": [],
   "source": [
    "ANS: \n",
    "    a. Try:- This block will test the excepted error to occur.\n",
    "     example  shown in below:-\n"
   ]
  },
  {
   "cell_type": "code",
   "execution_count": 3,
   "id": "bb2b2390-8219-45a3-a699-5a88bd5b8cb5",
   "metadata": {},
   "outputs": [
    {
     "name": "stdout",
     "output_type": "stream",
     "text": [
      "Here 'try' is not printed because 'x' is not define anywhere\n"
     ]
    }
   ],
   "source": [
    "try:\n",
    "    print(x)\n",
    "except:\n",
    "      print(\"Here 'try' is not printed because 'x' is not define anywhere\")\n"
   ]
  },
  {
   "cell_type": "code",
   "execution_count": null,
   "id": "ce385c6c-56f0-479e-9745-c4d4dde2659e",
   "metadata": {},
   "outputs": [],
   "source": [
    "b. finally:- The finally block, if specified, will be executed regardless if the try block raises an error or not.\n",
    "             example  shown in below:-"
   ]
  },
  {
   "cell_type": "code",
   "execution_count": 6,
   "id": "38a359ec-253a-4c47-830f-255ef77276c1",
   "metadata": {},
   "outputs": [
    {
     "name": "stdout",
     "output_type": "stream",
     "text": [
      "Here 'except' execute because in try block 'x' is not define any where\n",
      "finally will execute itself in any situation\n"
     ]
    }
   ],
   "source": [
    "try:\n",
    "    print(x)\n",
    "except:\n",
    "    print(\"Here 'except' execute because in try block 'x' is not define any where\")\n",
    "finally:\n",
    "    print(\"finally will execute itself in any situation\")\n"
   ]
  },
  {
   "cell_type": "code",
   "execution_count": null,
   "id": "45ec35d5-5ecf-4f5e-b04b-9aad0cc5d28f",
   "metadata": {},
   "outputs": [],
   "source": [
    "c. raise:- The raise keyword is used to raise an exception.\n",
    "           You can define what kind of error to raise, and the text to print to the user.\n",
    "    example shown in below:-"
   ]
  },
  {
   "cell_type": "code",
   "execution_count": 7,
   "id": "db2ba17b-9eb3-46b9-ad92-18c2b2f2e935",
   "metadata": {},
   "outputs": [
    {
     "ename": "TypeError",
     "evalue": "Only integers are allowed",
     "output_type": "error",
     "traceback": [
      "\u001b[0;31m---------------------------------------------------------------------------\u001b[0m",
      "\u001b[0;31mTypeError\u001b[0m                                 Traceback (most recent call last)",
      "Cell \u001b[0;32mIn[7], line 4\u001b[0m\n\u001b[1;32m      1\u001b[0m x \u001b[38;5;241m=\u001b[39m \u001b[38;5;124m\"\u001b[39m\u001b[38;5;124mhello\u001b[39m\u001b[38;5;124m\"\u001b[39m\n\u001b[1;32m      3\u001b[0m \u001b[38;5;28;01mif\u001b[39;00m \u001b[38;5;129;01mnot\u001b[39;00m \u001b[38;5;28mtype\u001b[39m(x) \u001b[38;5;129;01mis\u001b[39;00m \u001b[38;5;28mint\u001b[39m:\n\u001b[0;32m----> 4\u001b[0m     \u001b[38;5;28;01mraise\u001b[39;00m \u001b[38;5;167;01mTypeError\u001b[39;00m(\u001b[38;5;124m\"\u001b[39m\u001b[38;5;124mOnly integers are allowed\u001b[39m\u001b[38;5;124m\"\u001b[39m)\n",
      "\u001b[0;31mTypeError\u001b[0m: Only integers are allowed"
     ]
    }
   ],
   "source": [
    "x = \"hello\"\n",
    "\n",
    "if not type(x) is int:\n",
    "    raise TypeError(\"Only integers are allowed\")\n"
   ]
  },
  {
   "cell_type": "code",
   "execution_count": null,
   "id": "6215eac4-e0a6-499e-953b-7e2e5789aab0",
   "metadata": {},
   "outputs": [],
   "source": [
    "Q5. What are custom Exceptions in python ? why do we need to custom Exceptions ? Explain with an example."
   ]
  },
  {
   "cell_type": "code",
   "execution_count": null,
   "id": "ccebf1a6-1df3-4efa-826a-6505f8b7b105",
   "metadata": {},
   "outputs": [],
   "source": [
    "ANS: custom exception:- Custom exceptions are also useful in object-oriented programming, where you may want to define exceptions that are specific to your classes. \n",
    "                        For example, if you are creating a banking application, you may want to define an exception that is raised when a user tries to withdraw\n",
    "                        more money than they have in their account. This exception can be defined as a custom exception, such as InsufficientFundsError, \n",
    "                        which makes it easier to handle this specific error condition.\n",
    "    \n",
    "    why we need to custom exception:- \n",
    "    Custom exceptions are helpful in many situations. They allow you to define your own error conditions and handle them in a more specific and meaningful way. \n",
    "    For example, let’s say you are writing a program that reads data from a file. If the file is not found, Python will raise a FileNotFoundError."
   ]
  },
  {
   "cell_type": "code",
   "execution_count": null,
   "id": "9e3b4f98-21d9-4653-b371-b408751b0af7",
   "metadata": {},
   "outputs": [],
   "source": [
    "Q6. Create a custom exception class.Use this class to handle an exception ."
   ]
  },
  {
   "cell_type": "code",
   "execution_count": 9,
   "id": "094c59ef-6c2e-41ef-bec4-f84a1167528c",
   "metadata": {},
   "outputs": [
    {
     "name": "stdin",
     "output_type": "stream",
     "text": [
      "Enter a number:  16\n"
     ]
    },
    {
     "name": "stdout",
     "output_type": "stream",
     "text": [
      "Exception occurred: Invalid Age\n"
     ]
    }
   ],
   "source": [
    "class InvalidAgeException(Exception):\n",
    "    \"Raised when the input value is less than 18\"\n",
    "    pass\n",
    "\n",
    "number = 18\n",
    "\n",
    "try:\n",
    "    input_num = int(input(\"Enter a number: \"))\n",
    "    if input_num < number:\n",
    "        raise InvalidAgeException\n",
    "    else:\n",
    "        print(\"Eligible to Vote\")\n",
    "        \n",
    "except InvalidAgeException:\n",
    "    print(\"Exception occurred: Invalid Age\")"
   ]
  },
  {
   "cell_type": "code",
   "execution_count": null,
   "id": "c0dcf8ad-b45f-4a52-9db8-f4be58195743",
   "metadata": {},
   "outputs": [],
   "source": []
  },
  {
   "cell_type": "code",
   "execution_count": null,
   "id": "19bdb11a-ff4d-4a26-879d-20727eb13f37",
   "metadata": {},
   "outputs": [],
   "source": []
  },
  {
   "cell_type": "code",
   "execution_count": null,
   "id": "978f3084-ca0e-4732-a195-2efa777a4a7b",
   "metadata": {},
   "outputs": [],
   "source": []
  }
 ],
 "metadata": {
  "kernelspec": {
   "display_name": "Python 3 (ipykernel)",
   "language": "python",
   "name": "python3"
  },
  "language_info": {
   "codemirror_mode": {
    "name": "ipython",
    "version": 3
   },
   "file_extension": ".py",
   "mimetype": "text/x-python",
   "name": "python",
   "nbconvert_exporter": "python",
   "pygments_lexer": "ipython3",
   "version": "3.10.8"
  }
 },
 "nbformat": 4,
 "nbformat_minor": 5
}
