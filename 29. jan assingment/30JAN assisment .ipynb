{
 "cells": [
  {
   "cell_type": "code",
   "execution_count": 4,
   "id": "fc9650b6-9021-4d89-ac33-d2dd4ab3482d",
   "metadata": {},
   "outputs": [],
   "source": [
    "#write a program to accept percentage from the user and display grade according to to the following criteria:\n",
    "    \n",
    "#Solution 1 \n",
    "      "
   ]
  },
  {
   "cell_type": "code",
   "execution_count": 5,
   "id": "5101e71d-14b4-4edf-8723-f0f5fe72aa73",
   "metadata": {},
   "outputs": [
    {
     "name": "stdin",
     "output_type": "stream",
     "text": [
      "Enter The Marks 45\n"
     ]
    },
    {
     "name": "stdout",
     "output_type": "stream",
     "text": [
      "You Got Grade D\n"
     ]
    }
   ],
   "source": [
    "marks = int(input(\"Enter The Marks\"))\n",
    "if marks>90:\n",
    "    print(\"You Got Grade A\")\n",
    "elif marks>80 and marks<=90:\n",
    "    print(\"You Goat Grade B\")\n",
    "elif marks>=60 and marks<=80:\n",
    "    print(\"You Got Grade C\")\n",
    "else:\n",
    "    print(\"You Got Grade D\")"
   ]
  },
  {
   "cell_type": "code",
   "execution_count": 6,
   "id": "3d2acd7f-7037-412e-be01-6ede00826576",
   "metadata": {},
   "outputs": [
    {
     "name": "stdin",
     "output_type": "stream",
     "text": [
      "Enter The  Price Of Bike: 50000\n"
     ]
    },
    {
     "name": "stdout",
     "output_type": "stream",
     "text": [
      "Total Road Tax You Have To pay: 2500.0\n"
     ]
    }
   ],
   "source": [
    "Tax = 0\n",
    "cost_price= int(input(\"Enter The  Price Of Bike:\"))\n",
    "if cost_price>100000:\n",
    "    Tax = 15/100*cost_price\n",
    "elif cost_price>50000 and cost_price <=100000 :\n",
    "    Tax = 10/100*cost_price\n",
    "else:\n",
    "    Tax=5/100*cost_price\n",
    "    \n",
    "print(\"Total Road Tax You Have To pay:\",Tax )"
   ]
  },
  {
   "cell_type": "code",
   "execution_count": null,
   "id": "c4b8f037-d734-4f07-b7b8-92e809bd88e1",
   "metadata": {},
   "outputs": [],
   "source": [
    "solution 3"
   ]
  },
  {
   "cell_type": "code",
   "execution_count": 7,
   "id": "0d37337d-7fb7-4a19-b2a1-e426041d218c",
   "metadata": {},
   "outputs": [
    {
     "name": "stdin",
     "output_type": "stream",
     "text": [
      "Enter The City Name delhi\n"
     ]
    },
    {
     "name": "stdout",
     "output_type": "stream",
     "text": [
      "The Monument Which Is Present In Delhi is : Red Fort\n"
     ]
    }
   ],
   "source": [
    "City_Name = input(\"Enter The City Name\")\n",
    "if  City_Name.upper()== \"DELHI\":\n",
    "    print(\"The Monument Which Is Present In Delhi is : Red Fort\")\n",
    "elif City_Name.upper()== \"AGRA\" :\n",
    "    print(\"The Monument Which Is Present In Agra is : Taj Mahal\")\n",
    "elif City_Name.upper()== \"JAIPUR\" :\n",
    "    print(\"The Monument Which Is Present In Jaipur is : Jai Mahal\")\n",
    "else:\n",
    "    print(\"Enter a Valid City\")"
   ]
  },
  {
   "cell_type": "code",
   "execution_count": null,
   "id": "2a615b56-37f2-4caf-b1ea-9b6a15353a40",
   "metadata": {},
   "outputs": [],
   "source": [
    "solution 4"
   ]
  },
  {
   "cell_type": "code",
   "execution_count": 8,
   "id": "4460f7ec-fcba-4ca4-aba8-76673902ee03",
   "metadata": {},
   "outputs": [
    {
     "name": "stdin",
     "output_type": "stream",
     "text": [
      "Enter The Number : 180\n"
     ]
    },
    {
     "name": "stdout",
     "output_type": "stream",
     "text": [
      "The Number of Times the Given Number is Divided  : 3 Times\n"
     ]
    }
   ],
   "source": [
    "count=0\n",
    "Number=int(input(\"Enter The Number :\"))\n",
    "while Number> 10:\n",
    "           Number=Number/3\n",
    "           count=count+1\n",
    "print(\"The Number of Times the Given Number is Divided  :\",count ,\"Times\")\n",
    "           "
   ]
  },
  {
   "cell_type": "code",
   "execution_count": null,
   "id": "2c60c510-b901-40f0-b6bf-22298a931bb4",
   "metadata": {},
   "outputs": [],
   "source": [
    "solution 5"
   ]
  },
  {
   "cell_type": "code",
   "execution_count": null,
   "id": "2988f156-b5e8-4d87-a8fe-2d18ff745360",
   "metadata": {},
   "outputs": [],
   "source": [
    "In Python programming, we use while loops to do a task a certain number of times repeatedly. \n",
    "The while loop checks a condition and executes the task as long as that condition is satisfied.\n",
    "The loop will stop its execution once the condition becomes not satisfied.\n",
    "example shown in below:-"
   ]
  },
  {
   "cell_type": "code",
   "execution_count": 9,
   "id": "c57c0752-3687-48b2-9dad-46183a03e2dc",
   "metadata": {},
   "outputs": [
    {
     "name": "stdout",
     "output_type": "stream",
     "text": [
      "[0, 1, 2, 3]\n"
     ]
    }
   ],
   "source": [
    "My_List = []\n",
    "i = 0 \n",
    "while len(My_List) < 4 :\n",
    "    My_List.append(i)\n",
    "    i=i+1\n",
    "print(My_List)"
   ]
  },
  {
   "cell_type": "code",
   "execution_count": null,
   "id": "8fe84364-db55-4ac9-8538-fc0b8b1164d4",
   "metadata": {},
   "outputs": [],
   "source": [
    "solution 6"
   ]
  },
  {
   "cell_type": "code",
   "execution_count": 10,
   "id": "f0768479-af48-4232-9a9e-b1de97c1927d",
   "metadata": {},
   "outputs": [
    {
     "name": "stdout",
     "output_type": "stream",
     "text": [
      "1 \n",
      "1 2 \n",
      "1 2 3 \n",
      "1 2 3 4 \n",
      "1 2 3 4 5 \n"
     ]
    }
   ],
   "source": [
    "i=1\n",
    "while i<=5:\n",
    "    j=1\n",
    "    while j<=i:\n",
    "        print(j,end=\" \")\n",
    "        j=j+1\n",
    "    print(\"\")\n",
    "    i=i+1"
   ]
  },
  {
   "cell_type": "code",
   "execution_count": null,
   "id": "c30c1caf-8866-4436-8489-10aa682c3fe4",
   "metadata": {},
   "outputs": [],
   "source": [
    "solution 7"
   ]
  },
  {
   "cell_type": "code",
   "execution_count": 11,
   "id": "54735d45-7864-406b-9f3c-132cd42f8314",
   "metadata": {},
   "outputs": [
    {
     "name": "stdout",
     "output_type": "stream",
     "text": [
      "10\n",
      "9\n",
      "8\n",
      "7\n",
      "6\n",
      "5\n",
      "4\n",
      "3\n",
      "2\n",
      "1\n"
     ]
    }
   ],
   "source": [
    "x = 10\n",
    "while x > 0:\n",
    "    print(x)\n",
    "    x -= 1"
   ]
  }
 ],
 "metadata": {
  "kernelspec": {
   "display_name": "Python 3 (ipykernel)",
   "language": "python",
   "name": "python3"
  },
  "language_info": {
   "codemirror_mode": {
    "name": "ipython",
    "version": 3
   },
   "file_extension": ".py",
   "mimetype": "text/x-python",
   "name": "python",
   "nbconvert_exporter": "python",
   "pygments_lexer": "ipython3",
   "version": "3.10.8"
  }
 },
 "nbformat": 4,
 "nbformat_minor": 5
}
